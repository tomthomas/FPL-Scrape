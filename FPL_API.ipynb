{
  "nbformat": 4,
  "nbformat_minor": 0,
  "metadata": {
    "kernelspec": {
      "display_name": "Python 3",
      "language": "python",
      "name": "python3"
    },
    "language_info": {
      "codemirror_mode": {
        "name": "ipython",
        "version": 3
      },
      "file_extension": ".py",
      "mimetype": "text/x-python",
      "name": "python",
      "nbconvert_exporter": "python",
      "pygments_lexer": "ipython3",
      "version": "3.7.9"
    },
    "colab": {
      "name": "FPL API.ipynb",
      "provenance": [],
      "collapsed_sections": [
        "ZSiMqky4y9eb",
        "eLZcjyjDy9eh",
        "T6JrrfAuy9ei",
        "vi6t89cTy9ei",
        "ebB_jGmly9en",
        "Y8LK-CXPy9er",
        "H2YDOS1Ry9er",
        "u-dARHkhy9ey",
        "TgMbGr2hy9e5",
        "cRQoQ6Q9y9e-"
      ],
      "include_colab_link": true
    }
  },
  "cells": [
    {
      "cell_type": "markdown",
      "metadata": {
        "id": "view-in-github",
        "colab_type": "text"
      },
      "source": [
        "<a href=\"https://colab.research.google.com/github/tomthomas/FPL-Scrape/blob/main/FPL_API.ipynb\" target=\"_parent\"><img src=\"https://colab.research.google.com/assets/colab-badge.svg\" alt=\"Open In Colab\"/></a>"
      ]
    },
    {
      "cell_type": "code",
      "metadata": {
        "id": "j1wVO2mOy9d0"
      },
      "source": [
        "import requests\n",
        "import pandas as pd\n",
        "import numpy as np\n",
        "import json"
      ],
      "execution_count": 1,
      "outputs": []
    },
    {
      "cell_type": "markdown",
      "metadata": {
        "id": "UxsPrxrHy9d7"
      },
      "source": [
        "#### Get URL"
      ]
    },
    {
      "cell_type": "code",
      "metadata": {
        "id": "zDtj3sPEy9d-"
      },
      "source": [
        "url = 'https://fantasy.premierleague.com/api/bootstrap-static/'"
      ],
      "execution_count": 2,
      "outputs": []
    },
    {
      "cell_type": "code",
      "metadata": {
        "id": "8tW3bC5nlqcn"
      },
      "source": [
        "url2 = 'https://github.com/statsbomb/open-data/blob/master/data/competitions.json'"
      ],
      "execution_count": null,
      "outputs": []
    },
    {
      "cell_type": "code",
      "metadata": {
        "colab": {
          "base_uri": "https://localhost:8080/",
          "height": 297
        },
        "id": "_hJhI72-mWI_",
        "outputId": "990ce9ba-2db7-476f-ddfd-4ac78d9cb4f8"
      },
      "source": [
        "stat_dict = json.loads(url2)"
      ],
      "execution_count": null,
      "outputs": [
        {
          "output_type": "error",
          "ename": "JSONDecodeError",
          "evalue": "ignored",
          "traceback": [
            "\u001b[0;31m---------------------------------------------------------------------------\u001b[0m",
            "\u001b[0;31mJSONDecodeError\u001b[0m                           Traceback (most recent call last)",
            "\u001b[0;32m<ipython-input-4-a0138471edbf>\u001b[0m in \u001b[0;36m<module>\u001b[0;34m()\u001b[0m\n\u001b[0;32m----> 1\u001b[0;31m \u001b[0mstat_dict\u001b[0m \u001b[0;34m=\u001b[0m \u001b[0mjson\u001b[0m\u001b[0;34m.\u001b[0m\u001b[0mloads\u001b[0m\u001b[0;34m(\u001b[0m\u001b[0murl2\u001b[0m\u001b[0;34m)\u001b[0m\u001b[0;34m\u001b[0m\u001b[0;34m\u001b[0m\u001b[0m\n\u001b[0m",
            "\u001b[0;32m/usr/lib/python3.6/json/__init__.py\u001b[0m in \u001b[0;36mloads\u001b[0;34m(s, encoding, cls, object_hook, parse_float, parse_int, parse_constant, object_pairs_hook, **kw)\u001b[0m\n\u001b[1;32m    352\u001b[0m             \u001b[0mparse_int\u001b[0m \u001b[0;32mis\u001b[0m \u001b[0;32mNone\u001b[0m \u001b[0;32mand\u001b[0m \u001b[0mparse_float\u001b[0m \u001b[0;32mis\u001b[0m \u001b[0;32mNone\u001b[0m \u001b[0;32mand\u001b[0m\u001b[0;34m\u001b[0m\u001b[0;34m\u001b[0m\u001b[0m\n\u001b[1;32m    353\u001b[0m             parse_constant is None and object_pairs_hook is None and not kw):\n\u001b[0;32m--> 354\u001b[0;31m         \u001b[0;32mreturn\u001b[0m \u001b[0m_default_decoder\u001b[0m\u001b[0;34m.\u001b[0m\u001b[0mdecode\u001b[0m\u001b[0;34m(\u001b[0m\u001b[0ms\u001b[0m\u001b[0;34m)\u001b[0m\u001b[0;34m\u001b[0m\u001b[0;34m\u001b[0m\u001b[0m\n\u001b[0m\u001b[1;32m    355\u001b[0m     \u001b[0;32mif\u001b[0m \u001b[0mcls\u001b[0m \u001b[0;32mis\u001b[0m \u001b[0;32mNone\u001b[0m\u001b[0;34m:\u001b[0m\u001b[0;34m\u001b[0m\u001b[0;34m\u001b[0m\u001b[0m\n\u001b[1;32m    356\u001b[0m         \u001b[0mcls\u001b[0m \u001b[0;34m=\u001b[0m \u001b[0mJSONDecoder\u001b[0m\u001b[0;34m\u001b[0m\u001b[0;34m\u001b[0m\u001b[0m\n",
            "\u001b[0;32m/usr/lib/python3.6/json/decoder.py\u001b[0m in \u001b[0;36mdecode\u001b[0;34m(self, s, _w)\u001b[0m\n\u001b[1;32m    337\u001b[0m \u001b[0;34m\u001b[0m\u001b[0m\n\u001b[1;32m    338\u001b[0m         \"\"\"\n\u001b[0;32m--> 339\u001b[0;31m         \u001b[0mobj\u001b[0m\u001b[0;34m,\u001b[0m \u001b[0mend\u001b[0m \u001b[0;34m=\u001b[0m \u001b[0mself\u001b[0m\u001b[0;34m.\u001b[0m\u001b[0mraw_decode\u001b[0m\u001b[0;34m(\u001b[0m\u001b[0ms\u001b[0m\u001b[0;34m,\u001b[0m \u001b[0midx\u001b[0m\u001b[0;34m=\u001b[0m\u001b[0m_w\u001b[0m\u001b[0;34m(\u001b[0m\u001b[0ms\u001b[0m\u001b[0;34m,\u001b[0m \u001b[0;36m0\u001b[0m\u001b[0;34m)\u001b[0m\u001b[0;34m.\u001b[0m\u001b[0mend\u001b[0m\u001b[0;34m(\u001b[0m\u001b[0;34m)\u001b[0m\u001b[0;34m)\u001b[0m\u001b[0;34m\u001b[0m\u001b[0;34m\u001b[0m\u001b[0m\n\u001b[0m\u001b[1;32m    340\u001b[0m         \u001b[0mend\u001b[0m \u001b[0;34m=\u001b[0m \u001b[0m_w\u001b[0m\u001b[0;34m(\u001b[0m\u001b[0ms\u001b[0m\u001b[0;34m,\u001b[0m \u001b[0mend\u001b[0m\u001b[0;34m)\u001b[0m\u001b[0;34m.\u001b[0m\u001b[0mend\u001b[0m\u001b[0;34m(\u001b[0m\u001b[0;34m)\u001b[0m\u001b[0;34m\u001b[0m\u001b[0;34m\u001b[0m\u001b[0m\n\u001b[1;32m    341\u001b[0m         \u001b[0;32mif\u001b[0m \u001b[0mend\u001b[0m \u001b[0;34m!=\u001b[0m \u001b[0mlen\u001b[0m\u001b[0;34m(\u001b[0m\u001b[0ms\u001b[0m\u001b[0;34m)\u001b[0m\u001b[0;34m:\u001b[0m\u001b[0;34m\u001b[0m\u001b[0;34m\u001b[0m\u001b[0m\n",
            "\u001b[0;32m/usr/lib/python3.6/json/decoder.py\u001b[0m in \u001b[0;36mraw_decode\u001b[0;34m(self, s, idx)\u001b[0m\n\u001b[1;32m    355\u001b[0m             \u001b[0mobj\u001b[0m\u001b[0;34m,\u001b[0m \u001b[0mend\u001b[0m \u001b[0;34m=\u001b[0m \u001b[0mself\u001b[0m\u001b[0;34m.\u001b[0m\u001b[0mscan_once\u001b[0m\u001b[0;34m(\u001b[0m\u001b[0ms\u001b[0m\u001b[0;34m,\u001b[0m \u001b[0midx\u001b[0m\u001b[0;34m)\u001b[0m\u001b[0;34m\u001b[0m\u001b[0;34m\u001b[0m\u001b[0m\n\u001b[1;32m    356\u001b[0m         \u001b[0;32mexcept\u001b[0m \u001b[0mStopIteration\u001b[0m \u001b[0;32mas\u001b[0m \u001b[0merr\u001b[0m\u001b[0;34m:\u001b[0m\u001b[0;34m\u001b[0m\u001b[0;34m\u001b[0m\u001b[0m\n\u001b[0;32m--> 357\u001b[0;31m             \u001b[0;32mraise\u001b[0m \u001b[0mJSONDecodeError\u001b[0m\u001b[0;34m(\u001b[0m\u001b[0;34m\"Expecting value\"\u001b[0m\u001b[0;34m,\u001b[0m \u001b[0ms\u001b[0m\u001b[0;34m,\u001b[0m \u001b[0merr\u001b[0m\u001b[0;34m.\u001b[0m\u001b[0mvalue\u001b[0m\u001b[0;34m)\u001b[0m \u001b[0;32mfrom\u001b[0m \u001b[0;32mNone\u001b[0m\u001b[0;34m\u001b[0m\u001b[0;34m\u001b[0m\u001b[0m\n\u001b[0m\u001b[1;32m    358\u001b[0m         \u001b[0;32mreturn\u001b[0m \u001b[0mobj\u001b[0m\u001b[0;34m,\u001b[0m \u001b[0mend\u001b[0m\u001b[0;34m\u001b[0m\u001b[0;34m\u001b[0m\u001b[0m\n",
            "\u001b[0;31mJSONDecodeError\u001b[0m: Expecting value: line 1 column 1 (char 0)"
          ]
        }
      ]
    },
    {
      "cell_type": "code",
      "metadata": {
        "id": "H2TrSmaylqSE"
      },
      "source": [
        "r2 = requests.get(url2)"
      ],
      "execution_count": null,
      "outputs": []
    },
    {
      "cell_type": "markdown",
      "metadata": {
        "id": "EG8kl4cMy9d_"
      },
      "source": [
        "#### GET Request"
      ]
    },
    {
      "cell_type": "code",
      "metadata": {
        "id": "Ql4WuQcUy9eB"
      },
      "source": [
        "r = requests.get(url)"
      ],
      "execution_count": 3,
      "outputs": []
    },
    {
      "cell_type": "code",
      "metadata": {
        "id": "n3ZAa3Kql7j9"
      },
      "source": [
        "json2 = r.json()"
      ],
      "execution_count": null,
      "outputs": []
    },
    {
      "cell_type": "markdown",
      "metadata": {
        "id": "NI23IJtey9eC"
      },
      "source": [
        "#### Convert to JSON Object"
      ]
    },
    {
      "cell_type": "code",
      "metadata": {
        "id": "WEUpvA-jy9eE"
      },
      "source": [
        "json = r.json()"
      ],
      "execution_count": 4,
      "outputs": []
    },
    {
      "cell_type": "markdown",
      "metadata": {
        "id": "xpXPxbO0y9eF"
      },
      "source": [
        "#### Look at JSON Keys"
      ]
    },
    {
      "cell_type": "code",
      "metadata": {
        "colab": {
          "base_uri": "https://localhost:8080/"
        },
        "id": "7nbrBhjvy9eH",
        "outputId": "8171089c-d459-4c0d-e206-fadd4ec693e6"
      },
      "source": [
        "json.keys()"
      ],
      "execution_count": 5,
      "outputs": [
        {
          "output_type": "execute_result",
          "data": {
            "text/plain": [
              "dict_keys(['events', 'game_settings', 'phases', 'teams', 'total_players', 'elements', 'element_stats', 'element_types'])"
            ]
          },
          "metadata": {
            "tags": []
          },
          "execution_count": 5
        }
      ]
    },
    {
      "cell_type": "markdown",
      "metadata": {
        "id": "50s0DVady9eJ"
      },
      "source": [
        "#### Focus on 3 keys - elements, element_types, teams"
      ]
    },
    {
      "cell_type": "markdown",
      "metadata": {
        "id": "RqyRcsbGy9eK"
      },
      "source": [
        "### Create dataframes"
      ]
    },
    {
      "cell_type": "code",
      "metadata": {
        "id": "qtYUFhBFMys4"
      },
      "source": [
        ""
      ],
      "execution_count": null,
      "outputs": []
    },
    {
      "cell_type": "code",
      "metadata": {
        "id": "9ZfNbFK4y9eL"
      },
      "source": [
        "elements_df           = pd.DataFrame(json['elements'])\n",
        "element_types_df      = pd.DataFrame(json['element_types'])\n",
        "teams_df              = pd.DataFrame(json['teams'])\n",
        "events_df             = pd.DataFrame(json['events'])\n",
        "element_stats_df      = pd.DataFrame(json['element_stats'])"
      ],
      "execution_count": 6,
      "outputs": []
    },
    {
      "cell_type": "markdown",
      "metadata": {
        "id": "bcMtFvo3y9eN"
      },
      "source": [
        "#### Preview Head"
      ]
    },
    {
      "cell_type": "code",
      "metadata": {
        "colab": {
          "base_uri": "https://localhost:8080/",
          "height": 445
        },
        "id": "KQx1P6Ryy9eO",
        "outputId": "d707a023-9c59-4e26-8db4-54ead50ac01c"
      },
      "source": [
        "elements_df.head()"
      ],
      "execution_count": null,
      "outputs": [
        {
          "output_type": "execute_result",
          "data": {
            "text/html": [
              "<div>\n",
              "<style scoped>\n",
              "    .dataframe tbody tr th:only-of-type {\n",
              "        vertical-align: middle;\n",
              "    }\n",
              "\n",
              "    .dataframe tbody tr th {\n",
              "        vertical-align: top;\n",
              "    }\n",
              "\n",
              "    .dataframe thead th {\n",
              "        text-align: right;\n",
              "    }\n",
              "</style>\n",
              "<table border=\"1\" class=\"dataframe\">\n",
              "  <thead>\n",
              "    <tr style=\"text-align: right;\">\n",
              "      <th></th>\n",
              "      <th>chance_of_playing_next_round</th>\n",
              "      <th>chance_of_playing_this_round</th>\n",
              "      <th>code</th>\n",
              "      <th>cost_change_event</th>\n",
              "      <th>cost_change_event_fall</th>\n",
              "      <th>cost_change_start</th>\n",
              "      <th>cost_change_start_fall</th>\n",
              "      <th>dreamteam_count</th>\n",
              "      <th>element_type</th>\n",
              "      <th>ep_next</th>\n",
              "      <th>ep_this</th>\n",
              "      <th>event_points</th>\n",
              "      <th>first_name</th>\n",
              "      <th>form</th>\n",
              "      <th>id</th>\n",
              "      <th>in_dreamteam</th>\n",
              "      <th>news</th>\n",
              "      <th>news_added</th>\n",
              "      <th>now_cost</th>\n",
              "      <th>photo</th>\n",
              "      <th>points_per_game</th>\n",
              "      <th>second_name</th>\n",
              "      <th>selected_by_percent</th>\n",
              "      <th>special</th>\n",
              "      <th>squad_number</th>\n",
              "      <th>status</th>\n",
              "      <th>team</th>\n",
              "      <th>team_code</th>\n",
              "      <th>total_points</th>\n",
              "      <th>transfers_in</th>\n",
              "      <th>transfers_in_event</th>\n",
              "      <th>transfers_out</th>\n",
              "      <th>transfers_out_event</th>\n",
              "      <th>value_form</th>\n",
              "      <th>value_season</th>\n",
              "      <th>web_name</th>\n",
              "      <th>minutes</th>\n",
              "      <th>goals_scored</th>\n",
              "      <th>assists</th>\n",
              "      <th>clean_sheets</th>\n",
              "      <th>goals_conceded</th>\n",
              "      <th>own_goals</th>\n",
              "      <th>penalties_saved</th>\n",
              "      <th>penalties_missed</th>\n",
              "      <th>yellow_cards</th>\n",
              "      <th>red_cards</th>\n",
              "      <th>saves</th>\n",
              "      <th>bonus</th>\n",
              "      <th>bps</th>\n",
              "      <th>influence</th>\n",
              "      <th>creativity</th>\n",
              "      <th>threat</th>\n",
              "      <th>ict_index</th>\n",
              "      <th>influence_rank</th>\n",
              "      <th>influence_rank_type</th>\n",
              "      <th>creativity_rank</th>\n",
              "      <th>creativity_rank_type</th>\n",
              "      <th>threat_rank</th>\n",
              "      <th>threat_rank_type</th>\n",
              "      <th>ict_index_rank</th>\n",
              "      <th>ict_index_rank_type</th>\n",
              "      <th>corners_and_indirect_freekicks_order</th>\n",
              "      <th>corners_and_indirect_freekicks_text</th>\n",
              "      <th>direct_freekicks_order</th>\n",
              "      <th>direct_freekicks_text</th>\n",
              "      <th>penalties_order</th>\n",
              "      <th>penalties_text</th>\n",
              "    </tr>\n",
              "  </thead>\n",
              "  <tbody>\n",
              "    <tr>\n",
              "      <th>0</th>\n",
              "      <td>0.0</td>\n",
              "      <td>0.0</td>\n",
              "      <td>37605</td>\n",
              "      <td>0</td>\n",
              "      <td>0</td>\n",
              "      <td>-3</td>\n",
              "      <td>3</td>\n",
              "      <td>0</td>\n",
              "      <td>3</td>\n",
              "      <td>0.0</td>\n",
              "      <td>0.0</td>\n",
              "      <td>0</td>\n",
              "      <td>Mesut</td>\n",
              "      <td>0.0</td>\n",
              "      <td>1</td>\n",
              "      <td>False</td>\n",
              "      <td>Not included in Arsenal's 25-man Premier Leagu...</td>\n",
              "      <td>2020-10-20T22:30:18.118477Z</td>\n",
              "      <td>67</td>\n",
              "      <td>37605.jpg</td>\n",
              "      <td>0.0</td>\n",
              "      <td>Özil</td>\n",
              "      <td>0.5</td>\n",
              "      <td>False</td>\n",
              "      <td>None</td>\n",
              "      <td>u</td>\n",
              "      <td>1</td>\n",
              "      <td>3</td>\n",
              "      <td>0</td>\n",
              "      <td>3441</td>\n",
              "      <td>0</td>\n",
              "      <td>54554</td>\n",
              "      <td>55</td>\n",
              "      <td>0.0</td>\n",
              "      <td>0.0</td>\n",
              "      <td>Özil</td>\n",
              "      <td>0</td>\n",
              "      <td>0</td>\n",
              "      <td>0</td>\n",
              "      <td>0</td>\n",
              "      <td>0</td>\n",
              "      <td>0</td>\n",
              "      <td>0</td>\n",
              "      <td>0</td>\n",
              "      <td>0</td>\n",
              "      <td>0</td>\n",
              "      <td>0</td>\n",
              "      <td>0</td>\n",
              "      <td>0</td>\n",
              "      <td>0.0</td>\n",
              "      <td>0.0</td>\n",
              "      <td>0.0</td>\n",
              "      <td>0.0</td>\n",
              "      <td>685</td>\n",
              "      <td>278</td>\n",
              "      <td>685</td>\n",
              "      <td>278</td>\n",
              "      <td>685</td>\n",
              "      <td>278</td>\n",
              "      <td>685</td>\n",
              "      <td>278</td>\n",
              "      <td>NaN</td>\n",
              "      <td></td>\n",
              "      <td>NaN</td>\n",
              "      <td></td>\n",
              "      <td>NaN</td>\n",
              "      <td></td>\n",
              "    </tr>\n",
              "    <tr>\n",
              "      <th>1</th>\n",
              "      <td>0.0</td>\n",
              "      <td>0.0</td>\n",
              "      <td>39476</td>\n",
              "      <td>0</td>\n",
              "      <td>0</td>\n",
              "      <td>-2</td>\n",
              "      <td>2</td>\n",
              "      <td>0</td>\n",
              "      <td>2</td>\n",
              "      <td>0.0</td>\n",
              "      <td>0.0</td>\n",
              "      <td>0</td>\n",
              "      <td>Sokratis</td>\n",
              "      <td>0.0</td>\n",
              "      <td>2</td>\n",
              "      <td>False</td>\n",
              "      <td>Left the club by mutual consent on 20/1</td>\n",
              "      <td>2020-10-21T10:30:18.546407Z</td>\n",
              "      <td>48</td>\n",
              "      <td>39476.jpg</td>\n",
              "      <td>0.0</td>\n",
              "      <td>Papastathopoulos</td>\n",
              "      <td>0.1</td>\n",
              "      <td>False</td>\n",
              "      <td>None</td>\n",
              "      <td>u</td>\n",
              "      <td>1</td>\n",
              "      <td>3</td>\n",
              "      <td>0</td>\n",
              "      <td>10266</td>\n",
              "      <td>0</td>\n",
              "      <td>19094</td>\n",
              "      <td>9</td>\n",
              "      <td>0.0</td>\n",
              "      <td>0.0</td>\n",
              "      <td>Sokratis</td>\n",
              "      <td>0</td>\n",
              "      <td>0</td>\n",
              "      <td>0</td>\n",
              "      <td>0</td>\n",
              "      <td>0</td>\n",
              "      <td>0</td>\n",
              "      <td>0</td>\n",
              "      <td>0</td>\n",
              "      <td>0</td>\n",
              "      <td>0</td>\n",
              "      <td>0</td>\n",
              "      <td>0</td>\n",
              "      <td>0</td>\n",
              "      <td>0.0</td>\n",
              "      <td>0.0</td>\n",
              "      <td>0.0</td>\n",
              "      <td>0.0</td>\n",
              "      <td>648</td>\n",
              "      <td>232</td>\n",
              "      <td>640</td>\n",
              "      <td>233</td>\n",
              "      <td>632</td>\n",
              "      <td>230</td>\n",
              "      <td>651</td>\n",
              "      <td>232</td>\n",
              "      <td>NaN</td>\n",
              "      <td></td>\n",
              "      <td>NaN</td>\n",
              "      <td></td>\n",
              "      <td>NaN</td>\n",
              "      <td></td>\n",
              "    </tr>\n",
              "    <tr>\n",
              "      <th>2</th>\n",
              "      <td>100.0</td>\n",
              "      <td>100.0</td>\n",
              "      <td>41270</td>\n",
              "      <td>0</td>\n",
              "      <td>0</td>\n",
              "      <td>-1</td>\n",
              "      <td>1</td>\n",
              "      <td>0</td>\n",
              "      <td>2</td>\n",
              "      <td>3.0</td>\n",
              "      <td>3.5</td>\n",
              "      <td>2</td>\n",
              "      <td>David</td>\n",
              "      <td>3.0</td>\n",
              "      <td>3</td>\n",
              "      <td>False</td>\n",
              "      <td></td>\n",
              "      <td>2021-02-02T20:30:22.388696Z</td>\n",
              "      <td>54</td>\n",
              "      <td>41270.jpg</td>\n",
              "      <td>2.2</td>\n",
              "      <td>Luiz Moreira Marinho</td>\n",
              "      <td>0.8</td>\n",
              "      <td>False</td>\n",
              "      <td>None</td>\n",
              "      <td>a</td>\n",
              "      <td>1</td>\n",
              "      <td>3</td>\n",
              "      <td>37</td>\n",
              "      <td>62166</td>\n",
              "      <td>1409</td>\n",
              "      <td>108690</td>\n",
              "      <td>2660</td>\n",
              "      <td>0.6</td>\n",
              "      <td>6.9</td>\n",
              "      <td>David Luiz</td>\n",
              "      <td>1164</td>\n",
              "      <td>1</td>\n",
              "      <td>0</td>\n",
              "      <td>3</td>\n",
              "      <td>16</td>\n",
              "      <td>0</td>\n",
              "      <td>0</td>\n",
              "      <td>0</td>\n",
              "      <td>1</td>\n",
              "      <td>1</td>\n",
              "      <td>0</td>\n",
              "      <td>0</td>\n",
              "      <td>192</td>\n",
              "      <td>206.8</td>\n",
              "      <td>43.2</td>\n",
              "      <td>111.0</td>\n",
              "      <td>35.8</td>\n",
              "      <td>231</td>\n",
              "      <td>93</td>\n",
              "      <td>319</td>\n",
              "      <td>103</td>\n",
              "      <td>221</td>\n",
              "      <td>60</td>\n",
              "      <td>283</td>\n",
              "      <td>95</td>\n",
              "      <td>NaN</td>\n",
              "      <td></td>\n",
              "      <td>4.0</td>\n",
              "      <td></td>\n",
              "      <td>NaN</td>\n",
              "      <td></td>\n",
              "    </tr>\n",
              "    <tr>\n",
              "      <th>3</th>\n",
              "      <td>100.0</td>\n",
              "      <td>100.0</td>\n",
              "      <td>54694</td>\n",
              "      <td>1</td>\n",
              "      <td>-1</td>\n",
              "      <td>-6</td>\n",
              "      <td>6</td>\n",
              "      <td>2</td>\n",
              "      <td>3</td>\n",
              "      <td>7.8</td>\n",
              "      <td>8.3</td>\n",
              "      <td>8</td>\n",
              "      <td>Pierre-Emerick</td>\n",
              "      <td>7.8</td>\n",
              "      <td>4</td>\n",
              "      <td>False</td>\n",
              "      <td></td>\n",
              "      <td>2021-01-23T16:00:22.555453Z</td>\n",
              "      <td>114</td>\n",
              "      <td>54694.jpg</td>\n",
              "      <td>4.5</td>\n",
              "      <td>Aubameyang</td>\n",
              "      <td>8.0</td>\n",
              "      <td>False</td>\n",
              "      <td>None</td>\n",
              "      <td>a</td>\n",
              "      <td>1</td>\n",
              "      <td>3</td>\n",
              "      <td>104</td>\n",
              "      <td>761889</td>\n",
              "      <td>57288</td>\n",
              "      <td>3333726</td>\n",
              "      <td>16724</td>\n",
              "      <td>0.7</td>\n",
              "      <td>9.1</td>\n",
              "      <td>Aubameyang</td>\n",
              "      <td>1851</td>\n",
              "      <td>9</td>\n",
              "      <td>1</td>\n",
              "      <td>7</td>\n",
              "      <td>20</td>\n",
              "      <td>1</td>\n",
              "      <td>0</td>\n",
              "      <td>0</td>\n",
              "      <td>2</td>\n",
              "      <td>0</td>\n",
              "      <td>0</td>\n",
              "      <td>10</td>\n",
              "      <td>288</td>\n",
              "      <td>408.4</td>\n",
              "      <td>260.9</td>\n",
              "      <td>723.0</td>\n",
              "      <td>139.0</td>\n",
              "      <td>101</td>\n",
              "      <td>33</td>\n",
              "      <td>98</td>\n",
              "      <td>68</td>\n",
              "      <td>22</td>\n",
              "      <td>13</td>\n",
              "      <td>36</td>\n",
              "      <td>24</td>\n",
              "      <td>NaN</td>\n",
              "      <td></td>\n",
              "      <td>NaN</td>\n",
              "      <td></td>\n",
              "      <td>1.0</td>\n",
              "      <td></td>\n",
              "    </tr>\n",
              "    <tr>\n",
              "      <th>4</th>\n",
              "      <td>100.0</td>\n",
              "      <td>100.0</td>\n",
              "      <td>58822</td>\n",
              "      <td>0</td>\n",
              "      <td>0</td>\n",
              "      <td>-4</td>\n",
              "      <td>4</td>\n",
              "      <td>0</td>\n",
              "      <td>2</td>\n",
              "      <td>0.8</td>\n",
              "      <td>1.3</td>\n",
              "      <td>0</td>\n",
              "      <td>Cédric</td>\n",
              "      <td>0.8</td>\n",
              "      <td>5</td>\n",
              "      <td>False</td>\n",
              "      <td></td>\n",
              "      <td>2020-09-23T09:00:14.881983Z</td>\n",
              "      <td>46</td>\n",
              "      <td>58822.jpg</td>\n",
              "      <td>3.2</td>\n",
              "      <td>Soares</td>\n",
              "      <td>0.3</td>\n",
              "      <td>False</td>\n",
              "      <td>None</td>\n",
              "      <td>a</td>\n",
              "      <td>1</td>\n",
              "      <td>3</td>\n",
              "      <td>26</td>\n",
              "      <td>26715</td>\n",
              "      <td>203</td>\n",
              "      <td>49795</td>\n",
              "      <td>1264</td>\n",
              "      <td>0.2</td>\n",
              "      <td>5.7</td>\n",
              "      <td>Cédric</td>\n",
              "      <td>609</td>\n",
              "      <td>0</td>\n",
              "      <td>1</td>\n",
              "      <td>2</td>\n",
              "      <td>7</td>\n",
              "      <td>0</td>\n",
              "      <td>0</td>\n",
              "      <td>0</td>\n",
              "      <td>1</td>\n",
              "      <td>0</td>\n",
              "      <td>0</td>\n",
              "      <td>3</td>\n",
              "      <td>111</td>\n",
              "      <td>100.6</td>\n",
              "      <td>109.0</td>\n",
              "      <td>45.0</td>\n",
              "      <td>25.5</td>\n",
              "      <td>329</td>\n",
              "      <td>128</td>\n",
              "      <td>217</td>\n",
              "      <td>54</td>\n",
              "      <td>329</td>\n",
              "      <td>117</td>\n",
              "      <td>331</td>\n",
              "      <td>115</td>\n",
              "      <td>NaN</td>\n",
              "      <td></td>\n",
              "      <td>5.0</td>\n",
              "      <td></td>\n",
              "      <td>NaN</td>\n",
              "      <td></td>\n",
              "    </tr>\n",
              "  </tbody>\n",
              "</table>\n",
              "</div>"
            ],
            "text/plain": [
              "   chance_of_playing_next_round  ...  penalties_text\n",
              "0                           0.0  ...                \n",
              "1                           0.0  ...                \n",
              "2                         100.0  ...                \n",
              "3                         100.0  ...                \n",
              "4                         100.0  ...                \n",
              "\n",
              "[5 rows x 67 columns]"
            ]
          },
          "metadata": {
            "tags": []
          },
          "execution_count": 10
        }
      ]
    },
    {
      "cell_type": "code",
      "metadata": {
        "id": "yGKlYoBYy9eP",
        "colab": {
          "base_uri": "https://localhost:8080/",
          "height": 173
        },
        "outputId": "84bc240e-30c1-4a35-d561-6572ae1ffe01"
      },
      "source": [
        "element_types_df.head()"
      ],
      "execution_count": 7,
      "outputs": [
        {
          "output_type": "execute_result",
          "data": {
            "text/html": [
              "<div>\n",
              "<style scoped>\n",
              "    .dataframe tbody tr th:only-of-type {\n",
              "        vertical-align: middle;\n",
              "    }\n",
              "\n",
              "    .dataframe tbody tr th {\n",
              "        vertical-align: top;\n",
              "    }\n",
              "\n",
              "    .dataframe thead th {\n",
              "        text-align: right;\n",
              "    }\n",
              "</style>\n",
              "<table border=\"1\" class=\"dataframe\">\n",
              "  <thead>\n",
              "    <tr style=\"text-align: right;\">\n",
              "      <th></th>\n",
              "      <th>id</th>\n",
              "      <th>plural_name</th>\n",
              "      <th>plural_name_short</th>\n",
              "      <th>singular_name</th>\n",
              "      <th>singular_name_short</th>\n",
              "      <th>squad_select</th>\n",
              "      <th>squad_min_play</th>\n",
              "      <th>squad_max_play</th>\n",
              "      <th>ui_shirt_specific</th>\n",
              "      <th>sub_positions_locked</th>\n",
              "      <th>element_count</th>\n",
              "    </tr>\n",
              "  </thead>\n",
              "  <tbody>\n",
              "    <tr>\n",
              "      <th>0</th>\n",
              "      <td>1</td>\n",
              "      <td>Goalkeepers</td>\n",
              "      <td>GKP</td>\n",
              "      <td>Goalkeeper</td>\n",
              "      <td>GKP</td>\n",
              "      <td>2</td>\n",
              "      <td>1</td>\n",
              "      <td>1</td>\n",
              "      <td>True</td>\n",
              "      <td>[12]</td>\n",
              "      <td>80</td>\n",
              "    </tr>\n",
              "    <tr>\n",
              "      <th>1</th>\n",
              "      <td>2</td>\n",
              "      <td>Defenders</td>\n",
              "      <td>DEF</td>\n",
              "      <td>Defender</td>\n",
              "      <td>DEF</td>\n",
              "      <td>5</td>\n",
              "      <td>3</td>\n",
              "      <td>5</td>\n",
              "      <td>False</td>\n",
              "      <td>[]</td>\n",
              "      <td>239</td>\n",
              "    </tr>\n",
              "    <tr>\n",
              "      <th>2</th>\n",
              "      <td>3</td>\n",
              "      <td>Midfielders</td>\n",
              "      <td>MID</td>\n",
              "      <td>Midfielder</td>\n",
              "      <td>MID</td>\n",
              "      <td>5</td>\n",
              "      <td>2</td>\n",
              "      <td>5</td>\n",
              "      <td>False</td>\n",
              "      <td>[]</td>\n",
              "      <td>278</td>\n",
              "    </tr>\n",
              "    <tr>\n",
              "      <th>3</th>\n",
              "      <td>4</td>\n",
              "      <td>Forwards</td>\n",
              "      <td>FWD</td>\n",
              "      <td>Forward</td>\n",
              "      <td>FWD</td>\n",
              "      <td>3</td>\n",
              "      <td>1</td>\n",
              "      <td>3</td>\n",
              "      <td>False</td>\n",
              "      <td>[]</td>\n",
              "      <td>89</td>\n",
              "    </tr>\n",
              "  </tbody>\n",
              "</table>\n",
              "</div>"
            ],
            "text/plain": [
              "   id  plural_name  ... sub_positions_locked element_count\n",
              "0   1  Goalkeepers  ...                 [12]            80\n",
              "1   2    Defenders  ...                   []           239\n",
              "2   3  Midfielders  ...                   []           278\n",
              "3   4     Forwards  ...                   []            89\n",
              "\n",
              "[4 rows x 11 columns]"
            ]
          },
          "metadata": {
            "tags": []
          },
          "execution_count": 7
        }
      ]
    },
    {
      "cell_type": "code",
      "metadata": {
        "id": "nFKNzAR1y9eR",
        "colab": {
          "base_uri": "https://localhost:8080/",
          "height": 241
        },
        "outputId": "08c3e873-5e80-4134-d7db-33232c0efcee"
      },
      "source": [
        "teams_df.head()"
      ],
      "execution_count": null,
      "outputs": [
        {
          "output_type": "execute_result",
          "data": {
            "text/html": [
              "<div>\n",
              "<style scoped>\n",
              "    .dataframe tbody tr th:only-of-type {\n",
              "        vertical-align: middle;\n",
              "    }\n",
              "\n",
              "    .dataframe tbody tr th {\n",
              "        vertical-align: top;\n",
              "    }\n",
              "\n",
              "    .dataframe thead th {\n",
              "        text-align: right;\n",
              "    }\n",
              "</style>\n",
              "<table border=\"1\" class=\"dataframe\">\n",
              "  <thead>\n",
              "    <tr style=\"text-align: right;\">\n",
              "      <th></th>\n",
              "      <th>code</th>\n",
              "      <th>draw</th>\n",
              "      <th>form</th>\n",
              "      <th>id</th>\n",
              "      <th>loss</th>\n",
              "      <th>name</th>\n",
              "      <th>played</th>\n",
              "      <th>points</th>\n",
              "      <th>position</th>\n",
              "      <th>short_name</th>\n",
              "      <th>strength</th>\n",
              "      <th>team_division</th>\n",
              "      <th>unavailable</th>\n",
              "      <th>win</th>\n",
              "      <th>strength_overall_home</th>\n",
              "      <th>strength_overall_away</th>\n",
              "      <th>strength_attack_home</th>\n",
              "      <th>strength_attack_away</th>\n",
              "      <th>strength_defence_home</th>\n",
              "      <th>strength_defence_away</th>\n",
              "      <th>pulse_id</th>\n",
              "    </tr>\n",
              "  </thead>\n",
              "  <tbody>\n",
              "    <tr>\n",
              "      <th>0</th>\n",
              "      <td>3</td>\n",
              "      <td>0</td>\n",
              "      <td>None</td>\n",
              "      <td>1</td>\n",
              "      <td>0</td>\n",
              "      <td>Arsenal</td>\n",
              "      <td>0</td>\n",
              "      <td>0</td>\n",
              "      <td>0</td>\n",
              "      <td>ARS</td>\n",
              "      <td>4</td>\n",
              "      <td>None</td>\n",
              "      <td>False</td>\n",
              "      <td>0</td>\n",
              "      <td>1190</td>\n",
              "      <td>1210</td>\n",
              "      <td>1170</td>\n",
              "      <td>1210</td>\n",
              "      <td>1190</td>\n",
              "      <td>1200</td>\n",
              "      <td>1</td>\n",
              "    </tr>\n",
              "    <tr>\n",
              "      <th>1</th>\n",
              "      <td>7</td>\n",
              "      <td>0</td>\n",
              "      <td>None</td>\n",
              "      <td>2</td>\n",
              "      <td>0</td>\n",
              "      <td>Aston Villa</td>\n",
              "      <td>0</td>\n",
              "      <td>0</td>\n",
              "      <td>0</td>\n",
              "      <td>AVL</td>\n",
              "      <td>3</td>\n",
              "      <td>None</td>\n",
              "      <td>False</td>\n",
              "      <td>0</td>\n",
              "      <td>1150</td>\n",
              "      <td>1150</td>\n",
              "      <td>1150</td>\n",
              "      <td>1150</td>\n",
              "      <td>1180</td>\n",
              "      <td>1210</td>\n",
              "      <td>2</td>\n",
              "    </tr>\n",
              "    <tr>\n",
              "      <th>2</th>\n",
              "      <td>36</td>\n",
              "      <td>0</td>\n",
              "      <td>None</td>\n",
              "      <td>3</td>\n",
              "      <td>0</td>\n",
              "      <td>Brighton</td>\n",
              "      <td>0</td>\n",
              "      <td>0</td>\n",
              "      <td>0</td>\n",
              "      <td>BHA</td>\n",
              "      <td>3</td>\n",
              "      <td>None</td>\n",
              "      <td>False</td>\n",
              "      <td>0</td>\n",
              "      <td>1120</td>\n",
              "      <td>1100</td>\n",
              "      <td>1150</td>\n",
              "      <td>1180</td>\n",
              "      <td>1090</td>\n",
              "      <td>1100</td>\n",
              "      <td>131</td>\n",
              "    </tr>\n",
              "    <tr>\n",
              "      <th>3</th>\n",
              "      <td>90</td>\n",
              "      <td>0</td>\n",
              "      <td>None</td>\n",
              "      <td>4</td>\n",
              "      <td>0</td>\n",
              "      <td>Burnley</td>\n",
              "      <td>0</td>\n",
              "      <td>0</td>\n",
              "      <td>0</td>\n",
              "      <td>BUR</td>\n",
              "      <td>3</td>\n",
              "      <td>None</td>\n",
              "      <td>False</td>\n",
              "      <td>0</td>\n",
              "      <td>1070</td>\n",
              "      <td>1080</td>\n",
              "      <td>1120</td>\n",
              "      <td>1190</td>\n",
              "      <td>1010</td>\n",
              "      <td>1030</td>\n",
              "      <td>43</td>\n",
              "    </tr>\n",
              "    <tr>\n",
              "      <th>4</th>\n",
              "      <td>8</td>\n",
              "      <td>0</td>\n",
              "      <td>None</td>\n",
              "      <td>5</td>\n",
              "      <td>0</td>\n",
              "      <td>Chelsea</td>\n",
              "      <td>0</td>\n",
              "      <td>0</td>\n",
              "      <td>0</td>\n",
              "      <td>CHE</td>\n",
              "      <td>4</td>\n",
              "      <td>None</td>\n",
              "      <td>False</td>\n",
              "      <td>0</td>\n",
              "      <td>1250</td>\n",
              "      <td>1300</td>\n",
              "      <td>1240</td>\n",
              "      <td>1280</td>\n",
              "      <td>1270</td>\n",
              "      <td>1310</td>\n",
              "      <td>4</td>\n",
              "    </tr>\n",
              "  </tbody>\n",
              "</table>\n",
              "</div>"
            ],
            "text/plain": [
              "   code  draw  form  ...  strength_defence_home  strength_defence_away pulse_id\n",
              "0     3     0  None  ...                   1190                   1200        1\n",
              "1     7     0  None  ...                   1180                   1210        2\n",
              "2    36     0  None  ...                   1090                   1100      131\n",
              "3    90     0  None  ...                   1010                   1030       43\n",
              "4     8     0  None  ...                   1270                   1310        4\n",
              "\n",
              "[5 rows x 21 columns]"
            ]
          },
          "metadata": {
            "tags": []
          },
          "execution_count": 12
        }
      ]
    },
    {
      "cell_type": "code",
      "metadata": {
        "id": "u_2F0lEtQJkq",
        "colab": {
          "base_uri": "https://localhost:8080/",
          "height": 479
        },
        "outputId": "95c249bd-bb69-4a40-96fe-b60a630b8475"
      },
      "source": [
        "events_df.head()"
      ],
      "execution_count": null,
      "outputs": [
        {
          "output_type": "execute_result",
          "data": {
            "text/html": [
              "<div>\n",
              "<style scoped>\n",
              "    .dataframe tbody tr th:only-of-type {\n",
              "        vertical-align: middle;\n",
              "    }\n",
              "\n",
              "    .dataframe tbody tr th {\n",
              "        vertical-align: top;\n",
              "    }\n",
              "\n",
              "    .dataframe thead th {\n",
              "        text-align: right;\n",
              "    }\n",
              "</style>\n",
              "<table border=\"1\" class=\"dataframe\">\n",
              "  <thead>\n",
              "    <tr style=\"text-align: right;\">\n",
              "      <th></th>\n",
              "      <th>id</th>\n",
              "      <th>name</th>\n",
              "      <th>deadline_time</th>\n",
              "      <th>average_entry_score</th>\n",
              "      <th>finished</th>\n",
              "      <th>data_checked</th>\n",
              "      <th>highest_scoring_entry</th>\n",
              "      <th>deadline_time_epoch</th>\n",
              "      <th>deadline_time_game_offset</th>\n",
              "      <th>highest_score</th>\n",
              "      <th>is_previous</th>\n",
              "      <th>is_current</th>\n",
              "      <th>is_next</th>\n",
              "      <th>chip_plays</th>\n",
              "      <th>most_selected</th>\n",
              "      <th>most_transferred_in</th>\n",
              "      <th>top_element</th>\n",
              "      <th>top_element_info</th>\n",
              "      <th>transfers_made</th>\n",
              "      <th>most_captained</th>\n",
              "      <th>most_vice_captained</th>\n",
              "    </tr>\n",
              "  </thead>\n",
              "  <tbody>\n",
              "    <tr>\n",
              "      <th>0</th>\n",
              "      <td>1</td>\n",
              "      <td>Gameweek 1</td>\n",
              "      <td>2020-09-12T10:00:00Z</td>\n",
              "      <td>50</td>\n",
              "      <td>True</td>\n",
              "      <td>True</td>\n",
              "      <td>4761681.0</td>\n",
              "      <td>1599904800</td>\n",
              "      <td>0</td>\n",
              "      <td>142.0</td>\n",
              "      <td>False</td>\n",
              "      <td>False</td>\n",
              "      <td>False</td>\n",
              "      <td>[{'chip_name': 'bboost', 'num_played': 112843}...</td>\n",
              "      <td>259.0</td>\n",
              "      <td>12.0</td>\n",
              "      <td>254.0</td>\n",
              "      <td>{'id': 254, 'points': 20}</td>\n",
              "      <td>0</td>\n",
              "      <td>4.0</td>\n",
              "      <td>4.0</td>\n",
              "    </tr>\n",
              "    <tr>\n",
              "      <th>1</th>\n",
              "      <td>2</td>\n",
              "      <td>Gameweek 2</td>\n",
              "      <td>2020-09-19T10:00:00Z</td>\n",
              "      <td>59</td>\n",
              "      <td>True</td>\n",
              "      <td>True</td>\n",
              "      <td>6234344.0</td>\n",
              "      <td>1600509600</td>\n",
              "      <td>0</td>\n",
              "      <td>165.0</td>\n",
              "      <td>False</td>\n",
              "      <td>False</td>\n",
              "      <td>False</td>\n",
              "      <td>[{'chip_name': 'bboost', 'num_played': 94615},...</td>\n",
              "      <td>259.0</td>\n",
              "      <td>302.0</td>\n",
              "      <td>390.0</td>\n",
              "      <td>{'id': 390, 'points': 24}</td>\n",
              "      <td>14637421</td>\n",
              "      <td>4.0</td>\n",
              "      <td>254.0</td>\n",
              "    </tr>\n",
              "    <tr>\n",
              "      <th>2</th>\n",
              "      <td>3</td>\n",
              "      <td>Gameweek 3</td>\n",
              "      <td>2020-09-26T10:00:00Z</td>\n",
              "      <td>43</td>\n",
              "      <td>True</td>\n",
              "      <td>True</td>\n",
              "      <td>6223553.0</td>\n",
              "      <td>1601114400</td>\n",
              "      <td>0</td>\n",
              "      <td>119.0</td>\n",
              "      <td>False</td>\n",
              "      <td>False</td>\n",
              "      <td>False</td>\n",
              "      <td>[{'chip_name': 'bboost', 'num_played': 86797},...</td>\n",
              "      <td>259.0</td>\n",
              "      <td>164.0</td>\n",
              "      <td>224.0</td>\n",
              "      <td>{'id': 224, 'points': 17}</td>\n",
              "      <td>20387878</td>\n",
              "      <td>272.0</td>\n",
              "      <td>254.0</td>\n",
              "    </tr>\n",
              "    <tr>\n",
              "      <th>3</th>\n",
              "      <td>4</td>\n",
              "      <td>Gameweek 4</td>\n",
              "      <td>2020-10-03T10:00:00Z</td>\n",
              "      <td>48</td>\n",
              "      <td>True</td>\n",
              "      <td>True</td>\n",
              "      <td>6563000.0</td>\n",
              "      <td>1601719200</td>\n",
              "      <td>0</td>\n",
              "      <td>160.0</td>\n",
              "      <td>False</td>\n",
              "      <td>False</td>\n",
              "      <td>False</td>\n",
              "      <td>[{'chip_name': 'bboost', 'num_played': 82267},...</td>\n",
              "      <td>272.0</td>\n",
              "      <td>164.0</td>\n",
              "      <td>37.0</td>\n",
              "      <td>{'id': 37, 'points': 24}</td>\n",
              "      <td>14570655</td>\n",
              "      <td>254.0</td>\n",
              "      <td>272.0</td>\n",
              "    </tr>\n",
              "    <tr>\n",
              "      <th>4</th>\n",
              "      <td>5</td>\n",
              "      <td>Gameweek 5</td>\n",
              "      <td>2020-10-17T10:00:00Z</td>\n",
              "      <td>60</td>\n",
              "      <td>True</td>\n",
              "      <td>True</td>\n",
              "      <td>7124486.0</td>\n",
              "      <td>1602928800</td>\n",
              "      <td>0</td>\n",
              "      <td>136.0</td>\n",
              "      <td>False</td>\n",
              "      <td>False</td>\n",
              "      <td>False</td>\n",
              "      <td>[{'chip_name': 'bboost', 'num_played': 80554},...</td>\n",
              "      <td>164.0</td>\n",
              "      <td>390.0</td>\n",
              "      <td>117.0</td>\n",
              "      <td>{'id': 117, 'points': 16}</td>\n",
              "      <td>18391649</td>\n",
              "      <td>390.0</td>\n",
              "      <td>254.0</td>\n",
              "    </tr>\n",
              "  </tbody>\n",
              "</table>\n",
              "</div>"
            ],
            "text/plain": [
              "   id        name  ... most_captained  most_vice_captained\n",
              "0   1  Gameweek 1  ...            4.0                  4.0\n",
              "1   2  Gameweek 2  ...            4.0                254.0\n",
              "2   3  Gameweek 3  ...          272.0                254.0\n",
              "3   4  Gameweek 4  ...          254.0                272.0\n",
              "4   5  Gameweek 5  ...          390.0                254.0\n",
              "\n",
              "[5 rows x 21 columns]"
            ]
          },
          "metadata": {
            "tags": []
          },
          "execution_count": 13
        }
      ]
    },
    {
      "cell_type": "code",
      "metadata": {
        "id": "v1azuvnUQZFH",
        "colab": {
          "base_uri": "https://localhost:8080/"
        },
        "outputId": "752d68ab-c5b2-459d-f205-9725d549c04f"
      },
      "source": [
        "element_stats_df.columns"
      ],
      "execution_count": null,
      "outputs": [
        {
          "output_type": "execute_result",
          "data": {
            "text/plain": [
              "Index(['label', 'name'], dtype='object')"
            ]
          },
          "metadata": {
            "tags": []
          },
          "execution_count": 14
        }
      ]
    },
    {
      "cell_type": "markdown",
      "metadata": {
        "id": "yVLOSReoy9eS"
      },
      "source": [
        "#### Preview Columns"
      ]
    },
    {
      "cell_type": "code",
      "metadata": {
        "id": "z8PjcWN1y9eT",
        "colab": {
          "base_uri": "https://localhost:8080/"
        },
        "outputId": "4e76d016-450d-4805-9037-098a826084fc"
      },
      "source": [
        "elements_df.columns"
      ],
      "execution_count": null,
      "outputs": [
        {
          "output_type": "execute_result",
          "data": {
            "text/plain": [
              "Index(['chance_of_playing_next_round', 'chance_of_playing_this_round', 'code',\n",
              "       'cost_change_event', 'cost_change_event_fall', 'cost_change_start',\n",
              "       'cost_change_start_fall', 'dreamteam_count', 'element_type', 'ep_next',\n",
              "       'ep_this', 'event_points', 'first_name', 'form', 'id', 'in_dreamteam',\n",
              "       'news', 'news_added', 'now_cost', 'photo', 'points_per_game',\n",
              "       'second_name', 'selected_by_percent', 'special', 'squad_number',\n",
              "       'status', 'team', 'team_code', 'total_points', 'transfers_in',\n",
              "       'transfers_in_event', 'transfers_out', 'transfers_out_event',\n",
              "       'value_form', 'value_season', 'web_name', 'minutes', 'goals_scored',\n",
              "       'assists', 'clean_sheets', 'goals_conceded', 'own_goals',\n",
              "       'penalties_saved', 'penalties_missed', 'yellow_cards', 'red_cards',\n",
              "       'saves', 'bonus', 'bps', 'influence', 'creativity', 'threat',\n",
              "       'ict_index', 'influence_rank', 'influence_rank_type', 'creativity_rank',\n",
              "       'creativity_rank_type', 'threat_rank', 'threat_rank_type',\n",
              "       'ict_index_rank', 'ict_index_rank_type',\n",
              "       'corners_and_indirect_freekicks_order',\n",
              "       'corners_and_indirect_freekicks_text', 'direct_freekicks_order',\n",
              "       'direct_freekicks_text', 'penalties_order', 'penalties_text'],\n",
              "      dtype='object')"
            ]
          },
          "metadata": {
            "tags": []
          },
          "execution_count": 15
        }
      ]
    },
    {
      "cell_type": "code",
      "metadata": {
        "id": "di5ytix3y9eU"
      },
      "source": [
        "element_types_df.columns"
      ],
      "execution_count": null,
      "outputs": []
    },
    {
      "cell_type": "code",
      "metadata": {
        "id": "T98IqTCfSV0X"
      },
      "source": [
        "events_df.columns"
      ],
      "execution_count": null,
      "outputs": []
    },
    {
      "cell_type": "code",
      "metadata": {
        "id": "oJCms7Fhy9eW"
      },
      "source": [
        "teams_df.columns"
      ],
      "execution_count": null,
      "outputs": []
    },
    {
      "cell_type": "markdown",
      "metadata": {
        "id": "7FOvo_K3y9eX"
      },
      "source": [
        "#### Filter smaller dataframe"
      ]
    },
    {
      "cell_type": "code",
      "metadata": {
        "id": "WnbcZ95jy9eY"
      },
      "source": [
        "filter_elements_df = elements_df [['second_name','first_name','team','element_type','chance_of_playing_this_round','ict_index','value_form','points_per_game','selected_by_percent','now_cost','bps','value_season','total_points','form','minutes']]"
      ],
      "execution_count": 8,
      "outputs": []
    },
    {
      "cell_type": "code",
      "metadata": {
        "id": "jVbSS1NKy9eY",
        "colab": {
          "base_uri": "https://localhost:8080/",
          "height": 258
        },
        "outputId": "852cc920-5b7e-4f71-f0a3-dcbac010ee46"
      },
      "source": [
        "filter_elements_df.head()"
      ],
      "execution_count": 9,
      "outputs": [
        {
          "output_type": "execute_result",
          "data": {
            "text/html": [
              "<div>\n",
              "<style scoped>\n",
              "    .dataframe tbody tr th:only-of-type {\n",
              "        vertical-align: middle;\n",
              "    }\n",
              "\n",
              "    .dataframe tbody tr th {\n",
              "        vertical-align: top;\n",
              "    }\n",
              "\n",
              "    .dataframe thead th {\n",
              "        text-align: right;\n",
              "    }\n",
              "</style>\n",
              "<table border=\"1\" class=\"dataframe\">\n",
              "  <thead>\n",
              "    <tr style=\"text-align: right;\">\n",
              "      <th></th>\n",
              "      <th>second_name</th>\n",
              "      <th>first_name</th>\n",
              "      <th>team</th>\n",
              "      <th>element_type</th>\n",
              "      <th>chance_of_playing_this_round</th>\n",
              "      <th>ict_index</th>\n",
              "      <th>value_form</th>\n",
              "      <th>points_per_game</th>\n",
              "      <th>selected_by_percent</th>\n",
              "      <th>now_cost</th>\n",
              "      <th>bps</th>\n",
              "      <th>value_season</th>\n",
              "      <th>total_points</th>\n",
              "      <th>form</th>\n",
              "      <th>minutes</th>\n",
              "    </tr>\n",
              "  </thead>\n",
              "  <tbody>\n",
              "    <tr>\n",
              "      <th>0</th>\n",
              "      <td>Özil</td>\n",
              "      <td>Mesut</td>\n",
              "      <td>1</td>\n",
              "      <td>3</td>\n",
              "      <td>0.0</td>\n",
              "      <td>0.0</td>\n",
              "      <td>0.0</td>\n",
              "      <td>0.0</td>\n",
              "      <td>0.5</td>\n",
              "      <td>67</td>\n",
              "      <td>0</td>\n",
              "      <td>0.0</td>\n",
              "      <td>0</td>\n",
              "      <td>0.0</td>\n",
              "      <td>0</td>\n",
              "    </tr>\n",
              "    <tr>\n",
              "      <th>1</th>\n",
              "      <td>Papastathopoulos</td>\n",
              "      <td>Sokratis</td>\n",
              "      <td>1</td>\n",
              "      <td>2</td>\n",
              "      <td>0.0</td>\n",
              "      <td>0.0</td>\n",
              "      <td>0.0</td>\n",
              "      <td>0.0</td>\n",
              "      <td>0.1</td>\n",
              "      <td>48</td>\n",
              "      <td>0</td>\n",
              "      <td>0.0</td>\n",
              "      <td>0</td>\n",
              "      <td>0.0</td>\n",
              "      <td>0</td>\n",
              "    </tr>\n",
              "    <tr>\n",
              "      <th>2</th>\n",
              "      <td>Luiz Moreira Marinho</td>\n",
              "      <td>David</td>\n",
              "      <td>1</td>\n",
              "      <td>2</td>\n",
              "      <td>100.0</td>\n",
              "      <td>37.9</td>\n",
              "      <td>0.6</td>\n",
              "      <td>2.2</td>\n",
              "      <td>1.1</td>\n",
              "      <td>54</td>\n",
              "      <td>206</td>\n",
              "      <td>7.2</td>\n",
              "      <td>39</td>\n",
              "      <td>3.2</td>\n",
              "      <td>1254</td>\n",
              "    </tr>\n",
              "    <tr>\n",
              "      <th>3</th>\n",
              "      <td>Aubameyang</td>\n",
              "      <td>Pierre-Emerick</td>\n",
              "      <td>1</td>\n",
              "      <td>3</td>\n",
              "      <td>100.0</td>\n",
              "      <td>139.0</td>\n",
              "      <td>0.2</td>\n",
              "      <td>4.5</td>\n",
              "      <td>13.0</td>\n",
              "      <td>115</td>\n",
              "      <td>288</td>\n",
              "      <td>9.0</td>\n",
              "      <td>104</td>\n",
              "      <td>2.8</td>\n",
              "      <td>1851</td>\n",
              "    </tr>\n",
              "    <tr>\n",
              "      <th>4</th>\n",
              "      <td>Soares</td>\n",
              "      <td>Cédric</td>\n",
              "      <td>1</td>\n",
              "      <td>2</td>\n",
              "      <td>100.0</td>\n",
              "      <td>26.5</td>\n",
              "      <td>0.2</td>\n",
              "      <td>3.1</td>\n",
              "      <td>0.3</td>\n",
              "      <td>46</td>\n",
              "      <td>121</td>\n",
              "      <td>6.1</td>\n",
              "      <td>28</td>\n",
              "      <td>1.0</td>\n",
              "      <td>699</td>\n",
              "    </tr>\n",
              "  </tbody>\n",
              "</table>\n",
              "</div>"
            ],
            "text/plain": [
              "            second_name      first_name  team  ...  total_points  form minutes\n",
              "0                  Özil           Mesut     1  ...             0   0.0       0\n",
              "1      Papastathopoulos        Sokratis     1  ...             0   0.0       0\n",
              "2  Luiz Moreira Marinho           David     1  ...            39   3.2    1254\n",
              "3            Aubameyang  Pierre-Emerick     1  ...           104   2.8    1851\n",
              "4                Soares          Cédric     1  ...            28   1.0     699\n",
              "\n",
              "[5 rows x 15 columns]"
            ]
          },
          "metadata": {
            "tags": []
          },
          "execution_count": 9
        }
      ]
    },
    {
      "cell_type": "code",
      "metadata": {
        "id": "8YEML_zZd5S5",
        "colab": {
          "base_uri": "https://localhost:8080/"
        },
        "outputId": "0529348f-2dfe-4033-d6fc-c978c99bb580"
      },
      "source": [
        "filter_elements_df['name'] = filter_elements_df[['first_name','second_name']].apply(lambda x: ' '.join(x), axis=1)\n",
        "filter_elements_df.pop('first_name')"
      ],
      "execution_count": 10,
      "outputs": [
        {
          "output_type": "stream",
          "text": [
            "/usr/local/lib/python3.7/dist-packages/ipykernel_launcher.py:1: SettingWithCopyWarning: \n",
            "A value is trying to be set on a copy of a slice from a DataFrame.\n",
            "Try using .loc[row_indexer,col_indexer] = value instead\n",
            "\n",
            "See the caveats in the documentation: https://pandas.pydata.org/pandas-docs/stable/user_guide/indexing.html#returning-a-view-versus-a-copy\n",
            "  \"\"\"Entry point for launching an IPython kernel.\n"
          ],
          "name": "stderr"
        },
        {
          "output_type": "execute_result",
          "data": {
            "text/plain": [
              "0               Mesut\n",
              "1            Sokratis\n",
              "2               David\n",
              "3      Pierre-Emerick\n",
              "4              Cédric\n",
              "            ...      \n",
              "681           Andreas\n",
              "682           Patrick\n",
              "683             Nigel\n",
              "684      Willian José\n",
              "685              Hugo\n",
              "Name: first_name, Length: 686, dtype: object"
            ]
          },
          "metadata": {
            "tags": []
          },
          "execution_count": 10
        }
      ]
    },
    {
      "cell_type": "code",
      "metadata": {
        "id": "TfI4dyX9gEO4",
        "colab": {
          "base_uri": "https://localhost:8080/"
        },
        "outputId": "7a8eb200-4d2a-4b9c-ee70-99618df49a1f"
      },
      "source": [
        "filter_elements_df.pop('second_name')"
      ],
      "execution_count": 11,
      "outputs": [
        {
          "output_type": "execute_result",
          "data": {
            "text/plain": [
              "0                      Özil\n",
              "1          Papastathopoulos\n",
              "2      Luiz Moreira Marinho\n",
              "3                Aubameyang\n",
              "4                    Soares\n",
              "               ...         \n",
              "681             Söndergaard\n",
              "682                 Cutrone\n",
              "683                 Lonwijk\n",
              "684                Da Silva\n",
              "685                   Bueno\n",
              "Name: second_name, Length: 686, dtype: object"
            ]
          },
          "metadata": {
            "tags": []
          },
          "execution_count": 11
        }
      ]
    },
    {
      "cell_type": "markdown",
      "metadata": {
        "id": "bFQMrTASy9eZ"
      },
      "source": [
        "## Dataframe Sorting"
      ]
    },
    {
      "cell_type": "markdown",
      "metadata": {
        "id": "FMDaTBQjy9ea"
      },
      "source": [
        "### Map()"
      ]
    },
    {
      "cell_type": "markdown",
      "metadata": {
        "id": "ZSiMqky4y9eb"
      },
      "source": [
        "#### Similar to V-lookup"
      ]
    },
    {
      "cell_type": "markdown",
      "metadata": {
        "id": "72LzAWfPy9eb"
      },
      "source": [
        "#### Map filter_elements_df to element_type_df (NOT element_type under elements_df)"
      ]
    },
    {
      "cell_type": "code",
      "metadata": {
        "id": "XolEdPaey9ec",
        "colab": {
          "base_uri": "https://localhost:8080/"
        },
        "outputId": "93a26bfd-ad6c-42f0-a64c-33b2f61d5ca3"
      },
      "source": [
        "filter_elements_df['position'] = filter_elements_df.element_type.map(element_types_df.set_index('id').singular_name)"
      ],
      "execution_count": 12,
      "outputs": [
        {
          "output_type": "stream",
          "text": [
            "/usr/local/lib/python3.7/dist-packages/ipykernel_launcher.py:1: SettingWithCopyWarning: \n",
            "A value is trying to be set on a copy of a slice from a DataFrame.\n",
            "Try using .loc[row_indexer,col_indexer] = value instead\n",
            "\n",
            "See the caveats in the documentation: https://pandas.pydata.org/pandas-docs/stable/user_guide/indexing.html#returning-a-view-versus-a-copy\n",
            "  \"\"\"Entry point for launching an IPython kernel.\n"
          ],
          "name": "stderr"
        }
      ]
    },
    {
      "cell_type": "code",
      "metadata": {
        "scrolled": true,
        "colab": {
          "base_uri": "https://localhost:8080/",
          "height": 204
        },
        "id": "p5fBEo3_y9ed",
        "outputId": "7080803e-13ea-4a8b-c9bd-9ec69e9d15a7"
      },
      "source": [
        "filter_elements_df.head()"
      ],
      "execution_count": null,
      "outputs": [
        {
          "output_type": "execute_result",
          "data": {
            "text/html": [
              "<div>\n",
              "<style scoped>\n",
              "    .dataframe tbody tr th:only-of-type {\n",
              "        vertical-align: middle;\n",
              "    }\n",
              "\n",
              "    .dataframe tbody tr th {\n",
              "        vertical-align: top;\n",
              "    }\n",
              "\n",
              "    .dataframe thead th {\n",
              "        text-align: right;\n",
              "    }\n",
              "</style>\n",
              "<table border=\"1\" class=\"dataframe\">\n",
              "  <thead>\n",
              "    <tr style=\"text-align: right;\">\n",
              "      <th></th>\n",
              "      <th>team</th>\n",
              "      <th>element_type</th>\n",
              "      <th>selected_by_percent</th>\n",
              "      <th>now_cost</th>\n",
              "      <th>minutes</th>\n",
              "      <th>transfers_in</th>\n",
              "      <th>value_season</th>\n",
              "      <th>total_points</th>\n",
              "      <th>form</th>\n",
              "      <th>name</th>\n",
              "      <th>position</th>\n",
              "    </tr>\n",
              "  </thead>\n",
              "  <tbody>\n",
              "    <tr>\n",
              "      <th>0</th>\n",
              "      <td>Arsenal</td>\n",
              "      <td>3</td>\n",
              "      <td>0.5</td>\n",
              "      <td>67</td>\n",
              "      <td>0</td>\n",
              "      <td>3441</td>\n",
              "      <td>0.0</td>\n",
              "      <td>0</td>\n",
              "      <td>0.0</td>\n",
              "      <td>Mesut Özil</td>\n",
              "      <td>Midfielder</td>\n",
              "    </tr>\n",
              "    <tr>\n",
              "      <th>1</th>\n",
              "      <td>Arsenal</td>\n",
              "      <td>2</td>\n",
              "      <td>0.1</td>\n",
              "      <td>48</td>\n",
              "      <td>0</td>\n",
              "      <td>10266</td>\n",
              "      <td>0.0</td>\n",
              "      <td>0</td>\n",
              "      <td>0.0</td>\n",
              "      <td>Sokratis Papastathopoulos</td>\n",
              "      <td>Defender</td>\n",
              "    </tr>\n",
              "    <tr>\n",
              "      <th>2</th>\n",
              "      <td>Arsenal</td>\n",
              "      <td>2</td>\n",
              "      <td>0.8</td>\n",
              "      <td>54</td>\n",
              "      <td>1164</td>\n",
              "      <td>62166</td>\n",
              "      <td>6.9</td>\n",
              "      <td>37</td>\n",
              "      <td>3.0</td>\n",
              "      <td>David Luiz Moreira Marinho</td>\n",
              "      <td>Defender</td>\n",
              "    </tr>\n",
              "    <tr>\n",
              "      <th>3</th>\n",
              "      <td>Arsenal</td>\n",
              "      <td>3</td>\n",
              "      <td>8.0</td>\n",
              "      <td>114</td>\n",
              "      <td>1851</td>\n",
              "      <td>761889</td>\n",
              "      <td>9.1</td>\n",
              "      <td>104</td>\n",
              "      <td>7.8</td>\n",
              "      <td>Pierre-Emerick Aubameyang</td>\n",
              "      <td>Midfielder</td>\n",
              "    </tr>\n",
              "    <tr>\n",
              "      <th>4</th>\n",
              "      <td>Arsenal</td>\n",
              "      <td>2</td>\n",
              "      <td>0.3</td>\n",
              "      <td>46</td>\n",
              "      <td>609</td>\n",
              "      <td>26715</td>\n",
              "      <td>5.7</td>\n",
              "      <td>26</td>\n",
              "      <td>0.8</td>\n",
              "      <td>Cédric Soares</td>\n",
              "      <td>Defender</td>\n",
              "    </tr>\n",
              "  </tbody>\n",
              "</table>\n",
              "</div>"
            ],
            "text/plain": [
              "      team  element_type  ...                        name    position\n",
              "0  Arsenal             3  ...                  Mesut Özil  Midfielder\n",
              "1  Arsenal             2  ...   Sokratis Papastathopoulos    Defender\n",
              "2  Arsenal             2  ...  David Luiz Moreira Marinho    Defender\n",
              "3  Arsenal             3  ...   Pierre-Emerick Aubameyang  Midfielder\n",
              "4  Arsenal             2  ...               Cédric Soares    Defender\n",
              "\n",
              "[5 rows x 11 columns]"
            ]
          },
          "metadata": {
            "tags": []
          },
          "execution_count": 24
        }
      ]
    },
    {
      "cell_type": "markdown",
      "metadata": {
        "id": "2pGYrTSpy9ee"
      },
      "source": [
        "#### We^ organized Name by position i think"
      ]
    },
    {
      "cell_type": "code",
      "metadata": {
        "id": "ljngvyCMy9ee",
        "colab": {
          "base_uri": "https://localhost:8080/"
        },
        "outputId": "47900d44-ef1d-4ff6-91bc-30ffd115672f"
      },
      "source": [
        "filter_elements_df['team'] = filter_elements_df.team.map(teams_df.set_index('id').name)"
      ],
      "execution_count": 13,
      "outputs": [
        {
          "output_type": "stream",
          "text": [
            "/usr/local/lib/python3.7/dist-packages/ipykernel_launcher.py:1: SettingWithCopyWarning: \n",
            "A value is trying to be set on a copy of a slice from a DataFrame.\n",
            "Try using .loc[row_indexer,col_indexer] = value instead\n",
            "\n",
            "See the caveats in the documentation: https://pandas.pydata.org/pandas-docs/stable/user_guide/indexing.html#returning-a-view-versus-a-copy\n",
            "  \"\"\"Entry point for launching an IPython kernel.\n"
          ],
          "name": "stderr"
        }
      ]
    },
    {
      "cell_type": "markdown",
      "metadata": {
        "id": "dlZfkAEvy9ef"
      },
      "source": [
        "#### Adding Team name"
      ]
    },
    {
      "cell_type": "code",
      "metadata": {
        "colab": {
          "base_uri": "https://localhost:8080/",
          "height": 204
        },
        "id": "lECM-3Oey9eg",
        "outputId": "1ea1a303-d52d-4b98-eecc-6eaf65bb6ed7"
      },
      "source": [
        "filter_elements_df.head()"
      ],
      "execution_count": 20,
      "outputs": [
        {
          "output_type": "execute_result",
          "data": {
            "text/html": [
              "<div>\n",
              "<style scoped>\n",
              "    .dataframe tbody tr th:only-of-type {\n",
              "        vertical-align: middle;\n",
              "    }\n",
              "\n",
              "    .dataframe tbody tr th {\n",
              "        vertical-align: top;\n",
              "    }\n",
              "\n",
              "    .dataframe thead th {\n",
              "        text-align: right;\n",
              "    }\n",
              "</style>\n",
              "<table border=\"1\" class=\"dataframe\">\n",
              "  <thead>\n",
              "    <tr style=\"text-align: right;\">\n",
              "      <th></th>\n",
              "      <th>team</th>\n",
              "      <th>element_type</th>\n",
              "      <th>chance_of_playing_this_round</th>\n",
              "      <th>ict_index</th>\n",
              "      <th>value_form</th>\n",
              "      <th>points_per_game</th>\n",
              "      <th>selected_by_percent</th>\n",
              "      <th>now_cost</th>\n",
              "      <th>bps</th>\n",
              "      <th>value_season</th>\n",
              "      <th>total_points</th>\n",
              "      <th>form</th>\n",
              "      <th>minutes</th>\n",
              "      <th>name</th>\n",
              "      <th>position</th>\n",
              "    </tr>\n",
              "  </thead>\n",
              "  <tbody>\n",
              "    <tr>\n",
              "      <th>0</th>\n",
              "      <td>Arsenal</td>\n",
              "      <td>3</td>\n",
              "      <td>0.0</td>\n",
              "      <td>0.0</td>\n",
              "      <td>0.0</td>\n",
              "      <td>0.0</td>\n",
              "      <td>0.5</td>\n",
              "      <td>67.0</td>\n",
              "      <td>0.0</td>\n",
              "      <td>0.0</td>\n",
              "      <td>0.0</td>\n",
              "      <td>0.0</td>\n",
              "      <td>0</td>\n",
              "      <td>Mesut Özil</td>\n",
              "      <td>Midfielder</td>\n",
              "    </tr>\n",
              "    <tr>\n",
              "      <th>1</th>\n",
              "      <td>Arsenal</td>\n",
              "      <td>2</td>\n",
              "      <td>0.0</td>\n",
              "      <td>0.0</td>\n",
              "      <td>0.0</td>\n",
              "      <td>0.0</td>\n",
              "      <td>0.1</td>\n",
              "      <td>48.0</td>\n",
              "      <td>0.0</td>\n",
              "      <td>0.0</td>\n",
              "      <td>0.0</td>\n",
              "      <td>0.0</td>\n",
              "      <td>0</td>\n",
              "      <td>Sokratis Papastathopoulos</td>\n",
              "      <td>Defender</td>\n",
              "    </tr>\n",
              "    <tr>\n",
              "      <th>2</th>\n",
              "      <td>Arsenal</td>\n",
              "      <td>2</td>\n",
              "      <td>100.0</td>\n",
              "      <td>37.9</td>\n",
              "      <td>0.6</td>\n",
              "      <td>2.2</td>\n",
              "      <td>1.1</td>\n",
              "      <td>54.0</td>\n",
              "      <td>206.0</td>\n",
              "      <td>7.2</td>\n",
              "      <td>39.0</td>\n",
              "      <td>3.2</td>\n",
              "      <td>1254</td>\n",
              "      <td>David Luiz Moreira Marinho</td>\n",
              "      <td>Defender</td>\n",
              "    </tr>\n",
              "    <tr>\n",
              "      <th>3</th>\n",
              "      <td>Arsenal</td>\n",
              "      <td>3</td>\n",
              "      <td>100.0</td>\n",
              "      <td>139.0</td>\n",
              "      <td>0.2</td>\n",
              "      <td>4.5</td>\n",
              "      <td>13.0</td>\n",
              "      <td>115.0</td>\n",
              "      <td>288.0</td>\n",
              "      <td>9.0</td>\n",
              "      <td>104.0</td>\n",
              "      <td>2.8</td>\n",
              "      <td>1851</td>\n",
              "      <td>Pierre-Emerick Aubameyang</td>\n",
              "      <td>Midfielder</td>\n",
              "    </tr>\n",
              "    <tr>\n",
              "      <th>4</th>\n",
              "      <td>Arsenal</td>\n",
              "      <td>2</td>\n",
              "      <td>100.0</td>\n",
              "      <td>26.5</td>\n",
              "      <td>0.2</td>\n",
              "      <td>3.1</td>\n",
              "      <td>0.3</td>\n",
              "      <td>46.0</td>\n",
              "      <td>121.0</td>\n",
              "      <td>6.1</td>\n",
              "      <td>28.0</td>\n",
              "      <td>1.0</td>\n",
              "      <td>699</td>\n",
              "      <td>Cédric Soares</td>\n",
              "      <td>Defender</td>\n",
              "    </tr>\n",
              "  </tbody>\n",
              "</table>\n",
              "</div>"
            ],
            "text/plain": [
              "      team  element_type  ...                        name    position\n",
              "0  Arsenal             3  ...                  Mesut Özil  Midfielder\n",
              "1  Arsenal             2  ...   Sokratis Papastathopoulos    Defender\n",
              "2  Arsenal             2  ...  David Luiz Moreira Marinho    Defender\n",
              "3  Arsenal             3  ...   Pierre-Emerick Aubameyang  Midfielder\n",
              "4  Arsenal             2  ...               Cédric Soares    Defender\n",
              "\n",
              "[5 rows x 15 columns]"
            ]
          },
          "metadata": {
            "tags": []
          },
          "execution_count": 20
        }
      ]
    },
    {
      "cell_type": "code",
      "metadata": {
        "id": "jukH10R1xS71"
      },
      "source": [
        "filter_gw29 = filter_elements_df.loc[filter_elements_df['team'].isin(['Arsenal','Liverpool','Leeds','Man Utd','West Ham'])] \n",
        "filter_gw29_1 = filter_elements_df.loc[filter_elements_df['team'].isin(['Arsenal','Liverpool','Leeds','Man Utd','West Ham', 'Man City', 'Spurs','Chelsea','Leicester'])] "
      ],
      "execution_count": 34,
      "outputs": []
    },
    {
      "cell_type": "code",
      "metadata": {
        "colab": {
          "base_uri": "https://localhost:8080/",
          "height": 669
        },
        "id": "bP1QiRG04Oqr",
        "outputId": "fab64e48-dc03-4fec-d18d-67eac97b07e3"
      },
      "source": [
        "filter_gw29.sort_values('realvalue',ascending=False).head(20)"
      ],
      "execution_count": 52,
      "outputs": [
        {
          "output_type": "execute_result",
          "data": {
            "text/html": [
              "<div>\n",
              "<style scoped>\n",
              "    .dataframe tbody tr th:only-of-type {\n",
              "        vertical-align: middle;\n",
              "    }\n",
              "\n",
              "    .dataframe tbody tr th {\n",
              "        vertical-align: top;\n",
              "    }\n",
              "\n",
              "    .dataframe thead th {\n",
              "        text-align: right;\n",
              "    }\n",
              "</style>\n",
              "<table border=\"1\" class=\"dataframe\">\n",
              "  <thead>\n",
              "    <tr style=\"text-align: right;\">\n",
              "      <th></th>\n",
              "      <th>team</th>\n",
              "      <th>element_type</th>\n",
              "      <th>chance_of_playing_this_round</th>\n",
              "      <th>ict_index</th>\n",
              "      <th>value_form</th>\n",
              "      <th>points_per_game</th>\n",
              "      <th>selected_by_percent</th>\n",
              "      <th>now_cost</th>\n",
              "      <th>bps</th>\n",
              "      <th>value_season</th>\n",
              "      <th>total_points</th>\n",
              "      <th>form</th>\n",
              "      <th>minutes</th>\n",
              "      <th>name</th>\n",
              "      <th>position</th>\n",
              "      <th>realvalue</th>\n",
              "    </tr>\n",
              "  </thead>\n",
              "  <tbody>\n",
              "    <tr>\n",
              "      <th>323</th>\n",
              "      <td>Leeds</td>\n",
              "      <td>1</td>\n",
              "      <td>100.0</td>\n",
              "      <td>82.7</td>\n",
              "      <td>1.4</td>\n",
              "      <td>4.5</td>\n",
              "      <td>7.3</td>\n",
              "      <td>46.0</td>\n",
              "      <td>611.0</td>\n",
              "      <td>26.5</td>\n",
              "      <td>122.0</td>\n",
              "      <td>6.6</td>\n",
              "      <td>2430</td>\n",
              "      <td>Illan Meslier</td>\n",
              "      <td>Goalkeeper</td>\n",
              "      <td>124.8</td>\n",
              "    </tr>\n",
              "    <tr>\n",
              "      <th>416</th>\n",
              "      <td>Man Utd</td>\n",
              "      <td>2</td>\n",
              "      <td>100.0</td>\n",
              "      <td>147.5</td>\n",
              "      <td>1.4</td>\n",
              "      <td>4.3</td>\n",
              "      <td>12.1</td>\n",
              "      <td>52.0</td>\n",
              "      <td>520.0</td>\n",
              "      <td>20.8</td>\n",
              "      <td>108.0</td>\n",
              "      <td>7.4</td>\n",
              "      <td>2023</td>\n",
              "      <td>Luke Shaw</td>\n",
              "      <td>Defender</td>\n",
              "      <td>99.2</td>\n",
              "    </tr>\n",
              "    <tr>\n",
              "      <th>414</th>\n",
              "      <td>Man Utd</td>\n",
              "      <td>2</td>\n",
              "      <td>100.0</td>\n",
              "      <td>112.6</td>\n",
              "      <td>1.1</td>\n",
              "      <td>3.9</td>\n",
              "      <td>5.1</td>\n",
              "      <td>55.0</td>\n",
              "      <td>558.0</td>\n",
              "      <td>20.5</td>\n",
              "      <td>113.0</td>\n",
              "      <td>6.2</td>\n",
              "      <td>2610</td>\n",
              "      <td>Harry Maguire</td>\n",
              "      <td>Defender</td>\n",
              "      <td>69.3</td>\n",
              "    </tr>\n",
              "    <tr>\n",
              "      <th>428</th>\n",
              "      <td>Man Utd</td>\n",
              "      <td>2</td>\n",
              "      <td>100.0</td>\n",
              "      <td>105.0</td>\n",
              "      <td>0.9</td>\n",
              "      <td>4.4</td>\n",
              "      <td>16.2</td>\n",
              "      <td>57.0</td>\n",
              "      <td>579.0</td>\n",
              "      <td>21.1</td>\n",
              "      <td>120.0</td>\n",
              "      <td>5.0</td>\n",
              "      <td>2430</td>\n",
              "      <td>Aaron Wan-Bissaka</td>\n",
              "      <td>Defender</td>\n",
              "      <td>51.0</td>\n",
              "    </tr>\n",
              "    <tr>\n",
              "      <th>621</th>\n",
              "      <td>West Ham</td>\n",
              "      <td>2</td>\n",
              "      <td>100.0</td>\n",
              "      <td>129.8</td>\n",
              "      <td>0.7</td>\n",
              "      <td>4.8</td>\n",
              "      <td>29.3</td>\n",
              "      <td>59.0</td>\n",
              "      <td>614.0</td>\n",
              "      <td>22.9</td>\n",
              "      <td>135.0</td>\n",
              "      <td>4.2</td>\n",
              "      <td>2520</td>\n",
              "      <td>Aaron Cresswell</td>\n",
              "      <td>Defender</td>\n",
              "      <td>35.5</td>\n",
              "    </tr>\n",
              "    <tr>\n",
              "      <th>423</th>\n",
              "      <td>Man Utd</td>\n",
              "      <td>2</td>\n",
              "      <td>100.0</td>\n",
              "      <td>53.9</td>\n",
              "      <td>0.9</td>\n",
              "      <td>3.9</td>\n",
              "      <td>1.2</td>\n",
              "      <td>48.0</td>\n",
              "      <td>417.0</td>\n",
              "      <td>17.9</td>\n",
              "      <td>86.0</td>\n",
              "      <td>4.4</td>\n",
              "      <td>1955</td>\n",
              "      <td>Victor Lindelöf</td>\n",
              "      <td>Defender</td>\n",
              "      <td>29.4</td>\n",
              "    </tr>\n",
              "    <tr>\n",
              "      <th>617</th>\n",
              "      <td>West Ham</td>\n",
              "      <td>1</td>\n",
              "      <td>100.0</td>\n",
              "      <td>54.6</td>\n",
              "      <td>0.6</td>\n",
              "      <td>4.2</td>\n",
              "      <td>3.2</td>\n",
              "      <td>50.0</td>\n",
              "      <td>489.0</td>\n",
              "      <td>21.6</td>\n",
              "      <td>108.0</td>\n",
              "      <td>3.0</td>\n",
              "      <td>2340</td>\n",
              "      <td>Lukasz Fabianski</td>\n",
              "      <td>Goalkeeper</td>\n",
              "      <td>14.8</td>\n",
              "    </tr>\n",
              "    <tr>\n",
              "      <th>331</th>\n",
              "      <td>Leeds</td>\n",
              "      <td>3</td>\n",
              "      <td>100.0</td>\n",
              "      <td>194.1</td>\n",
              "      <td>0.7</td>\n",
              "      <td>4.3</td>\n",
              "      <td>16.1</td>\n",
              "      <td>56.0</td>\n",
              "      <td>365.0</td>\n",
              "      <td>17.7</td>\n",
              "      <td>99.0</td>\n",
              "      <td>3.8</td>\n",
              "      <td>1796</td>\n",
              "      <td>Raphael Dias Belloli</td>\n",
              "      <td>Midfielder</td>\n",
              "      <td>13.3</td>\n",
              "    </tr>\n",
              "    <tr>\n",
              "      <th>7</th>\n",
              "      <td>Arsenal</td>\n",
              "      <td>1</td>\n",
              "      <td>100.0</td>\n",
              "      <td>54.7</td>\n",
              "      <td>0.6</td>\n",
              "      <td>3.7</td>\n",
              "      <td>6.8</td>\n",
              "      <td>50.0</td>\n",
              "      <td>488.0</td>\n",
              "      <td>20.2</td>\n",
              "      <td>101.0</td>\n",
              "      <td>2.8</td>\n",
              "      <td>2411</td>\n",
              "      <td>Bernd Leno</td>\n",
              "      <td>Goalkeeper</td>\n",
              "      <td>10.6</td>\n",
              "    </tr>\n",
              "    <tr>\n",
              "      <th>634</th>\n",
              "      <td>West Ham</td>\n",
              "      <td>3</td>\n",
              "      <td>100.0</td>\n",
              "      <td>154.4</td>\n",
              "      <td>0.4</td>\n",
              "      <td>4.2</td>\n",
              "      <td>14.6</td>\n",
              "      <td>53.0</td>\n",
              "      <td>412.0</td>\n",
              "      <td>22.1</td>\n",
              "      <td>117.0</td>\n",
              "      <td>2.0</td>\n",
              "      <td>2520</td>\n",
              "      <td>Tomas Soucek</td>\n",
              "      <td>Midfielder</td>\n",
              "      <td>-6.2</td>\n",
              "    </tr>\n",
              "    <tr>\n",
              "      <th>312</th>\n",
              "      <td>Leeds</td>\n",
              "      <td>4</td>\n",
              "      <td>100.0</td>\n",
              "      <td>205.7</td>\n",
              "      <td>0.4</td>\n",
              "      <td>5.2</td>\n",
              "      <td>47.9</td>\n",
              "      <td>67.0</td>\n",
              "      <td>475.0</td>\n",
              "      <td>21.6</td>\n",
              "      <td>145.0</td>\n",
              "      <td>2.6</td>\n",
              "      <td>2359</td>\n",
              "      <td>Patrick Bamford</td>\n",
              "      <td>Forward</td>\n",
              "      <td>-9.0</td>\n",
              "    </tr>\n",
              "    <tr>\n",
              "      <th>424</th>\n",
              "      <td>Man Utd</td>\n",
              "      <td>3</td>\n",
              "      <td>100.0</td>\n",
              "      <td>86.7</td>\n",
              "      <td>0.5</td>\n",
              "      <td>3.1</td>\n",
              "      <td>0.8</td>\n",
              "      <td>49.0</td>\n",
              "      <td>336.0</td>\n",
              "      <td>15.9</td>\n",
              "      <td>78.0</td>\n",
              "      <td>2.4</td>\n",
              "      <td>1607</td>\n",
              "      <td>Scott McTominay</td>\n",
              "      <td>Midfielder</td>\n",
              "      <td>-10.0</td>\n",
              "    </tr>\n",
              "    <tr>\n",
              "      <th>14</th>\n",
              "      <td>Arsenal</td>\n",
              "      <td>2</td>\n",
              "      <td>100.0</td>\n",
              "      <td>96.5</td>\n",
              "      <td>0.5</td>\n",
              "      <td>3.6</td>\n",
              "      <td>6.7</td>\n",
              "      <td>52.0</td>\n",
              "      <td>402.0</td>\n",
              "      <td>14.6</td>\n",
              "      <td>76.0</td>\n",
              "      <td>2.8</td>\n",
              "      <td>1880</td>\n",
              "      <td>Kieran Tierney</td>\n",
              "      <td>Defender</td>\n",
              "      <td>-14.0</td>\n",
              "    </tr>\n",
              "    <tr>\n",
              "      <th>311</th>\n",
              "      <td>Leeds</td>\n",
              "      <td>2</td>\n",
              "      <td>100.0</td>\n",
              "      <td>79.1</td>\n",
              "      <td>0.4</td>\n",
              "      <td>2.8</td>\n",
              "      <td>2.0</td>\n",
              "      <td>43.0</td>\n",
              "      <td>318.0</td>\n",
              "      <td>16.7</td>\n",
              "      <td>72.0</td>\n",
              "      <td>1.8</td>\n",
              "      <td>1613</td>\n",
              "      <td>Ezgjan Alioski</td>\n",
              "      <td>Defender</td>\n",
              "      <td>-14.2</td>\n",
              "    </tr>\n",
              "    <tr>\n",
              "      <th>351</th>\n",
              "      <td>Liverpool</td>\n",
              "      <td>2</td>\n",
              "      <td>100.0</td>\n",
              "      <td>165.5</td>\n",
              "      <td>0.5</td>\n",
              "      <td>3.9</td>\n",
              "      <td>13.4</td>\n",
              "      <td>71.0</td>\n",
              "      <td>606.0</td>\n",
              "      <td>15.9</td>\n",
              "      <td>113.0</td>\n",
              "      <td>3.6</td>\n",
              "      <td>2604</td>\n",
              "      <td>Andrew Robertson</td>\n",
              "      <td>Defender</td>\n",
              "      <td>-14.5</td>\n",
              "    </tr>\n",
              "    <tr>\n",
              "      <th>348</th>\n",
              "      <td>Liverpool</td>\n",
              "      <td>1</td>\n",
              "      <td>100.0</td>\n",
              "      <td>51.4</td>\n",
              "      <td>0.5</td>\n",
              "      <td>3.7</td>\n",
              "      <td>5.8</td>\n",
              "      <td>59.0</td>\n",
              "      <td>435.0</td>\n",
              "      <td>15.1</td>\n",
              "      <td>89.0</td>\n",
              "      <td>3.2</td>\n",
              "      <td>2160</td>\n",
              "      <td>Alisson Ramses Becker</td>\n",
              "      <td>Goalkeeper</td>\n",
              "      <td>-14.5</td>\n",
              "    </tr>\n",
              "    <tr>\n",
              "      <th>354</th>\n",
              "      <td>Liverpool</td>\n",
              "      <td>2</td>\n",
              "      <td>100.0</td>\n",
              "      <td>163.3</td>\n",
              "      <td>0.6</td>\n",
              "      <td>3.5</td>\n",
              "      <td>13.0</td>\n",
              "      <td>73.0</td>\n",
              "      <td>502.0</td>\n",
              "      <td>12.9</td>\n",
              "      <td>94.0</td>\n",
              "      <td>4.4</td>\n",
              "      <td>2219</td>\n",
              "      <td>Trent Alexander-Arnold</td>\n",
              "      <td>Defender</td>\n",
              "      <td>-16.6</td>\n",
              "    </tr>\n",
              "    <tr>\n",
              "      <th>363</th>\n",
              "      <td>Liverpool</td>\n",
              "      <td>2</td>\n",
              "      <td>100.0</td>\n",
              "      <td>27.0</td>\n",
              "      <td>0.8</td>\n",
              "      <td>2.9</td>\n",
              "      <td>0.7</td>\n",
              "      <td>40.0</td>\n",
              "      <td>153.0</td>\n",
              "      <td>7.2</td>\n",
              "      <td>29.0</td>\n",
              "      <td>3.2</td>\n",
              "      <td>825</td>\n",
              "      <td>Nathaniel Phillips</td>\n",
              "      <td>Defender</td>\n",
              "      <td>-16.8</td>\n",
              "    </tr>\n",
              "    <tr>\n",
              "      <th>305</th>\n",
              "      <td>Leeds</td>\n",
              "      <td>2</td>\n",
              "      <td>100.0</td>\n",
              "      <td>82.9</td>\n",
              "      <td>0.5</td>\n",
              "      <td>2.5</td>\n",
              "      <td>0.4</td>\n",
              "      <td>43.0</td>\n",
              "      <td>413.0</td>\n",
              "      <td>12.1</td>\n",
              "      <td>52.0</td>\n",
              "      <td>2.2</td>\n",
              "      <td>1871</td>\n",
              "      <td>Liam Cooper</td>\n",
              "      <td>Defender</td>\n",
              "      <td>-17.0</td>\n",
              "    </tr>\n",
              "    <tr>\n",
              "      <th>623</th>\n",
              "      <td>West Ham</td>\n",
              "      <td>4</td>\n",
              "      <td>100.0</td>\n",
              "      <td>132.9</td>\n",
              "      <td>0.6</td>\n",
              "      <td>4.3</td>\n",
              "      <td>15.0</td>\n",
              "      <td>67.0</td>\n",
              "      <td>236.0</td>\n",
              "      <td>12.2</td>\n",
              "      <td>82.0</td>\n",
              "      <td>4.2</td>\n",
              "      <td>1419</td>\n",
              "      <td>Michail Antonio</td>\n",
              "      <td>Forward</td>\n",
              "      <td>-17.8</td>\n",
              "    </tr>\n",
              "  </tbody>\n",
              "</table>\n",
              "</div>"
            ],
            "text/plain": [
              "          team  element_type  ...    position  realvalue\n",
              "323      Leeds             1  ...  Goalkeeper      124.8\n",
              "416    Man Utd             2  ...    Defender       99.2\n",
              "414    Man Utd             2  ...    Defender       69.3\n",
              "428    Man Utd             2  ...    Defender       51.0\n",
              "621   West Ham             2  ...    Defender       35.5\n",
              "423    Man Utd             2  ...    Defender       29.4\n",
              "617   West Ham             1  ...  Goalkeeper       14.8\n",
              "331      Leeds             3  ...  Midfielder       13.3\n",
              "7      Arsenal             1  ...  Goalkeeper       10.6\n",
              "634   West Ham             3  ...  Midfielder       -6.2\n",
              "312      Leeds             4  ...     Forward       -9.0\n",
              "424    Man Utd             3  ...  Midfielder      -10.0\n",
              "14     Arsenal             2  ...    Defender      -14.0\n",
              "311      Leeds             2  ...    Defender      -14.2\n",
              "351  Liverpool             2  ...    Defender      -14.5\n",
              "348  Liverpool             1  ...  Goalkeeper      -14.5\n",
              "354  Liverpool             2  ...    Defender      -16.6\n",
              "363  Liverpool             2  ...    Defender      -16.8\n",
              "305      Leeds             2  ...    Defender      -17.0\n",
              "623   West Ham             4  ...     Forward      -17.8\n",
              "\n",
              "[20 rows x 16 columns]"
            ]
          },
          "metadata": {
            "tags": []
          },
          "execution_count": 52
        }
      ]
    },
    {
      "cell_type": "code",
      "metadata": {
        "colab": {
          "base_uri": "https://localhost:8080/",
          "height": 393
        },
        "id": "TKUgzjsI4QP2",
        "outputId": "2cc0413c-dc17-46d1-c247-b1a4f1f7cf74"
      },
      "source": [
        "filter_gw29_1.sort_values('realvalue',ascending=False).head(10)"
      ],
      "execution_count": 42,
      "outputs": [
        {
          "output_type": "execute_result",
          "data": {
            "text/html": [
              "<div>\n",
              "<style scoped>\n",
              "    .dataframe tbody tr th:only-of-type {\n",
              "        vertical-align: middle;\n",
              "    }\n",
              "\n",
              "    .dataframe tbody tr th {\n",
              "        vertical-align: top;\n",
              "    }\n",
              "\n",
              "    .dataframe thead th {\n",
              "        text-align: right;\n",
              "    }\n",
              "</style>\n",
              "<table border=\"1\" class=\"dataframe\">\n",
              "  <thead>\n",
              "    <tr style=\"text-align: right;\">\n",
              "      <th></th>\n",
              "      <th>team</th>\n",
              "      <th>element_type</th>\n",
              "      <th>chance_of_playing_this_round</th>\n",
              "      <th>ict_index</th>\n",
              "      <th>value_form</th>\n",
              "      <th>points_per_game</th>\n",
              "      <th>selected_by_percent</th>\n",
              "      <th>now_cost</th>\n",
              "      <th>bps</th>\n",
              "      <th>value_season</th>\n",
              "      <th>total_points</th>\n",
              "      <th>form</th>\n",
              "      <th>minutes</th>\n",
              "      <th>name</th>\n",
              "      <th>position</th>\n",
              "      <th>realvalue</th>\n",
              "    </tr>\n",
              "  </thead>\n",
              "  <tbody>\n",
              "    <tr>\n",
              "      <th>323</th>\n",
              "      <td>Leeds</td>\n",
              "      <td>1</td>\n",
              "      <td>100.0</td>\n",
              "      <td>82.7</td>\n",
              "      <td>1.4</td>\n",
              "      <td>4.5</td>\n",
              "      <td>7.3</td>\n",
              "      <td>46.0</td>\n",
              "      <td>611.0</td>\n",
              "      <td>26.5</td>\n",
              "      <td>122.0</td>\n",
              "      <td>6.6</td>\n",
              "      <td>2430</td>\n",
              "      <td>Illan Meslier</td>\n",
              "      <td>Goalkeeper</td>\n",
              "      <td>124.8</td>\n",
              "    </tr>\n",
              "    <tr>\n",
              "      <th>416</th>\n",
              "      <td>Man Utd</td>\n",
              "      <td>2</td>\n",
              "      <td>100.0</td>\n",
              "      <td>147.5</td>\n",
              "      <td>1.4</td>\n",
              "      <td>4.3</td>\n",
              "      <td>12.1</td>\n",
              "      <td>52.0</td>\n",
              "      <td>520.0</td>\n",
              "      <td>20.8</td>\n",
              "      <td>108.0</td>\n",
              "      <td>7.4</td>\n",
              "      <td>2023</td>\n",
              "      <td>Luke Shaw</td>\n",
              "      <td>Defender</td>\n",
              "      <td>99.2</td>\n",
              "    </tr>\n",
              "    <tr>\n",
              "      <th>164</th>\n",
              "      <td>Chelsea</td>\n",
              "      <td>1</td>\n",
              "      <td>100.0</td>\n",
              "      <td>36.4</td>\n",
              "      <td>1.3</td>\n",
              "      <td>4.7</td>\n",
              "      <td>7.2</td>\n",
              "      <td>51.0</td>\n",
              "      <td>497.0</td>\n",
              "      <td>22.2</td>\n",
              "      <td>113.0</td>\n",
              "      <td>6.6</td>\n",
              "      <td>2160</td>\n",
              "      <td>Edouard Mendy</td>\n",
              "      <td>Goalkeeper</td>\n",
              "      <td>95.9</td>\n",
              "    </tr>\n",
              "    <tr>\n",
              "      <th>414</th>\n",
              "      <td>Man Utd</td>\n",
              "      <td>2</td>\n",
              "      <td>100.0</td>\n",
              "      <td>112.6</td>\n",
              "      <td>1.1</td>\n",
              "      <td>3.9</td>\n",
              "      <td>5.1</td>\n",
              "      <td>55.0</td>\n",
              "      <td>558.0</td>\n",
              "      <td>20.5</td>\n",
              "      <td>113.0</td>\n",
              "      <td>6.2</td>\n",
              "      <td>2610</td>\n",
              "      <td>Harry Maguire</td>\n",
              "      <td>Defender</td>\n",
              "      <td>69.3</td>\n",
              "    </tr>\n",
              "    <tr>\n",
              "      <th>428</th>\n",
              "      <td>Man Utd</td>\n",
              "      <td>2</td>\n",
              "      <td>100.0</td>\n",
              "      <td>105.0</td>\n",
              "      <td>0.9</td>\n",
              "      <td>4.4</td>\n",
              "      <td>16.2</td>\n",
              "      <td>57.0</td>\n",
              "      <td>579.0</td>\n",
              "      <td>21.1</td>\n",
              "      <td>120.0</td>\n",
              "      <td>5.0</td>\n",
              "      <td>2430</td>\n",
              "      <td>Aaron Wan-Bissaka</td>\n",
              "      <td>Defender</td>\n",
              "      <td>51.0</td>\n",
              "    </tr>\n",
              "    <tr>\n",
              "      <th>621</th>\n",
              "      <td>West Ham</td>\n",
              "      <td>2</td>\n",
              "      <td>100.0</td>\n",
              "      <td>129.8</td>\n",
              "      <td>0.7</td>\n",
              "      <td>4.8</td>\n",
              "      <td>29.3</td>\n",
              "      <td>59.0</td>\n",
              "      <td>614.0</td>\n",
              "      <td>22.9</td>\n",
              "      <td>135.0</td>\n",
              "      <td>4.2</td>\n",
              "      <td>2520</td>\n",
              "      <td>Aaron Cresswell</td>\n",
              "      <td>Defender</td>\n",
              "      <td>35.5</td>\n",
              "    </tr>\n",
              "    <tr>\n",
              "      <th>423</th>\n",
              "      <td>Man Utd</td>\n",
              "      <td>2</td>\n",
              "      <td>100.0</td>\n",
              "      <td>53.9</td>\n",
              "      <td>0.9</td>\n",
              "      <td>3.9</td>\n",
              "      <td>1.2</td>\n",
              "      <td>48.0</td>\n",
              "      <td>417.0</td>\n",
              "      <td>17.9</td>\n",
              "      <td>86.0</td>\n",
              "      <td>4.4</td>\n",
              "      <td>1955</td>\n",
              "      <td>Victor Lindelöf</td>\n",
              "      <td>Defender</td>\n",
              "      <td>29.4</td>\n",
              "    </tr>\n",
              "    <tr>\n",
              "      <th>398</th>\n",
              "      <td>Man City</td>\n",
              "      <td>2</td>\n",
              "      <td>100.0</td>\n",
              "      <td>81.0</td>\n",
              "      <td>0.7</td>\n",
              "      <td>4.7</td>\n",
              "      <td>23.0</td>\n",
              "      <td>61.0</td>\n",
              "      <td>570.0</td>\n",
              "      <td>20.8</td>\n",
              "      <td>127.0</td>\n",
              "      <td>4.1</td>\n",
              "      <td>2393</td>\n",
              "      <td>Rúben Santos Gato Alves Dias</td>\n",
              "      <td>Defender</td>\n",
              "      <td>27.9</td>\n",
              "    </tr>\n",
              "    <tr>\n",
              "      <th>545</th>\n",
              "      <td>Spurs</td>\n",
              "      <td>1</td>\n",
              "      <td>100.0</td>\n",
              "      <td>60.8</td>\n",
              "      <td>0.7</td>\n",
              "      <td>4.0</td>\n",
              "      <td>6.7</td>\n",
              "      <td>56.0</td>\n",
              "      <td>511.0</td>\n",
              "      <td>20.2</td>\n",
              "      <td>113.0</td>\n",
              "      <td>4.0</td>\n",
              "      <td>2520</td>\n",
              "      <td>Hugo Lloris</td>\n",
              "      <td>Goalkeeper</td>\n",
              "      <td>23.1</td>\n",
              "    </tr>\n",
              "    <tr>\n",
              "      <th>159</th>\n",
              "      <td>Chelsea</td>\n",
              "      <td>2</td>\n",
              "      <td>100.0</td>\n",
              "      <td>118.6</td>\n",
              "      <td>0.8</td>\n",
              "      <td>3.8</td>\n",
              "      <td>6.1</td>\n",
              "      <td>50.0</td>\n",
              "      <td>422.0</td>\n",
              "      <td>17.4</td>\n",
              "      <td>87.0</td>\n",
              "      <td>3.8</td>\n",
              "      <td>1719</td>\n",
              "      <td>Reece James</td>\n",
              "      <td>Defender</td>\n",
              "      <td>19.6</td>\n",
              "    </tr>\n",
              "  </tbody>\n",
              "</table>\n",
              "</div>"
            ],
            "text/plain": [
              "         team  element_type  ...    position  realvalue\n",
              "323     Leeds             1  ...  Goalkeeper      124.8\n",
              "416   Man Utd             2  ...    Defender       99.2\n",
              "164   Chelsea             1  ...  Goalkeeper       95.9\n",
              "414   Man Utd             2  ...    Defender       69.3\n",
              "428   Man Utd             2  ...    Defender       51.0\n",
              "621  West Ham             2  ...    Defender       35.5\n",
              "423   Man Utd             2  ...    Defender       29.4\n",
              "398  Man City             2  ...    Defender       27.9\n",
              "545     Spurs             1  ...  Goalkeeper       23.1\n",
              "159   Chelsea             2  ...    Defender       19.6\n",
              "\n",
              "[10 rows x 16 columns]"
            ]
          },
          "metadata": {
            "tags": []
          },
          "execution_count": 42
        }
      ]
    },
    {
      "cell_type": "code",
      "metadata": {
        "colab": {
          "base_uri": "https://localhost:8080/",
          "height": 669
        },
        "id": "2T2sqEyQ4uZZ",
        "outputId": "fd0e09bc-7411-48fc-8768-e794a0e50bda"
      },
      "source": [
        "filter_gw29.sort_values('form',ascending=False).head(20)"
      ],
      "execution_count": 51,
      "outputs": [
        {
          "output_type": "execute_result",
          "data": {
            "text/html": [
              "<div>\n",
              "<style scoped>\n",
              "    .dataframe tbody tr th:only-of-type {\n",
              "        vertical-align: middle;\n",
              "    }\n",
              "\n",
              "    .dataframe tbody tr th {\n",
              "        vertical-align: top;\n",
              "    }\n",
              "\n",
              "    .dataframe thead th {\n",
              "        text-align: right;\n",
              "    }\n",
              "</style>\n",
              "<table border=\"1\" class=\"dataframe\">\n",
              "  <thead>\n",
              "    <tr style=\"text-align: right;\">\n",
              "      <th></th>\n",
              "      <th>team</th>\n",
              "      <th>element_type</th>\n",
              "      <th>chance_of_playing_this_round</th>\n",
              "      <th>ict_index</th>\n",
              "      <th>value_form</th>\n",
              "      <th>points_per_game</th>\n",
              "      <th>selected_by_percent</th>\n",
              "      <th>now_cost</th>\n",
              "      <th>bps</th>\n",
              "      <th>value_season</th>\n",
              "      <th>total_points</th>\n",
              "      <th>form</th>\n",
              "      <th>minutes</th>\n",
              "      <th>name</th>\n",
              "      <th>position</th>\n",
              "      <th>realvalue</th>\n",
              "    </tr>\n",
              "  </thead>\n",
              "  <tbody>\n",
              "    <tr>\n",
              "      <th>416</th>\n",
              "      <td>Man Utd</td>\n",
              "      <td>2</td>\n",
              "      <td>100.0</td>\n",
              "      <td>147.5</td>\n",
              "      <td>1.4</td>\n",
              "      <td>4.3</td>\n",
              "      <td>12.1</td>\n",
              "      <td>52.0</td>\n",
              "      <td>520.0</td>\n",
              "      <td>20.8</td>\n",
              "      <td>108.0</td>\n",
              "      <td>7.4</td>\n",
              "      <td>2023</td>\n",
              "      <td>Luke Shaw</td>\n",
              "      <td>Defender</td>\n",
              "      <td>99.2</td>\n",
              "    </tr>\n",
              "    <tr>\n",
              "      <th>323</th>\n",
              "      <td>Leeds</td>\n",
              "      <td>1</td>\n",
              "      <td>100.0</td>\n",
              "      <td>82.7</td>\n",
              "      <td>1.4</td>\n",
              "      <td>4.5</td>\n",
              "      <td>7.3</td>\n",
              "      <td>46.0</td>\n",
              "      <td>611.0</td>\n",
              "      <td>26.5</td>\n",
              "      <td>122.0</td>\n",
              "      <td>6.6</td>\n",
              "      <td>2430</td>\n",
              "      <td>Illan Meslier</td>\n",
              "      <td>Goalkeeper</td>\n",
              "      <td>124.8</td>\n",
              "    </tr>\n",
              "    <tr>\n",
              "      <th>414</th>\n",
              "      <td>Man Utd</td>\n",
              "      <td>2</td>\n",
              "      <td>100.0</td>\n",
              "      <td>112.6</td>\n",
              "      <td>1.1</td>\n",
              "      <td>3.9</td>\n",
              "      <td>5.1</td>\n",
              "      <td>55.0</td>\n",
              "      <td>558.0</td>\n",
              "      <td>20.5</td>\n",
              "      <td>113.0</td>\n",
              "      <td>6.2</td>\n",
              "      <td>2610</td>\n",
              "      <td>Harry Maguire</td>\n",
              "      <td>Defender</td>\n",
              "      <td>69.3</td>\n",
              "    </tr>\n",
              "    <tr>\n",
              "      <th>428</th>\n",
              "      <td>Man Utd</td>\n",
              "      <td>2</td>\n",
              "      <td>100.0</td>\n",
              "      <td>105.0</td>\n",
              "      <td>0.9</td>\n",
              "      <td>4.4</td>\n",
              "      <td>16.2</td>\n",
              "      <td>57.0</td>\n",
              "      <td>579.0</td>\n",
              "      <td>21.1</td>\n",
              "      <td>120.0</td>\n",
              "      <td>5.0</td>\n",
              "      <td>2430</td>\n",
              "      <td>Aaron Wan-Bissaka</td>\n",
              "      <td>Defender</td>\n",
              "      <td>51.0</td>\n",
              "    </tr>\n",
              "    <tr>\n",
              "      <th>5</th>\n",
              "      <td>Arsenal</td>\n",
              "      <td>4</td>\n",
              "      <td>100.0</td>\n",
              "      <td>137.7</td>\n",
              "      <td>0.6</td>\n",
              "      <td>4.1</td>\n",
              "      <td>6.7</td>\n",
              "      <td>81.0</td>\n",
              "      <td>343.0</td>\n",
              "      <td>12.1</td>\n",
              "      <td>98.0</td>\n",
              "      <td>4.5</td>\n",
              "      <td>1527</td>\n",
              "      <td>Alexandre Lacazette</td>\n",
              "      <td>Forward</td>\n",
              "      <td>-22.2</td>\n",
              "    </tr>\n",
              "    <tr>\n",
              "      <th>25</th>\n",
              "      <td>Arsenal</td>\n",
              "      <td>3</td>\n",
              "      <td>100.0</td>\n",
              "      <td>79.9</td>\n",
              "      <td>0.6</td>\n",
              "      <td>3.0</td>\n",
              "      <td>3.0</td>\n",
              "      <td>75.0</td>\n",
              "      <td>246.0</td>\n",
              "      <td>8.4</td>\n",
              "      <td>63.0</td>\n",
              "      <td>4.5</td>\n",
              "      <td>1190</td>\n",
              "      <td>Willian Borges Da Silva</td>\n",
              "      <td>Midfielder</td>\n",
              "      <td>-37.2</td>\n",
              "    </tr>\n",
              "    <tr>\n",
              "      <th>423</th>\n",
              "      <td>Man Utd</td>\n",
              "      <td>2</td>\n",
              "      <td>100.0</td>\n",
              "      <td>53.9</td>\n",
              "      <td>0.9</td>\n",
              "      <td>3.9</td>\n",
              "      <td>1.2</td>\n",
              "      <td>48.0</td>\n",
              "      <td>417.0</td>\n",
              "      <td>17.9</td>\n",
              "      <td>86.0</td>\n",
              "      <td>4.4</td>\n",
              "      <td>1955</td>\n",
              "      <td>Victor Lindelöf</td>\n",
              "      <td>Defender</td>\n",
              "      <td>29.4</td>\n",
              "    </tr>\n",
              "    <tr>\n",
              "      <th>354</th>\n",
              "      <td>Liverpool</td>\n",
              "      <td>2</td>\n",
              "      <td>100.0</td>\n",
              "      <td>163.3</td>\n",
              "      <td>0.6</td>\n",
              "      <td>3.5</td>\n",
              "      <td>13.0</td>\n",
              "      <td>73.0</td>\n",
              "      <td>502.0</td>\n",
              "      <td>12.9</td>\n",
              "      <td>94.0</td>\n",
              "      <td>4.4</td>\n",
              "      <td>2219</td>\n",
              "      <td>Trent Alexander-Arnold</td>\n",
              "      <td>Defender</td>\n",
              "      <td>-16.6</td>\n",
              "    </tr>\n",
              "    <tr>\n",
              "      <th>623</th>\n",
              "      <td>West Ham</td>\n",
              "      <td>4</td>\n",
              "      <td>100.0</td>\n",
              "      <td>132.9</td>\n",
              "      <td>0.6</td>\n",
              "      <td>4.3</td>\n",
              "      <td>15.0</td>\n",
              "      <td>67.0</td>\n",
              "      <td>236.0</td>\n",
              "      <td>12.2</td>\n",
              "      <td>82.0</td>\n",
              "      <td>4.2</td>\n",
              "      <td>1419</td>\n",
              "      <td>Michail Antonio</td>\n",
              "      <td>Forward</td>\n",
              "      <td>-17.8</td>\n",
              "    </tr>\n",
              "    <tr>\n",
              "      <th>621</th>\n",
              "      <td>West Ham</td>\n",
              "      <td>2</td>\n",
              "      <td>100.0</td>\n",
              "      <td>129.8</td>\n",
              "      <td>0.7</td>\n",
              "      <td>4.8</td>\n",
              "      <td>29.3</td>\n",
              "      <td>59.0</td>\n",
              "      <td>614.0</td>\n",
              "      <td>22.9</td>\n",
              "      <td>135.0</td>\n",
              "      <td>4.2</td>\n",
              "      <td>2520</td>\n",
              "      <td>Aaron Cresswell</td>\n",
              "      <td>Defender</td>\n",
              "      <td>35.5</td>\n",
              "    </tr>\n",
              "    <tr>\n",
              "      <th>15</th>\n",
              "      <td>Arsenal</td>\n",
              "      <td>3</td>\n",
              "      <td>100.0</td>\n",
              "      <td>80.4</td>\n",
              "      <td>0.5</td>\n",
              "      <td>2.9</td>\n",
              "      <td>1.4</td>\n",
              "      <td>76.0</td>\n",
              "      <td>166.0</td>\n",
              "      <td>7.5</td>\n",
              "      <td>57.0</td>\n",
              "      <td>4.0</td>\n",
              "      <td>1033</td>\n",
              "      <td>Nicolas Pépé</td>\n",
              "      <td>Midfielder</td>\n",
              "      <td>-47.5</td>\n",
              "    </tr>\n",
              "    <tr>\n",
              "      <th>331</th>\n",
              "      <td>Leeds</td>\n",
              "      <td>3</td>\n",
              "      <td>100.0</td>\n",
              "      <td>194.1</td>\n",
              "      <td>0.7</td>\n",
              "      <td>4.3</td>\n",
              "      <td>16.1</td>\n",
              "      <td>56.0</td>\n",
              "      <td>365.0</td>\n",
              "      <td>17.7</td>\n",
              "      <td>99.0</td>\n",
              "      <td>3.8</td>\n",
              "      <td>1796</td>\n",
              "      <td>Raphael Dias Belloli</td>\n",
              "      <td>Midfielder</td>\n",
              "      <td>13.3</td>\n",
              "    </tr>\n",
              "    <tr>\n",
              "      <th>351</th>\n",
              "      <td>Liverpool</td>\n",
              "      <td>2</td>\n",
              "      <td>100.0</td>\n",
              "      <td>165.5</td>\n",
              "      <td>0.5</td>\n",
              "      <td>3.9</td>\n",
              "      <td>13.4</td>\n",
              "      <td>71.0</td>\n",
              "      <td>606.0</td>\n",
              "      <td>15.9</td>\n",
              "      <td>113.0</td>\n",
              "      <td>3.6</td>\n",
              "      <td>2604</td>\n",
              "      <td>Andrew Robertson</td>\n",
              "      <td>Defender</td>\n",
              "      <td>-14.5</td>\n",
              "    </tr>\n",
              "    <tr>\n",
              "      <th>426</th>\n",
              "      <td>Man Utd</td>\n",
              "      <td>3</td>\n",
              "      <td>100.0</td>\n",
              "      <td>50.8</td>\n",
              "      <td>0.5</td>\n",
              "      <td>2.8</td>\n",
              "      <td>0.3</td>\n",
              "      <td>62.0</td>\n",
              "      <td>118.0</td>\n",
              "      <td>5.5</td>\n",
              "      <td>34.0</td>\n",
              "      <td>3.4</td>\n",
              "      <td>724</td>\n",
              "      <td>Daniel James</td>\n",
              "      <td>Midfielder</td>\n",
              "      <td>-45.0</td>\n",
              "    </tr>\n",
              "    <tr>\n",
              "      <th>348</th>\n",
              "      <td>Liverpool</td>\n",
              "      <td>1</td>\n",
              "      <td>100.0</td>\n",
              "      <td>51.4</td>\n",
              "      <td>0.5</td>\n",
              "      <td>3.7</td>\n",
              "      <td>5.8</td>\n",
              "      <td>59.0</td>\n",
              "      <td>435.0</td>\n",
              "      <td>15.1</td>\n",
              "      <td>89.0</td>\n",
              "      <td>3.2</td>\n",
              "      <td>2160</td>\n",
              "      <td>Alisson Ramses Becker</td>\n",
              "      <td>Goalkeeper</td>\n",
              "      <td>-14.5</td>\n",
              "    </tr>\n",
              "    <tr>\n",
              "      <th>2</th>\n",
              "      <td>Arsenal</td>\n",
              "      <td>2</td>\n",
              "      <td>100.0</td>\n",
              "      <td>37.9</td>\n",
              "      <td>0.6</td>\n",
              "      <td>2.2</td>\n",
              "      <td>1.1</td>\n",
              "      <td>54.0</td>\n",
              "      <td>206.0</td>\n",
              "      <td>7.2</td>\n",
              "      <td>39.0</td>\n",
              "      <td>3.2</td>\n",
              "      <td>1254</td>\n",
              "      <td>David Luiz Moreira Marinho</td>\n",
              "      <td>Defender</td>\n",
              "      <td>-30.6</td>\n",
              "    </tr>\n",
              "    <tr>\n",
              "      <th>363</th>\n",
              "      <td>Liverpool</td>\n",
              "      <td>2</td>\n",
              "      <td>100.0</td>\n",
              "      <td>27.0</td>\n",
              "      <td>0.8</td>\n",
              "      <td>2.9</td>\n",
              "      <td>0.7</td>\n",
              "      <td>40.0</td>\n",
              "      <td>153.0</td>\n",
              "      <td>7.2</td>\n",
              "      <td>29.0</td>\n",
              "      <td>3.2</td>\n",
              "      <td>825</td>\n",
              "      <td>Nathaniel Phillips</td>\n",
              "      <td>Defender</td>\n",
              "      <td>-16.8</td>\n",
              "    </tr>\n",
              "    <tr>\n",
              "      <th>617</th>\n",
              "      <td>West Ham</td>\n",
              "      <td>1</td>\n",
              "      <td>100.0</td>\n",
              "      <td>54.6</td>\n",
              "      <td>0.6</td>\n",
              "      <td>4.2</td>\n",
              "      <td>3.2</td>\n",
              "      <td>50.0</td>\n",
              "      <td>489.0</td>\n",
              "      <td>21.6</td>\n",
              "      <td>108.0</td>\n",
              "      <td>3.0</td>\n",
              "      <td>2340</td>\n",
              "      <td>Lukasz Fabianski</td>\n",
              "      <td>Goalkeeper</td>\n",
              "      <td>14.8</td>\n",
              "    </tr>\n",
              "    <tr>\n",
              "      <th>14</th>\n",
              "      <td>Arsenal</td>\n",
              "      <td>2</td>\n",
              "      <td>100.0</td>\n",
              "      <td>96.5</td>\n",
              "      <td>0.5</td>\n",
              "      <td>3.6</td>\n",
              "      <td>6.7</td>\n",
              "      <td>52.0</td>\n",
              "      <td>402.0</td>\n",
              "      <td>14.6</td>\n",
              "      <td>76.0</td>\n",
              "      <td>2.8</td>\n",
              "      <td>1880</td>\n",
              "      <td>Kieran Tierney</td>\n",
              "      <td>Defender</td>\n",
              "      <td>-14.0</td>\n",
              "    </tr>\n",
              "    <tr>\n",
              "      <th>3</th>\n",
              "      <td>Arsenal</td>\n",
              "      <td>3</td>\n",
              "      <td>100.0</td>\n",
              "      <td>139.0</td>\n",
              "      <td>0.2</td>\n",
              "      <td>4.5</td>\n",
              "      <td>13.0</td>\n",
              "      <td>115.0</td>\n",
              "      <td>288.0</td>\n",
              "      <td>9.0</td>\n",
              "      <td>104.0</td>\n",
              "      <td>2.8</td>\n",
              "      <td>1851</td>\n",
              "      <td>Pierre-Emerick Aubameyang</td>\n",
              "      <td>Midfielder</td>\n",
              "      <td>-94.2</td>\n",
              "    </tr>\n",
              "  </tbody>\n",
              "</table>\n",
              "</div>"
            ],
            "text/plain": [
              "          team  element_type  ...    position  realvalue\n",
              "416    Man Utd             2  ...    Defender       99.2\n",
              "323      Leeds             1  ...  Goalkeeper      124.8\n",
              "414    Man Utd             2  ...    Defender       69.3\n",
              "428    Man Utd             2  ...    Defender       51.0\n",
              "5      Arsenal             4  ...     Forward      -22.2\n",
              "25     Arsenal             3  ...  Midfielder      -37.2\n",
              "423    Man Utd             2  ...    Defender       29.4\n",
              "354  Liverpool             2  ...    Defender      -16.6\n",
              "623   West Ham             4  ...     Forward      -17.8\n",
              "621   West Ham             2  ...    Defender       35.5\n",
              "15     Arsenal             3  ...  Midfielder      -47.5\n",
              "331      Leeds             3  ...  Midfielder       13.3\n",
              "351  Liverpool             2  ...    Defender      -14.5\n",
              "426    Man Utd             3  ...  Midfielder      -45.0\n",
              "348  Liverpool             1  ...  Goalkeeper      -14.5\n",
              "2      Arsenal             2  ...    Defender      -30.6\n",
              "363  Liverpool             2  ...    Defender      -16.8\n",
              "617   West Ham             1  ...  Goalkeeper       14.8\n",
              "14     Arsenal             2  ...    Defender      -14.0\n",
              "3      Arsenal             3  ...  Midfielder      -94.2\n",
              "\n",
              "[20 rows x 16 columns]"
            ]
          },
          "metadata": {
            "tags": []
          },
          "execution_count": 51
        }
      ]
    },
    {
      "cell_type": "code",
      "metadata": {
        "colab": {
          "base_uri": "https://localhost:8080/",
          "height": 376
        },
        "id": "hfg2rmyG4voZ",
        "outputId": "2e4476e7-1a4f-4dc1-ebaf-eca926af6fa0"
      },
      "source": [
        "filter_gw29_1.sort_values('form',ascending=False).head(10)"
      ],
      "execution_count": 49,
      "outputs": [
        {
          "output_type": "execute_result",
          "data": {
            "text/html": [
              "<div>\n",
              "<style scoped>\n",
              "    .dataframe tbody tr th:only-of-type {\n",
              "        vertical-align: middle;\n",
              "    }\n",
              "\n",
              "    .dataframe tbody tr th {\n",
              "        vertical-align: top;\n",
              "    }\n",
              "\n",
              "    .dataframe thead th {\n",
              "        text-align: right;\n",
              "    }\n",
              "</style>\n",
              "<table border=\"1\" class=\"dataframe\">\n",
              "  <thead>\n",
              "    <tr style=\"text-align: right;\">\n",
              "      <th></th>\n",
              "      <th>team</th>\n",
              "      <th>element_type</th>\n",
              "      <th>chance_of_playing_this_round</th>\n",
              "      <th>ict_index</th>\n",
              "      <th>value_form</th>\n",
              "      <th>points_per_game</th>\n",
              "      <th>selected_by_percent</th>\n",
              "      <th>now_cost</th>\n",
              "      <th>bps</th>\n",
              "      <th>value_season</th>\n",
              "      <th>total_points</th>\n",
              "      <th>form</th>\n",
              "      <th>minutes</th>\n",
              "      <th>name</th>\n",
              "      <th>position</th>\n",
              "      <th>realvalue</th>\n",
              "    </tr>\n",
              "  </thead>\n",
              "  <tbody>\n",
              "    <tr>\n",
              "      <th>573</th>\n",
              "      <td>Spurs</td>\n",
              "      <td>3</td>\n",
              "      <td>100.0</td>\n",
              "      <td>68.8</td>\n",
              "      <td>0.8</td>\n",
              "      <td>4.8</td>\n",
              "      <td>15.2</td>\n",
              "      <td>96.0</td>\n",
              "      <td>187.0</td>\n",
              "      <td>6.0</td>\n",
              "      <td>58.0</td>\n",
              "      <td>8.0</td>\n",
              "      <td>552</td>\n",
              "      <td>Gareth Bale</td>\n",
              "      <td>Midfielder</td>\n",
              "      <td>-49.6</td>\n",
              "    </tr>\n",
              "    <tr>\n",
              "      <th>416</th>\n",
              "      <td>Man Utd</td>\n",
              "      <td>2</td>\n",
              "      <td>100.0</td>\n",
              "      <td>147.5</td>\n",
              "      <td>1.4</td>\n",
              "      <td>4.3</td>\n",
              "      <td>12.1</td>\n",
              "      <td>52.0</td>\n",
              "      <td>520.0</td>\n",
              "      <td>20.8</td>\n",
              "      <td>108.0</td>\n",
              "      <td>7.4</td>\n",
              "      <td>2023</td>\n",
              "      <td>Luke Shaw</td>\n",
              "      <td>Defender</td>\n",
              "      <td>99.2</td>\n",
              "    </tr>\n",
              "    <tr>\n",
              "      <th>164</th>\n",
              "      <td>Chelsea</td>\n",
              "      <td>1</td>\n",
              "      <td>100.0</td>\n",
              "      <td>36.4</td>\n",
              "      <td>1.3</td>\n",
              "      <td>4.7</td>\n",
              "      <td>7.2</td>\n",
              "      <td>51.0</td>\n",
              "      <td>497.0</td>\n",
              "      <td>22.2</td>\n",
              "      <td>113.0</td>\n",
              "      <td>6.6</td>\n",
              "      <td>2160</td>\n",
              "      <td>Edouard Mendy</td>\n",
              "      <td>Goalkeeper</td>\n",
              "      <td>95.9</td>\n",
              "    </tr>\n",
              "    <tr>\n",
              "      <th>323</th>\n",
              "      <td>Leeds</td>\n",
              "      <td>1</td>\n",
              "      <td>100.0</td>\n",
              "      <td>82.7</td>\n",
              "      <td>1.4</td>\n",
              "      <td>4.5</td>\n",
              "      <td>7.3</td>\n",
              "      <td>46.0</td>\n",
              "      <td>611.0</td>\n",
              "      <td>26.5</td>\n",
              "      <td>122.0</td>\n",
              "      <td>6.6</td>\n",
              "      <td>2430</td>\n",
              "      <td>Illan Meslier</td>\n",
              "      <td>Goalkeeper</td>\n",
              "      <td>124.8</td>\n",
              "    </tr>\n",
              "    <tr>\n",
              "      <th>414</th>\n",
              "      <td>Man Utd</td>\n",
              "      <td>2</td>\n",
              "      <td>100.0</td>\n",
              "      <td>112.6</td>\n",
              "      <td>1.1</td>\n",
              "      <td>3.9</td>\n",
              "      <td>5.1</td>\n",
              "      <td>55.0</td>\n",
              "      <td>558.0</td>\n",
              "      <td>20.5</td>\n",
              "      <td>113.0</td>\n",
              "      <td>6.2</td>\n",
              "      <td>2610</td>\n",
              "      <td>Harry Maguire</td>\n",
              "      <td>Defender</td>\n",
              "      <td>69.3</td>\n",
              "    </tr>\n",
              "    <tr>\n",
              "      <th>152</th>\n",
              "      <td>Chelsea</td>\n",
              "      <td>2</td>\n",
              "      <td>100.0</td>\n",
              "      <td>29.6</td>\n",
              "      <td>1.3</td>\n",
              "      <td>3.4</td>\n",
              "      <td>0.8</td>\n",
              "      <td>47.0</td>\n",
              "      <td>233.0</td>\n",
              "      <td>8.7</td>\n",
              "      <td>41.0</td>\n",
              "      <td>6.0</td>\n",
              "      <td>999</td>\n",
              "      <td>Andreas Christensen</td>\n",
              "      <td>Defender</td>\n",
              "      <td>6.3</td>\n",
              "    </tr>\n",
              "    <tr>\n",
              "      <th>428</th>\n",
              "      <td>Man Utd</td>\n",
              "      <td>2</td>\n",
              "      <td>100.0</td>\n",
              "      <td>105.0</td>\n",
              "      <td>0.9</td>\n",
              "      <td>4.4</td>\n",
              "      <td>16.2</td>\n",
              "      <td>57.0</td>\n",
              "      <td>579.0</td>\n",
              "      <td>21.1</td>\n",
              "      <td>120.0</td>\n",
              "      <td>5.0</td>\n",
              "      <td>2430</td>\n",
              "      <td>Aaron Wan-Bissaka</td>\n",
              "      <td>Defender</td>\n",
              "      <td>51.0</td>\n",
              "    </tr>\n",
              "    <tr>\n",
              "      <th>278</th>\n",
              "      <td>Leicester</td>\n",
              "      <td>4</td>\n",
              "      <td>100.0</td>\n",
              "      <td>187.1</td>\n",
              "      <td>0.5</td>\n",
              "      <td>5.9</td>\n",
              "      <td>18.7</td>\n",
              "      <td>102.0</td>\n",
              "      <td>512.0</td>\n",
              "      <td>14.4</td>\n",
              "      <td>147.0</td>\n",
              "      <td>4.8</td>\n",
              "      <td>2045</td>\n",
              "      <td>Jamie Vardy</td>\n",
              "      <td>Forward</td>\n",
              "      <td>-28.5</td>\n",
              "    </tr>\n",
              "    <tr>\n",
              "      <th>554</th>\n",
              "      <td>Spurs</td>\n",
              "      <td>3</td>\n",
              "      <td>100.0</td>\n",
              "      <td>61.3</td>\n",
              "      <td>0.7</td>\n",
              "      <td>2.5</td>\n",
              "      <td>2.3</td>\n",
              "      <td>66.0</td>\n",
              "      <td>165.0</td>\n",
              "      <td>8.6</td>\n",
              "      <td>57.0</td>\n",
              "      <td>4.8</td>\n",
              "      <td>1002</td>\n",
              "      <td>Lucas Rodrigues Moura da Silva</td>\n",
              "      <td>Midfielder</td>\n",
              "      <td>-26.1</td>\n",
              "    </tr>\n",
              "    <tr>\n",
              "      <th>5</th>\n",
              "      <td>Arsenal</td>\n",
              "      <td>4</td>\n",
              "      <td>100.0</td>\n",
              "      <td>137.7</td>\n",
              "      <td>0.6</td>\n",
              "      <td>4.1</td>\n",
              "      <td>6.7</td>\n",
              "      <td>81.0</td>\n",
              "      <td>343.0</td>\n",
              "      <td>12.1</td>\n",
              "      <td>98.0</td>\n",
              "      <td>4.5</td>\n",
              "      <td>1527</td>\n",
              "      <td>Alexandre Lacazette</td>\n",
              "      <td>Forward</td>\n",
              "      <td>-22.2</td>\n",
              "    </tr>\n",
              "  </tbody>\n",
              "</table>\n",
              "</div>"
            ],
            "text/plain": [
              "          team  element_type  ...    position  realvalue\n",
              "573      Spurs             3  ...  Midfielder      -49.6\n",
              "416    Man Utd             2  ...    Defender       99.2\n",
              "164    Chelsea             1  ...  Goalkeeper       95.9\n",
              "323      Leeds             1  ...  Goalkeeper      124.8\n",
              "414    Man Utd             2  ...    Defender       69.3\n",
              "152    Chelsea             2  ...    Defender        6.3\n",
              "428    Man Utd             2  ...    Defender       51.0\n",
              "278  Leicester             4  ...     Forward      -28.5\n",
              "554      Spurs             3  ...  Midfielder      -26.1\n",
              "5      Arsenal             4  ...     Forward      -22.2\n",
              "\n",
              "[10 rows x 16 columns]"
            ]
          },
          "metadata": {
            "tags": []
          },
          "execution_count": 49
        }
      ]
    },
    {
      "cell_type": "markdown",
      "metadata": {
        "id": "_A0xgUn24va6"
      },
      "source": [
        ""
      ]
    },
    {
      "cell_type": "markdown",
      "metadata": {
        "id": "eLZcjyjDy9eh"
      },
      "source": [
        "#### Sort by value_season"
      ]
    },
    {
      "cell_type": "code",
      "metadata": {
        "id": "GR-6H-P-zdmP"
      },
      "source": [
        "filter_elements_df.pop('value_season')"
      ],
      "execution_count": null,
      "outputs": []
    },
    {
      "cell_type": "markdown",
      "metadata": {
        "id": "cBqtsDN00jJ_"
      },
      "source": [
        "Convert to Float"
      ]
    },
    {
      "cell_type": "code",
      "metadata": {
        "id": "--_C_9M8z2Fj"
      },
      "source": [
        "filter_elements_df['chance_of_playing_this_round'] = filter_elements_df.chance_of_playing_this_round.astype(float)\n",
        "filter_elements_df['ict_index'] = filter_elements_df.ict_index.astype(float)\n",
        "filter_elements_df['value_form'] = filter_elements_df.value_form.astype(float)\n",
        "filter_elements_df['points_per_game'] = filter_elements_df.points_per_game.astype(float)\n",
        "filter_elements_df['selected_by_percent'] = filter_elements_df.selected_by_percent.astype(float)\n",
        "filter_elements_df['now_cost'] = filter_elements_df.now_cost.astype(float)\n",
        "filter_elements_df['bps'] = filter_elements_df.bps.astype(float)"
      ],
      "execution_count": null,
      "outputs": []
    },
    {
      "cell_type": "code",
      "metadata": {
        "id": "-o-BTJVT1Jb3"
      },
      "source": [
        "filter_elements_df['minutes'] = elements_df['minutes']"
      ],
      "execution_count": null,
      "outputs": []
    },
    {
      "cell_type": "markdown",
      "metadata": {
        "id": "TK_AMd1i0mXk"
      },
      "source": [
        "Add RealValue"
      ]
    },
    {
      "cell_type": "code",
      "metadata": {
        "id": "yOrpbFYq0h5f",
        "colab": {
          "base_uri": "https://localhost:8080/"
        },
        "outputId": "ecfd55d3-25dc-4998-9cfc-fb2c07a8dbd3"
      },
      "source": [
        "filter_elements_df['realvalue'] = (filter_elements_df['value_form'] * filter_elements_df['total_points']) - filter_elements_df['now_cost']"
      ],
      "execution_count": 21,
      "outputs": [
        {
          "output_type": "stream",
          "text": [
            "/usr/local/lib/python3.7/dist-packages/ipykernel_launcher.py:1: SettingWithCopyWarning: \n",
            "A value is trying to be set on a copy of a slice from a DataFrame.\n",
            "Try using .loc[row_indexer,col_indexer] = value instead\n",
            "\n",
            "See the caveats in the documentation: https://pandas.pydata.org/pandas-docs/stable/user_guide/indexing.html#returning-a-view-versus-a-copy\n",
            "  \"\"\"Entry point for launching an IPython kernel.\n"
          ],
          "name": "stderr"
        }
      ]
    },
    {
      "cell_type": "markdown",
      "metadata": {
        "id": "T6JrrfAuy9ei"
      },
      "source": [
        "#### Helps us see the top value picks of the year"
      ]
    },
    {
      "cell_type": "markdown",
      "metadata": {
        "id": "vi6t89cTy9ei"
      },
      "source": [
        "#### value_season has string values"
      ]
    },
    {
      "cell_type": "markdown",
      "metadata": {
        "id": "zYT3-gumy9ej"
      },
      "source": [
        "#### To avoid data conflict, we need to create a new column called value. \n",
        "#### astype() helps convert values to float"
      ]
    },
    {
      "cell_type": "code",
      "metadata": {
        "id": "SbvrSmUCy9ek",
        "colab": {
          "base_uri": "https://localhost:8080/"
        },
        "outputId": "97dd1377-f428-4036-c860-3c98d676756e"
      },
      "source": [
        "filter_elements_df['value_season'] = filter_elements_df.value_season.astype(float)"
      ],
      "execution_count": 15,
      "outputs": [
        {
          "output_type": "stream",
          "text": [
            "/usr/local/lib/python3.7/dist-packages/ipykernel_launcher.py:1: SettingWithCopyWarning: \n",
            "A value is trying to be set on a copy of a slice from a DataFrame.\n",
            "Try using .loc[row_indexer,col_indexer] = value instead\n",
            "\n",
            "See the caveats in the documentation: https://pandas.pydata.org/pandas-docs/stable/user_guide/indexing.html#returning-a-view-versus-a-copy\n",
            "  \"\"\"Entry point for launching an IPython kernel.\n"
          ],
          "name": "stderr"
        }
      ]
    },
    {
      "cell_type": "markdown",
      "metadata": {
        "id": "ohwbLPV_y9el"
      },
      "source": [
        "sort_values() helps you sort data"
      ]
    },
    {
      "cell_type": "markdown",
      "metadata": {
        "id": "nNoTKlQ8y9el"
      },
      "source": [
        "#### Default is ascending direction from low to high. For descending, set to False."
      ]
    },
    {
      "cell_type": "code",
      "metadata": {
        "id": "q_pnGc9Wy9em"
      },
      "source": [
        "filter_elements_df.sort_values('total_points',ascending=False).head(20)"
      ],
      "execution_count": null,
      "outputs": []
    },
    {
      "cell_type": "code",
      "metadata": {
        "id": "unEZKFYEArsR"
      },
      "source": [
        "filter_elements_df.sort_values('realvalue',ascending=False).head(20)"
      ],
      "execution_count": null,
      "outputs": []
    },
    {
      "cell_type": "markdown",
      "metadata": {
        "id": "ebB_jGmly9en"
      },
      "source": [
        "#### Value season = total points / now cost"
      ]
    },
    {
      "cell_type": "markdown",
      "metadata": {
        "id": "-DK0q7Xzy9eo"
      },
      "source": [
        "### Using Pivot_table()"
      ]
    },
    {
      "cell_type": "markdown",
      "metadata": {
        "id": "CswDfoNky9ep"
      },
      "source": [
        "#### Using pivot on column position -> value by position"
      ]
    },
    {
      "cell_type": "code",
      "metadata": {
        "id": "oro-cJ32y9ep"
      },
      "source": [
        "pivot = filter_elements_df.pivot_table(index='position',values='value',aggfunc=np.mean).reset_index()"
      ],
      "execution_count": null,
      "outputs": []
    },
    {
      "cell_type": "code",
      "metadata": {
        "colab": {
          "base_uri": "https://localhost:8080/",
          "height": 166
        },
        "id": "pslN4KB2y9eq",
        "outputId": "9d1db94a-8056-4d4d-a749-594c88b5891c"
      },
      "source": [
        "pivot.sort_values('value',ascending = False)"
      ],
      "execution_count": null,
      "outputs": [
        {
          "output_type": "execute_result",
          "data": {
            "text/html": [
              "<div>\n",
              "<style scoped>\n",
              "    .dataframe tbody tr th:only-of-type {\n",
              "        vertical-align: middle;\n",
              "    }\n",
              "\n",
              "    .dataframe tbody tr th {\n",
              "        vertical-align: top;\n",
              "    }\n",
              "\n",
              "    .dataframe thead th {\n",
              "        text-align: right;\n",
              "    }\n",
              "</style>\n",
              "<table border=\"1\" class=\"dataframe\">\n",
              "  <thead>\n",
              "    <tr style=\"text-align: right;\">\n",
              "      <th></th>\n",
              "      <th>position</th>\n",
              "      <th>value</th>\n",
              "    </tr>\n",
              "  </thead>\n",
              "  <tbody>\n",
              "    <tr>\n",
              "      <th>0</th>\n",
              "      <td>Defender</td>\n",
              "      <td>4.773128</td>\n",
              "    </tr>\n",
              "    <tr>\n",
              "      <th>3</th>\n",
              "      <td>Midfielder</td>\n",
              "      <td>4.528846</td>\n",
              "    </tr>\n",
              "    <tr>\n",
              "      <th>1</th>\n",
              "      <td>Forward</td>\n",
              "      <td>4.172619</td>\n",
              "    </tr>\n",
              "    <tr>\n",
              "      <th>2</th>\n",
              "      <td>Goalkeeper</td>\n",
              "      <td>3.912162</td>\n",
              "    </tr>\n",
              "  </tbody>\n",
              "</table>\n",
              "</div>"
            ],
            "text/plain": [
              "     position     value\n",
              "0    Defender  4.773128\n",
              "3  Midfielder  4.528846\n",
              "1     Forward  4.172619\n",
              "2  Goalkeeper  3.912162"
            ]
          },
          "metadata": {
            "tags": []
          },
          "execution_count": 24
        }
      ]
    },
    {
      "cell_type": "markdown",
      "metadata": {
        "id": "Y8LK-CXPy9er"
      },
      "source": [
        "#### This result maybe skewed by players who play less minutes"
      ]
    },
    {
      "cell_type": "markdown",
      "metadata": {
        "id": "H2YDOS1Ry9er"
      },
      "source": [
        "#### Let's remove 0 minute players"
      ]
    },
    {
      "cell_type": "markdown",
      "metadata": {
        "id": "bI7teQdUy9es"
      },
      "source": [
        "### Using .loc[ ]"
      ]
    },
    {
      "cell_type": "markdown",
      "metadata": {
        "id": "MoBnatIsy9et"
      },
      "source": [
        "#### .loc helps you locate specifc rows/columns"
      ]
    },
    {
      "cell_type": "code",
      "metadata": {
        "id": "id7pkZjAy9et"
      },
      "source": [
        "filter_elements_df = filter_elements_df.loc[filter_elements_df.minutes > 500 ]\n",
        "filter_elements_df = filter_elements_df.loc[filter_elements_df.chance_of_playing_this_round > 90 ]\n"
      ],
      "execution_count": 31,
      "outputs": []
    },
    {
      "cell_type": "code",
      "metadata": {
        "id": "cIXMHE7oy9eu"
      },
      "source": [
        "pivot = filter_elements_df.pivot_table(index='position',values='value',aggfunc=np.mean).reset_index()"
      ],
      "execution_count": null,
      "outputs": []
    },
    {
      "cell_type": "code",
      "metadata": {
        "colab": {
          "base_uri": "https://localhost:8080/",
          "height": 166
        },
        "id": "ntKyfZHBy9eu",
        "outputId": "9577e142-6e4e-40e7-de11-af706106603e"
      },
      "source": [
        "pivot.sort_values('value',ascending = False)"
      ],
      "execution_count": null,
      "outputs": [
        {
          "output_type": "execute_result",
          "data": {
            "text/html": [
              "<div>\n",
              "<style scoped>\n",
              "    .dataframe tbody tr th:only-of-type {\n",
              "        vertical-align: middle;\n",
              "    }\n",
              "\n",
              "    .dataframe tbody tr th {\n",
              "        vertical-align: top;\n",
              "    }\n",
              "\n",
              "    .dataframe thead th {\n",
              "        text-align: right;\n",
              "    }\n",
              "</style>\n",
              "<table border=\"1\" class=\"dataframe\">\n",
              "  <thead>\n",
              "    <tr style=\"text-align: right;\">\n",
              "      <th></th>\n",
              "      <th>position</th>\n",
              "      <th>value</th>\n",
              "    </tr>\n",
              "  </thead>\n",
              "  <tbody>\n",
              "    <tr>\n",
              "      <th>2</th>\n",
              "      <td>Goalkeeper</td>\n",
              "      <td>8.772727</td>\n",
              "    </tr>\n",
              "    <tr>\n",
              "      <th>0</th>\n",
              "      <td>Defender</td>\n",
              "      <td>6.337427</td>\n",
              "    </tr>\n",
              "    <tr>\n",
              "      <th>3</th>\n",
              "      <td>Midfielder</td>\n",
              "      <td>5.946970</td>\n",
              "    </tr>\n",
              "    <tr>\n",
              "      <th>1</th>\n",
              "      <td>Forward</td>\n",
              "      <td>5.476562</td>\n",
              "    </tr>\n",
              "  </tbody>\n",
              "</table>\n",
              "</div>"
            ],
            "text/plain": [
              "     position     value\n",
              "2  Goalkeeper  8.772727\n",
              "0    Defender  6.337427\n",
              "3  Midfielder  5.946970\n",
              "1     Forward  5.476562"
            ]
          },
          "metadata": {
            "tags": []
          },
          "execution_count": 28
        }
      ]
    },
    {
      "cell_type": "markdown",
      "metadata": {
        "id": "jnHRieJjy9ev"
      },
      "source": [
        "#### Which Teams are providing the most value this year?"
      ]
    },
    {
      "cell_type": "code",
      "metadata": {
        "id": "uy-dqyqHy9ew"
      },
      "source": [
        "team_pivot = filter_elements_df.pivot_table(index = 'team', values ='value', aggfunc = np.mean).reset_index()"
      ],
      "execution_count": null,
      "outputs": []
    },
    {
      "cell_type": "code",
      "metadata": {
        "colab": {
          "base_uri": "https://localhost:8080/",
          "height": 639
        },
        "id": "Jlh4jbKKy9ex",
        "outputId": "a2c6ac7e-db17-49e9-e52b-7e8e26289394"
      },
      "source": [
        "team_pivot.sort_values('value', ascending = False)"
      ],
      "execution_count": null,
      "outputs": [
        {
          "output_type": "execute_result",
          "data": {
            "text/html": [
              "<div>\n",
              "<style scoped>\n",
              "    .dataframe tbody tr th:only-of-type {\n",
              "        vertical-align: middle;\n",
              "    }\n",
              "\n",
              "    .dataframe tbody tr th {\n",
              "        vertical-align: top;\n",
              "    }\n",
              "\n",
              "    .dataframe thead th {\n",
              "        text-align: right;\n",
              "    }\n",
              "</style>\n",
              "<table border=\"1\" class=\"dataframe\">\n",
              "  <thead>\n",
              "    <tr style=\"text-align: right;\">\n",
              "      <th></th>\n",
              "      <th>team</th>\n",
              "      <th>value</th>\n",
              "    </tr>\n",
              "  </thead>\n",
              "  <tbody>\n",
              "    <tr>\n",
              "      <th>1</th>\n",
              "      <td>Aston Villa</td>\n",
              "      <td>8.957895</td>\n",
              "    </tr>\n",
              "    <tr>\n",
              "      <th>18</th>\n",
              "      <td>West Ham</td>\n",
              "      <td>7.927273</td>\n",
              "    </tr>\n",
              "    <tr>\n",
              "      <th>8</th>\n",
              "      <td>Leeds</td>\n",
              "      <td>7.676190</td>\n",
              "    </tr>\n",
              "    <tr>\n",
              "      <th>15</th>\n",
              "      <td>Southampton</td>\n",
              "      <td>7.160870</td>\n",
              "    </tr>\n",
              "    <tr>\n",
              "      <th>11</th>\n",
              "      <td>Man City</td>\n",
              "      <td>6.956522</td>\n",
              "    </tr>\n",
              "    <tr>\n",
              "      <th>3</th>\n",
              "      <td>Burnley</td>\n",
              "      <td>6.680952</td>\n",
              "    </tr>\n",
              "    <tr>\n",
              "      <th>5</th>\n",
              "      <td>Crystal Palace</td>\n",
              "      <td>6.619048</td>\n",
              "    </tr>\n",
              "    <tr>\n",
              "      <th>16</th>\n",
              "      <td>Spurs</td>\n",
              "      <td>6.463636</td>\n",
              "    </tr>\n",
              "    <tr>\n",
              "      <th>4</th>\n",
              "      <td>Chelsea</td>\n",
              "      <td>6.458333</td>\n",
              "    </tr>\n",
              "    <tr>\n",
              "      <th>0</th>\n",
              "      <td>Arsenal</td>\n",
              "      <td>6.300000</td>\n",
              "    </tr>\n",
              "    <tr>\n",
              "      <th>9</th>\n",
              "      <td>Leicester</td>\n",
              "      <td>6.180000</td>\n",
              "    </tr>\n",
              "    <tr>\n",
              "      <th>19</th>\n",
              "      <td>Wolves</td>\n",
              "      <td>6.058333</td>\n",
              "    </tr>\n",
              "    <tr>\n",
              "      <th>12</th>\n",
              "      <td>Man Utd</td>\n",
              "      <td>6.030435</td>\n",
              "    </tr>\n",
              "    <tr>\n",
              "      <th>2</th>\n",
              "      <td>Brighton</td>\n",
              "      <td>5.950000</td>\n",
              "    </tr>\n",
              "    <tr>\n",
              "      <th>7</th>\n",
              "      <td>Fulham</td>\n",
              "      <td>5.769565</td>\n",
              "    </tr>\n",
              "    <tr>\n",
              "      <th>6</th>\n",
              "      <td>Everton</td>\n",
              "      <td>5.433333</td>\n",
              "    </tr>\n",
              "    <tr>\n",
              "      <th>13</th>\n",
              "      <td>Newcastle</td>\n",
              "      <td>5.200000</td>\n",
              "    </tr>\n",
              "    <tr>\n",
              "      <th>10</th>\n",
              "      <td>Liverpool</td>\n",
              "      <td>5.150000</td>\n",
              "    </tr>\n",
              "    <tr>\n",
              "      <th>14</th>\n",
              "      <td>Sheffield Utd</td>\n",
              "      <td>4.495833</td>\n",
              "    </tr>\n",
              "    <tr>\n",
              "      <th>17</th>\n",
              "      <td>West Brom</td>\n",
              "      <td>4.388462</td>\n",
              "    </tr>\n",
              "  </tbody>\n",
              "</table>\n",
              "</div>"
            ],
            "text/plain": [
              "              team     value\n",
              "1      Aston Villa  8.957895\n",
              "18        West Ham  7.927273\n",
              "8            Leeds  7.676190\n",
              "15     Southampton  7.160870\n",
              "11        Man City  6.956522\n",
              "3          Burnley  6.680952\n",
              "5   Crystal Palace  6.619048\n",
              "16           Spurs  6.463636\n",
              "4          Chelsea  6.458333\n",
              "0          Arsenal  6.300000\n",
              "9        Leicester  6.180000\n",
              "19          Wolves  6.058333\n",
              "12         Man Utd  6.030435\n",
              "2         Brighton  5.950000\n",
              "7           Fulham  5.769565\n",
              "6          Everton  5.433333\n",
              "13       Newcastle  5.200000\n",
              "10       Liverpool  5.150000\n",
              "14   Sheffield Utd  4.495833\n",
              "17       West Brom  4.388462"
            ]
          },
          "metadata": {
            "tags": []
          },
          "execution_count": 30
        }
      ]
    },
    {
      "cell_type": "markdown",
      "metadata": {
        "id": "zKx1YONNy9ex"
      },
      "source": [
        "####"
      ]
    },
    {
      "cell_type": "markdown",
      "metadata": {
        "id": "qluttWxpy9ey"
      },
      "source": [
        "### Using .hist()"
      ]
    },
    {
      "cell_type": "markdown",
      "metadata": {
        "id": "u-dARHkhy9ey"
      },
      "source": [
        "#### Histogram distribution of each value by position"
      ]
    },
    {
      "cell_type": "markdown",
      "metadata": {
        "id": "DIlN50WWy9ez"
      },
      "source": [
        "#### Filter more dataframes"
      ]
    },
    {
      "cell_type": "code",
      "metadata": {
        "id": "L4aoBNN6y9e0"
      },
      "source": [
        "fwd_df = filter_elements_df.loc[filter_elements_df.position == 'Forward']\n",
        "mid_df = filter_elements_df.loc[filter_elements_df.position == 'Midfielder']\n",
        "def_df = filter_elements_df.loc[filter_elements_df.position == 'Defender']\n",
        "gk_df = filter_elements_df.loc[filter_elements_df.position == 'Goalkeeper']"
      ],
      "execution_count": null,
      "outputs": []
    },
    {
      "cell_type": "code",
      "metadata": {
        "id": "MdhFwYZtRs47",
        "colab": {
          "base_uri": "https://localhost:8080/"
        },
        "outputId": "2f090c85-b2c8-4139-9c94-be674e0973c2"
      },
      "source": [
        "filter_elements_df['form'] = filter_elements_df.form.astype(float)"
      ],
      "execution_count": 16,
      "outputs": [
        {
          "output_type": "stream",
          "text": [
            "/usr/local/lib/python3.7/dist-packages/ipykernel_launcher.py:1: SettingWithCopyWarning: \n",
            "A value is trying to be set on a copy of a slice from a DataFrame.\n",
            "Try using .loc[row_indexer,col_indexer] = value instead\n",
            "\n",
            "See the caveats in the documentation: https://pandas.pydata.org/pandas-docs/stable/user_guide/indexing.html#returning-a-view-versus-a-copy\n",
            "  \"\"\"Entry point for launching an IPython kernel.\n"
          ],
          "name": "stderr"
        }
      ]
    },
    {
      "cell_type": "code",
      "metadata": {
        "id": "Bv8RclHp8YVx",
        "colab": {
          "base_uri": "https://localhost:8080/"
        },
        "outputId": "55b85200-cacc-4f6f-8012-54bb9b10bfee"
      },
      "source": [
        "filter_elements_df['total_points'] = filter_elements_df.total_points.astype(float)"
      ],
      "execution_count": 17,
      "outputs": [
        {
          "output_type": "stream",
          "text": [
            "/usr/local/lib/python3.7/dist-packages/ipykernel_launcher.py:1: SettingWithCopyWarning: \n",
            "A value is trying to be set on a copy of a slice from a DataFrame.\n",
            "Try using .loc[row_indexer,col_indexer] = value instead\n",
            "\n",
            "See the caveats in the documentation: https://pandas.pydata.org/pandas-docs/stable/user_guide/indexing.html#returning-a-view-versus-a-copy\n",
            "  \"\"\"Entry point for launching an IPython kernel.\n"
          ],
          "name": "stderr"
        }
      ]
    },
    {
      "cell_type": "code",
      "metadata": {
        "id": "gtu13T3t8Abs",
        "colab": {
          "base_uri": "https://localhost:8080/",
          "height": 283
        },
        "outputId": "baea223f-0fb7-4e46-85d2-41faded026b1"
      },
      "source": [
        "filter_elements_df['value'] = filter_elements_df.value.astype(float)"
      ],
      "execution_count": 19,
      "outputs": [
        {
          "output_type": "error",
          "ename": "AttributeError",
          "evalue": "ignored",
          "traceback": [
            "\u001b[0;31m---------------------------------------------------------------------------\u001b[0m",
            "\u001b[0;31mAttributeError\u001b[0m                            Traceback (most recent call last)",
            "\u001b[0;32m<ipython-input-19-31a27a80fc15>\u001b[0m in \u001b[0;36m<module>\u001b[0;34m()\u001b[0m\n\u001b[0;32m----> 1\u001b[0;31m \u001b[0mfilter_elements_df\u001b[0m\u001b[0;34m[\u001b[0m\u001b[0;34m'value'\u001b[0m\u001b[0;34m]\u001b[0m \u001b[0;34m=\u001b[0m \u001b[0mfilter_elements_df\u001b[0m\u001b[0;34m.\u001b[0m\u001b[0mvalue\u001b[0m\u001b[0;34m.\u001b[0m\u001b[0mastype\u001b[0m\u001b[0;34m(\u001b[0m\u001b[0mfloat\u001b[0m\u001b[0;34m)\u001b[0m\u001b[0;34m\u001b[0m\u001b[0;34m\u001b[0m\u001b[0m\n\u001b[0m",
            "\u001b[0;32m/usr/local/lib/python3.7/dist-packages/pandas/core/generic.py\u001b[0m in \u001b[0;36m__getattr__\u001b[0;34m(self, name)\u001b[0m\n\u001b[1;32m   5139\u001b[0m             \u001b[0;32mif\u001b[0m \u001b[0mself\u001b[0m\u001b[0;34m.\u001b[0m\u001b[0m_info_axis\u001b[0m\u001b[0;34m.\u001b[0m\u001b[0m_can_hold_identifiers_and_holds_name\u001b[0m\u001b[0;34m(\u001b[0m\u001b[0mname\u001b[0m\u001b[0;34m)\u001b[0m\u001b[0;34m:\u001b[0m\u001b[0;34m\u001b[0m\u001b[0;34m\u001b[0m\u001b[0m\n\u001b[1;32m   5140\u001b[0m                 \u001b[0;32mreturn\u001b[0m \u001b[0mself\u001b[0m\u001b[0;34m[\u001b[0m\u001b[0mname\u001b[0m\u001b[0;34m]\u001b[0m\u001b[0;34m\u001b[0m\u001b[0;34m\u001b[0m\u001b[0m\n\u001b[0;32m-> 5141\u001b[0;31m             \u001b[0;32mreturn\u001b[0m \u001b[0mobject\u001b[0m\u001b[0;34m.\u001b[0m\u001b[0m__getattribute__\u001b[0m\u001b[0;34m(\u001b[0m\u001b[0mself\u001b[0m\u001b[0;34m,\u001b[0m \u001b[0mname\u001b[0m\u001b[0;34m)\u001b[0m\u001b[0;34m\u001b[0m\u001b[0;34m\u001b[0m\u001b[0m\n\u001b[0m\u001b[1;32m   5142\u001b[0m \u001b[0;34m\u001b[0m\u001b[0m\n\u001b[1;32m   5143\u001b[0m     \u001b[0;32mdef\u001b[0m \u001b[0m__setattr__\u001b[0m\u001b[0;34m(\u001b[0m\u001b[0mself\u001b[0m\u001b[0;34m,\u001b[0m \u001b[0mname\u001b[0m\u001b[0;34m:\u001b[0m \u001b[0mstr\u001b[0m\u001b[0;34m,\u001b[0m \u001b[0mvalue\u001b[0m\u001b[0;34m)\u001b[0m \u001b[0;34m->\u001b[0m \u001b[0;32mNone\u001b[0m\u001b[0;34m:\u001b[0m\u001b[0;34m\u001b[0m\u001b[0;34m\u001b[0m\u001b[0m\n",
            "\u001b[0;31mAttributeError\u001b[0m: 'DataFrame' object has no attribute 'value'"
          ]
        }
      ]
    },
    {
      "cell_type": "code",
      "metadata": {
        "id": "TqzfVbHsR9E6"
      },
      "source": [
        "mid_filter_df = mid_df.loc[mid_df['team'].isin(['Sheffield Utd','Newcastle','Burnley','Man Utd','Wolves','Man City','Brighton','Spurs','Fulham','Arsenal','Crystal Palace'])] \n",
        "def_filter_df = def_df.loc[def_df['team'].isin(['Sheffield Utd','Newcastle','Burnley','Man Utd','Wolves','Man City','Brighton','Spurs','Fulham','Arsenal','Crystal Palace'])] \n",
        "gk_filter_df = gk_df.loc[gk_df['team'].isin(['Sheffield Utd','Newcastle','Burnley','Man Utd','Wolves','Man City','Brighton','Spurs','Fulham','Arsenal','Crystal Palace'])] "
      ],
      "execution_count": null,
      "outputs": []
    },
    {
      "cell_type": "code",
      "metadata": {
        "id": "Zh7_PNpDZU6o"
      },
      "source": [
        "cheap_filter_df = filter_elements_df.loc[filter_elements_df['team'].isin(['Sheffield Utd','Newcastle','Burnley','Man Utd','Wolves','Man City','Brighton','Spurs','Fulham','Arsenal','Crystal Palace'])] "
      ],
      "execution_count": null,
      "outputs": []
    },
    {
      "cell_type": "code",
      "metadata": {
        "id": "OKnF3WKP8c9H"
      },
      "source": [
        "fwd_filter_df = fwd_df.loc[fwd_df['team'].isin(['Sheffield Utd','Newcastle','Burnley','Man Utd','Wolves','Man City','Brighton','Spurs','Fulham','Arsenal','Crystal Palace'])] "
      ],
      "execution_count": null,
      "outputs": []
    },
    {
      "cell_type": "code",
      "metadata": {
        "scrolled": true,
        "colab": {
          "base_uri": "https://localhost:8080/",
          "height": 282
        },
        "id": "Gl7WcbtEy9e1",
        "outputId": "b6f82fef-c7e9-449b-a424-941bcec58a34"
      },
      "source": [
        "fwd_df.value.hist()"
      ],
      "execution_count": null,
      "outputs": [
        {
          "output_type": "execute_result",
          "data": {
            "text/plain": [
              "<matplotlib.axes._subplots.AxesSubplot at 0x7efd26d499b0>"
            ]
          },
          "metadata": {
            "tags": []
          },
          "execution_count": 34
        },
        {
          "output_type": "display_data",
          "data": {
            "image/png": "[encoded data removed]",
            "text/plain": [
              "<Figure size 432x288 with 1 Axes>"
            ]
          },
          "metadata": {
            "tags": [],
            "needs_background": "light"
          }
        }
      ]
    },
    {
      "cell_type": "code",
      "metadata": {
        "colab": {
          "base_uri": "https://localhost:8080/",
          "height": 343
        },
        "id": "NQvBSN9cy9e2",
        "outputId": "a4e642d9-b24a-4694-ee2a-8ef215aa49cf"
      },
      "source": [
        "fwd_df.sort_values('form', ascending = False).head(10) "
      ],
      "execution_count": null,
      "outputs": [
        {
          "output_type": "execute_result",
          "data": {
            "text/html": [
              "<div>\n",
              "<style scoped>\n",
              "    .dataframe tbody tr th:only-of-type {\n",
              "        vertical-align: middle;\n",
              "    }\n",
              "\n",
              "    .dataframe tbody tr th {\n",
              "        vertical-align: top;\n",
              "    }\n",
              "\n",
              "    .dataframe thead th {\n",
              "        text-align: right;\n",
              "    }\n",
              "</style>\n",
              "<table border=\"1\" class=\"dataframe\">\n",
              "  <thead>\n",
              "    <tr style=\"text-align: right;\">\n",
              "      <th></th>\n",
              "      <th>team</th>\n",
              "      <th>element_type</th>\n",
              "      <th>selected_by_percent</th>\n",
              "      <th>now_cost</th>\n",
              "      <th>minutes</th>\n",
              "      <th>transfers_in</th>\n",
              "      <th>value_season</th>\n",
              "      <th>total_points</th>\n",
              "      <th>form</th>\n",
              "      <th>name</th>\n",
              "      <th>position</th>\n",
              "      <th>value</th>\n",
              "    </tr>\n",
              "  </thead>\n",
              "  <tbody>\n",
              "    <tr>\n",
              "      <th>519</th>\n",
              "      <td>Spurs</td>\n",
              "      <td>4</td>\n",
              "      <td>35.4</td>\n",
              "      <td>112</td>\n",
              "      <td>1654</td>\n",
              "      <td>4476706</td>\n",
              "      <td>12.8</td>\n",
              "      <td>143.0</td>\n",
              "      <td>7.5</td>\n",
              "      <td>Harry Kane</td>\n",
              "      <td>Forward</td>\n",
              "      <td>7.5</td>\n",
              "    </tr>\n",
              "    <tr>\n",
              "      <th>5</th>\n",
              "      <td>Arsenal</td>\n",
              "      <td>4</td>\n",
              "      <td>8.3</td>\n",
              "      <td>84</td>\n",
              "      <td>1121</td>\n",
              "      <td>1018177</td>\n",
              "      <td>8.7</td>\n",
              "      <td>73.0</td>\n",
              "      <td>6.8</td>\n",
              "      <td>Alexandre Lacazette</td>\n",
              "      <td>Forward</td>\n",
              "      <td>6.8</td>\n",
              "    </tr>\n",
              "    <tr>\n",
              "      <th>586</th>\n",
              "      <td>West Ham</td>\n",
              "      <td>4</td>\n",
              "      <td>16.2</td>\n",
              "      <td>65</td>\n",
              "      <td>825</td>\n",
              "      <td>1412495</td>\n",
              "      <td>8.2</td>\n",
              "      <td>53.0</td>\n",
              "      <td>6.0</td>\n",
              "      <td>Michail Antonio</td>\n",
              "      <td>Forward</td>\n",
              "      <td>6.0</td>\n",
              "    </tr>\n",
              "    <tr>\n",
              "      <th>79</th>\n",
              "      <td>Brighton</td>\n",
              "      <td>4</td>\n",
              "      <td>3.1</td>\n",
              "      <td>61</td>\n",
              "      <td>1308</td>\n",
              "      <td>815365</td>\n",
              "      <td>11.6</td>\n",
              "      <td>71.0</td>\n",
              "      <td>4.8</td>\n",
              "      <td>Neal Maupay</td>\n",
              "      <td>Forward</td>\n",
              "      <td>4.8</td>\n",
              "    </tr>\n",
              "    <tr>\n",
              "      <th>63</th>\n",
              "      <td>Aston Villa</td>\n",
              "      <td>4</td>\n",
              "      <td>15.7</td>\n",
              "      <td>62</td>\n",
              "      <td>1620</td>\n",
              "      <td>2225593</td>\n",
              "      <td>13.4</td>\n",
              "      <td>83.0</td>\n",
              "      <td>4.0</td>\n",
              "      <td>Ollie Watkins</td>\n",
              "      <td>Forward</td>\n",
              "      <td>4.0</td>\n",
              "    </tr>\n",
              "    <tr>\n",
              "      <th>486</th>\n",
              "      <td>Southampton</td>\n",
              "      <td>4</td>\n",
              "      <td>9.0</td>\n",
              "      <td>84</td>\n",
              "      <td>1128</td>\n",
              "      <td>1465564</td>\n",
              "      <td>8.9</td>\n",
              "      <td>75.0</td>\n",
              "      <td>3.7</td>\n",
              "      <td>Danny Ings</td>\n",
              "      <td>Forward</td>\n",
              "      <td>3.7</td>\n",
              "    </tr>\n",
              "    <tr>\n",
              "      <th>546</th>\n",
              "      <td>West Brom</td>\n",
              "      <td>4</td>\n",
              "      <td>1.0</td>\n",
              "      <td>54</td>\n",
              "      <td>1066</td>\n",
              "      <td>202008</td>\n",
              "      <td>9.1</td>\n",
              "      <td>49.0</td>\n",
              "      <td>3.5</td>\n",
              "      <td>Callum Robinson</td>\n",
              "      <td>Forward</td>\n",
              "      <td>3.5</td>\n",
              "    </tr>\n",
              "    <tr>\n",
              "      <th>114</th>\n",
              "      <td>Burnley</td>\n",
              "      <td>4</td>\n",
              "      <td>1.6</td>\n",
              "      <td>62</td>\n",
              "      <td>1619</td>\n",
              "      <td>258474</td>\n",
              "      <td>9.8</td>\n",
              "      <td>61.0</td>\n",
              "      <td>3.5</td>\n",
              "      <td>Chris Wood</td>\n",
              "      <td>Forward</td>\n",
              "      <td>3.5</td>\n",
              "    </tr>\n",
              "    <tr>\n",
              "      <th>326</th>\n",
              "      <td>Liverpool</td>\n",
              "      <td>4</td>\n",
              "      <td>6.3</td>\n",
              "      <td>94</td>\n",
              "      <td>1596</td>\n",
              "      <td>716791</td>\n",
              "      <td>8.5</td>\n",
              "      <td>80.0</td>\n",
              "      <td>3.0</td>\n",
              "      <td>Roberto Firmino</td>\n",
              "      <td>Forward</td>\n",
              "      <td>3.0</td>\n",
              "    </tr>\n",
              "    <tr>\n",
              "      <th>454</th>\n",
              "      <td>Sheffield Utd</td>\n",
              "      <td>4</td>\n",
              "      <td>2.1</td>\n",
              "      <td>52</td>\n",
              "      <td>1180</td>\n",
              "      <td>315166</td>\n",
              "      <td>11.2</td>\n",
              "      <td>58.0</td>\n",
              "      <td>3.0</td>\n",
              "      <td>David McGoldrick</td>\n",
              "      <td>Forward</td>\n",
              "      <td>3.0</td>\n",
              "    </tr>\n",
              "  </tbody>\n",
              "</table>\n",
              "</div>"
            ],
            "text/plain": [
              "              team  element_type  ... position  value\n",
              "519          Spurs             4  ...  Forward    7.5\n",
              "5          Arsenal             4  ...  Forward    6.8\n",
              "586       West Ham             4  ...  Forward    6.0\n",
              "79        Brighton             4  ...  Forward    4.8\n",
              "63     Aston Villa             4  ...  Forward    4.0\n",
              "486    Southampton             4  ...  Forward    3.7\n",
              "546      West Brom             4  ...  Forward    3.5\n",
              "114        Burnley             4  ...  Forward    3.5\n",
              "326      Liverpool             4  ...  Forward    3.0\n",
              "454  Sheffield Utd             4  ...  Forward    3.0\n",
              "\n",
              "[10 rows x 12 columns]"
            ]
          },
          "metadata": {
            "tags": []
          },
          "execution_count": 47
        }
      ]
    },
    {
      "cell_type": "code",
      "metadata": {
        "id": "3eVZOHjgEc8G",
        "colab": {
          "base_uri": "https://localhost:8080/",
          "height": 164
        },
        "outputId": "1ba0b718-b218-40d0-a3a5-eeac6863fc8a"
      },
      "source": [
        "fwd_filter_df['form'] = fwd_filter_df.form.astype(float)"
      ],
      "execution_count": 18,
      "outputs": [
        {
          "output_type": "error",
          "ename": "NameError",
          "evalue": "ignored",
          "traceback": [
            "\u001b[0;31m---------------------------------------------------------------------------\u001b[0m",
            "\u001b[0;31mNameError\u001b[0m                                 Traceback (most recent call last)",
            "\u001b[0;32m<ipython-input-18-c3cad2fe5e91>\u001b[0m in \u001b[0;36m<module>\u001b[0;34m()\u001b[0m\n\u001b[0;32m----> 1\u001b[0;31m \u001b[0mfwd_filter_df\u001b[0m\u001b[0;34m[\u001b[0m\u001b[0;34m'form'\u001b[0m\u001b[0;34m]\u001b[0m \u001b[0;34m=\u001b[0m \u001b[0mfwd_filter_df\u001b[0m\u001b[0;34m.\u001b[0m\u001b[0mform\u001b[0m\u001b[0;34m.\u001b[0m\u001b[0mastype\u001b[0m\u001b[0;34m(\u001b[0m\u001b[0mfloat\u001b[0m\u001b[0;34m)\u001b[0m\u001b[0;34m\u001b[0m\u001b[0;34m\u001b[0m\u001b[0m\n\u001b[0m",
            "\u001b[0;31mNameError\u001b[0m: name 'fwd_filter_df' is not defined"
          ]
        }
      ]
    },
    {
      "cell_type": "code",
      "metadata": {
        "id": "YVuiMmCjFNSU"
      },
      "source": [
        "fwd_filter_df = fwd_filter_df.loc[fwd_filter_df.realvalue < 50 ]\n",
        "fwd_filter_df = fwd_filter_df.loc[fwd_filter_df.minutes > 500 ]"
      ],
      "execution_count": null,
      "outputs": []
    },
    {
      "cell_type": "code",
      "metadata": {
        "id": "ieaccgGxGKVG"
      },
      "source": [
        "fwd_filter_df.pop('realvalue1')\n"
      ],
      "execution_count": null,
      "outputs": []
    },
    {
      "cell_type": "code",
      "metadata": {
        "id": "WVvulYV4DVDy"
      },
      "source": [
        "fwd_df['realvalue'] = (fwd_df['form'] / fwd_df['value'])*fwd_df['total_points']"
      ],
      "execution_count": null,
      "outputs": []
    },
    {
      "cell_type": "code",
      "metadata": {
        "id": "MusXoFtqSioF"
      },
      "source": [
        "mid_df['realvalue'] = (mid_df['form'] / mid_df['value'])*mid_df['total_points']\n",
        "def_df['realvalue'] = (def_df['form'] / def_df['value'])*def_df['total_points']\n",
        "gk_df['realvalue'] = (gk_df['form'] / gk_df['value'])*gk_df['total_points']"
      ],
      "execution_count": null,
      "outputs": []
    },
    {
      "cell_type": "code",
      "metadata": {
        "id": "D6pL8u6_S5KJ"
      },
      "source": [
        "mid_filter_df = mid_filter_df.loc[mid_filter_df.minutes > 500 ]\n",
        "def_filter_df = def_filter_df.loc[def_filter_df.minutes > 500 ]\n",
        "gk_filter_df = gk_filter_df.loc[gk_filter_df.minutes > 500 ]"
      ],
      "execution_count": null,
      "outputs": []
    },
    {
      "cell_type": "code",
      "metadata": {
        "id": "8oBqCqFV8w2z",
        "colab": {
          "base_uri": "https://localhost:8080/",
          "height": 514
        },
        "outputId": "fdeef73e-7d2b-4c98-e8e9-337106d4ba3e"
      },
      "source": [
        "fwd_df.sort_values('realvalue', ascending = False).head(15) "
      ],
      "execution_count": null,
      "outputs": [
        {
          "output_type": "execute_result",
          "data": {
            "text/html": [
              "<div>\n",
              "<style scoped>\n",
              "    .dataframe tbody tr th:only-of-type {\n",
              "        vertical-align: middle;\n",
              "    }\n",
              "\n",
              "    .dataframe tbody tr th {\n",
              "        vertical-align: top;\n",
              "    }\n",
              "\n",
              "    .dataframe thead th {\n",
              "        text-align: right;\n",
              "    }\n",
              "</style>\n",
              "<table border=\"1\" class=\"dataframe\">\n",
              "  <thead>\n",
              "    <tr style=\"text-align: right;\">\n",
              "      <th></th>\n",
              "      <th>team</th>\n",
              "      <th>element_type</th>\n",
              "      <th>selected_by_percent</th>\n",
              "      <th>now_cost</th>\n",
              "      <th>minutes</th>\n",
              "      <th>transfers_in</th>\n",
              "      <th>value_season</th>\n",
              "      <th>total_points</th>\n",
              "      <th>form</th>\n",
              "      <th>name</th>\n",
              "      <th>position</th>\n",
              "      <th>value</th>\n",
              "      <th>realvalue</th>\n",
              "    </tr>\n",
              "  </thead>\n",
              "  <tbody>\n",
              "    <tr>\n",
              "      <th>519</th>\n",
              "      <td>Spurs</td>\n",
              "      <td>4</td>\n",
              "      <td>35.4</td>\n",
              "      <td>112</td>\n",
              "      <td>1654</td>\n",
              "      <td>4476706</td>\n",
              "      <td>12.8</td>\n",
              "      <td>143.0</td>\n",
              "      <td>7.5</td>\n",
              "      <td>Harry Kane</td>\n",
              "      <td>Forward</td>\n",
              "      <td>7.5</td>\n",
              "      <td>143.0</td>\n",
              "    </tr>\n",
              "    <tr>\n",
              "      <th>265</th>\n",
              "      <td>Leicester</td>\n",
              "      <td>4</td>\n",
              "      <td>15.3</td>\n",
              "      <td>100</td>\n",
              "      <td>1476</td>\n",
              "      <td>3381845</td>\n",
              "      <td>11.6</td>\n",
              "      <td>116.0</td>\n",
              "      <td>2.2</td>\n",
              "      <td>Jamie Vardy</td>\n",
              "      <td>Forward</td>\n",
              "      <td>2.2</td>\n",
              "      <td>116.0</td>\n",
              "    </tr>\n",
              "    <tr>\n",
              "      <th>295</th>\n",
              "      <td>Leeds</td>\n",
              "      <td>4</td>\n",
              "      <td>47.3</td>\n",
              "      <td>66</td>\n",
              "      <td>1605</td>\n",
              "      <td>5459688</td>\n",
              "      <td>15.8</td>\n",
              "      <td>104.0</td>\n",
              "      <td>1.7</td>\n",
              "      <td>Patrick Bamford</td>\n",
              "      <td>Forward</td>\n",
              "      <td>1.7</td>\n",
              "      <td>104.0</td>\n",
              "    </tr>\n",
              "    <tr>\n",
              "      <th>208</th>\n",
              "      <td>Everton</td>\n",
              "      <td>4</td>\n",
              "      <td>35.7</td>\n",
              "      <td>76</td>\n",
              "      <td>1493</td>\n",
              "      <td>5914912</td>\n",
              "      <td>12.8</td>\n",
              "      <td>97.0</td>\n",
              "      <td>1.3</td>\n",
              "      <td>Dominic Calvert-Lewin</td>\n",
              "      <td>Forward</td>\n",
              "      <td>1.3</td>\n",
              "      <td>97.0</td>\n",
              "    </tr>\n",
              "    <tr>\n",
              "      <th>447</th>\n",
              "      <td>Newcastle</td>\n",
              "      <td>4</td>\n",
              "      <td>18.0</td>\n",
              "      <td>66</td>\n",
              "      <td>1597</td>\n",
              "      <td>3307889</td>\n",
              "      <td>14.7</td>\n",
              "      <td>97.0</td>\n",
              "      <td>2.6</td>\n",
              "      <td>Callum Wilson</td>\n",
              "      <td>Forward</td>\n",
              "      <td>2.6</td>\n",
              "      <td>97.0</td>\n",
              "    </tr>\n",
              "    <tr>\n",
              "      <th>63</th>\n",
              "      <td>Aston Villa</td>\n",
              "      <td>4</td>\n",
              "      <td>15.7</td>\n",
              "      <td>62</td>\n",
              "      <td>1620</td>\n",
              "      <td>2225593</td>\n",
              "      <td>13.4</td>\n",
              "      <td>83.0</td>\n",
              "      <td>4.0</td>\n",
              "      <td>Ollie Watkins</td>\n",
              "      <td>Forward</td>\n",
              "      <td>4.0</td>\n",
              "      <td>83.0</td>\n",
              "    </tr>\n",
              "    <tr>\n",
              "      <th>326</th>\n",
              "      <td>Liverpool</td>\n",
              "      <td>4</td>\n",
              "      <td>6.3</td>\n",
              "      <td>94</td>\n",
              "      <td>1596</td>\n",
              "      <td>716791</td>\n",
              "      <td>8.5</td>\n",
              "      <td>80.0</td>\n",
              "      <td>3.0</td>\n",
              "      <td>Roberto Firmino</td>\n",
              "      <td>Forward</td>\n",
              "      <td>3.0</td>\n",
              "      <td>80.0</td>\n",
              "    </tr>\n",
              "    <tr>\n",
              "      <th>486</th>\n",
              "      <td>Southampton</td>\n",
              "      <td>4</td>\n",
              "      <td>9.0</td>\n",
              "      <td>84</td>\n",
              "      <td>1128</td>\n",
              "      <td>1465564</td>\n",
              "      <td>8.9</td>\n",
              "      <td>75.0</td>\n",
              "      <td>3.7</td>\n",
              "      <td>Danny Ings</td>\n",
              "      <td>Forward</td>\n",
              "      <td>3.7</td>\n",
              "      <td>75.0</td>\n",
              "    </tr>\n",
              "    <tr>\n",
              "      <th>496</th>\n",
              "      <td>Southampton</td>\n",
              "      <td>4</td>\n",
              "      <td>5.3</td>\n",
              "      <td>59</td>\n",
              "      <td>1507</td>\n",
              "      <td>1191412</td>\n",
              "      <td>12.5</td>\n",
              "      <td>74.0</td>\n",
              "      <td>1.3</td>\n",
              "      <td>Che Adams</td>\n",
              "      <td>Forward</td>\n",
              "      <td>1.3</td>\n",
              "      <td>74.0</td>\n",
              "    </tr>\n",
              "    <tr>\n",
              "      <th>5</th>\n",
              "      <td>Arsenal</td>\n",
              "      <td>4</td>\n",
              "      <td>8.3</td>\n",
              "      <td>84</td>\n",
              "      <td>1121</td>\n",
              "      <td>1018177</td>\n",
              "      <td>8.7</td>\n",
              "      <td>73.0</td>\n",
              "      <td>6.8</td>\n",
              "      <td>Alexandre Lacazette</td>\n",
              "      <td>Forward</td>\n",
              "      <td>6.8</td>\n",
              "      <td>73.0</td>\n",
              "    </tr>\n",
              "    <tr>\n",
              "      <th>79</th>\n",
              "      <td>Brighton</td>\n",
              "      <td>4</td>\n",
              "      <td>3.1</td>\n",
              "      <td>61</td>\n",
              "      <td>1308</td>\n",
              "      <td>815365</td>\n",
              "      <td>11.6</td>\n",
              "      <td>71.0</td>\n",
              "      <td>4.8</td>\n",
              "      <td>Neal Maupay</td>\n",
              "      <td>Forward</td>\n",
              "      <td>4.8</td>\n",
              "      <td>71.0</td>\n",
              "    </tr>\n",
              "    <tr>\n",
              "      <th>147</th>\n",
              "      <td>Chelsea</td>\n",
              "      <td>4</td>\n",
              "      <td>12.0</td>\n",
              "      <td>92</td>\n",
              "      <td>1393</td>\n",
              "      <td>1567332</td>\n",
              "      <td>7.6</td>\n",
              "      <td>70.0</td>\n",
              "      <td>1.0</td>\n",
              "      <td>Timo Werner</td>\n",
              "      <td>Forward</td>\n",
              "      <td>1.0</td>\n",
              "      <td>70.0</td>\n",
              "    </tr>\n",
              "    <tr>\n",
              "      <th>148</th>\n",
              "      <td>Chelsea</td>\n",
              "      <td>4</td>\n",
              "      <td>3.8</td>\n",
              "      <td>72</td>\n",
              "      <td>905</td>\n",
              "      <td>518320</td>\n",
              "      <td>8.9</td>\n",
              "      <td>64.0</td>\n",
              "      <td>1.0</td>\n",
              "      <td>Tammy Abraham</td>\n",
              "      <td>Forward</td>\n",
              "      <td>1.0</td>\n",
              "      <td>64.0</td>\n",
              "    </tr>\n",
              "    <tr>\n",
              "      <th>114</th>\n",
              "      <td>Burnley</td>\n",
              "      <td>4</td>\n",
              "      <td>1.6</td>\n",
              "      <td>62</td>\n",
              "      <td>1619</td>\n",
              "      <td>258474</td>\n",
              "      <td>9.8</td>\n",
              "      <td>61.0</td>\n",
              "      <td>3.5</td>\n",
              "      <td>Chris Wood</td>\n",
              "      <td>Forward</td>\n",
              "      <td>3.5</td>\n",
              "      <td>61.0</td>\n",
              "    </tr>\n",
              "    <tr>\n",
              "      <th>454</th>\n",
              "      <td>Sheffield Utd</td>\n",
              "      <td>4</td>\n",
              "      <td>2.1</td>\n",
              "      <td>52</td>\n",
              "      <td>1180</td>\n",
              "      <td>315166</td>\n",
              "      <td>11.2</td>\n",
              "      <td>58.0</td>\n",
              "      <td>3.0</td>\n",
              "      <td>David McGoldrick</td>\n",
              "      <td>Forward</td>\n",
              "      <td>3.0</td>\n",
              "      <td>58.0</td>\n",
              "    </tr>\n",
              "  </tbody>\n",
              "</table>\n",
              "</div>"
            ],
            "text/plain": [
              "              team  element_type selected_by_percent  ...  position  value  realvalue\n",
              "519          Spurs             4                35.4  ...   Forward    7.5      143.0\n",
              "265      Leicester             4                15.3  ...   Forward    2.2      116.0\n",
              "295          Leeds             4                47.3  ...   Forward    1.7      104.0\n",
              "208        Everton             4                35.7  ...   Forward    1.3       97.0\n",
              "447      Newcastle             4                18.0  ...   Forward    2.6       97.0\n",
              "63     Aston Villa             4                15.7  ...   Forward    4.0       83.0\n",
              "326      Liverpool             4                 6.3  ...   Forward    3.0       80.0\n",
              "486    Southampton             4                 9.0  ...   Forward    3.7       75.0\n",
              "496    Southampton             4                 5.3  ...   Forward    1.3       74.0\n",
              "5          Arsenal             4                 8.3  ...   Forward    6.8       73.0\n",
              "79        Brighton             4                 3.1  ...   Forward    4.8       71.0\n",
              "147        Chelsea             4                12.0  ...   Forward    1.0       70.0\n",
              "148        Chelsea             4                 3.8  ...   Forward    1.0       64.0\n",
              "114        Burnley             4                 1.6  ...   Forward    3.5       61.0\n",
              "454  Sheffield Utd             4                 2.1  ...   Forward    3.0       58.0\n",
              "\n",
              "[15 rows x 13 columns]"
            ]
          },
          "metadata": {
            "tags": []
          },
          "execution_count": 55
        }
      ]
    },
    {
      "cell_type": "code",
      "metadata": {
        "id": "-fy199nnTIcl",
        "colab": {
          "base_uri": "https://localhost:8080/",
          "height": 164
        },
        "outputId": "6b7ff76f-909a-4331-8b1d-eb7ccc687e3d"
      },
      "source": [
        "mid_df.sort_values('realvalue', ascending = False).head(15) "
      ],
      "execution_count": null,
      "outputs": [
        {
          "output_type": "error",
          "ename": "NameError",
          "evalue": "ignored",
          "traceback": [
            "\u001b[0;31m---------------------------------------------------------------------------\u001b[0m",
            "\u001b[0;31mNameError\u001b[0m                                 Traceback (most recent call last)",
            "\u001b[0;32m<ipython-input-57-edfd6827a0db>\u001b[0m in \u001b[0;36m<module>\u001b[0;34m()\u001b[0m\n\u001b[0;32m----> 1\u001b[0;31m \u001b[0mmid_df\u001b[0m\u001b[0;34m.\u001b[0m\u001b[0msort_values\u001b[0m\u001b[0;34m(\u001b[0m\u001b[0;34m'realvalue'\u001b[0m\u001b[0;34m,\u001b[0m \u001b[0mascending\u001b[0m \u001b[0;34m=\u001b[0m \u001b[0;32mFalse\u001b[0m\u001b[0;34m)\u001b[0m\u001b[0;34m.\u001b[0m\u001b[0mhead\u001b[0m\u001b[0;34m(\u001b[0m\u001b[0;36m15\u001b[0m\u001b[0;34m)\u001b[0m\u001b[0;34m\u001b[0m\u001b[0;34m\u001b[0m\u001b[0m\n\u001b[0m",
            "\u001b[0;31mNameError\u001b[0m: name 'mid_df' is not defined"
          ]
        }
      ]
    },
    {
      "cell_type": "code",
      "metadata": {
        "id": "XYAXaC0TTKqD"
      },
      "source": [
        "def_df.sort_values('realvalue', ascending = False).head(15) "
      ],
      "execution_count": null,
      "outputs": []
    },
    {
      "cell_type": "code",
      "metadata": {
        "id": "PxiyP8gxTKD_"
      },
      "source": [
        "gk_df.sort_values('realvalue', ascending = False).head(15) "
      ],
      "execution_count": null,
      "outputs": []
    },
    {
      "cell_type": "code",
      "metadata": {
        "id": "-rgjSkKClbvs"
      },
      "source": [
        "player_stack = pd.concat([fwd_df, mid_df, def_df,gk_df], axis=0)"
      ],
      "execution_count": null,
      "outputs": []
    },
    {
      "cell_type": "code",
      "metadata": {
        "id": "7cRuXDs2luiO",
        "colab": {
          "base_uri": "https://localhost:8080/",
          "height": 669
        },
        "outputId": "4a966409-6f9d-462c-8272-e34ffbeb1306"
      },
      "source": [
        "player_stack.sort_values('form',ascending = False).head(20)"
      ],
      "execution_count": null,
      "outputs": [
        {
          "output_type": "execute_result",
          "data": {
            "text/html": [
              "<div>\n",
              "<style scoped>\n",
              "    .dataframe tbody tr th:only-of-type {\n",
              "        vertical-align: middle;\n",
              "    }\n",
              "\n",
              "    .dataframe tbody tr th {\n",
              "        vertical-align: top;\n",
              "    }\n",
              "\n",
              "    .dataframe thead th {\n",
              "        text-align: right;\n",
              "    }\n",
              "</style>\n",
              "<table border=\"1\" class=\"dataframe\">\n",
              "  <thead>\n",
              "    <tr style=\"text-align: right;\">\n",
              "      <th></th>\n",
              "      <th>team</th>\n",
              "      <th>element_type</th>\n",
              "      <th>selected_by_percent</th>\n",
              "      <th>now_cost</th>\n",
              "      <th>minutes</th>\n",
              "      <th>transfers_in</th>\n",
              "      <th>value_season</th>\n",
              "      <th>total_points</th>\n",
              "      <th>form</th>\n",
              "      <th>name</th>\n",
              "      <th>position</th>\n",
              "      <th>value</th>\n",
              "      <th>realvalue</th>\n",
              "    </tr>\n",
              "  </thead>\n",
              "  <tbody>\n",
              "    <tr>\n",
              "      <th>354</th>\n",
              "      <td>Man City</td>\n",
              "      <td>3</td>\n",
              "      <td>16.8</td>\n",
              "      <td>58</td>\n",
              "      <td>1035</td>\n",
              "      <td>1408334</td>\n",
              "      <td>13.8</td>\n",
              "      <td>80.0</td>\n",
              "      <td>8.8</td>\n",
              "      <td>Ilkay Gündogan</td>\n",
              "      <td>Midfielder</td>\n",
              "      <td>8.8</td>\n",
              "      <td>80.0</td>\n",
              "    </tr>\n",
              "    <tr>\n",
              "      <th>22</th>\n",
              "      <td>Arsenal</td>\n",
              "      <td>3</td>\n",
              "      <td>11.8</td>\n",
              "      <td>54</td>\n",
              "      <td>1503</td>\n",
              "      <td>1207402</td>\n",
              "      <td>15.0</td>\n",
              "      <td>81.0</td>\n",
              "      <td>8.2</td>\n",
              "      <td>Bukayo Saka</td>\n",
              "      <td>Midfielder</td>\n",
              "      <td>8.2</td>\n",
              "      <td>81.0</td>\n",
              "    </tr>\n",
              "    <tr>\n",
              "      <th>356</th>\n",
              "      <td>Man City</td>\n",
              "      <td>2</td>\n",
              "      <td>20.3</td>\n",
              "      <td>52</td>\n",
              "      <td>990</td>\n",
              "      <td>1731706</td>\n",
              "      <td>14.8</td>\n",
              "      <td>77.0</td>\n",
              "      <td>8.2</td>\n",
              "      <td>John Stones</td>\n",
              "      <td>Defender</td>\n",
              "      <td>8.2</td>\n",
              "      <td>77.0</td>\n",
              "    </tr>\n",
              "    <tr>\n",
              "      <th>269</th>\n",
              "      <td>Leicester</td>\n",
              "      <td>3</td>\n",
              "      <td>2.9</td>\n",
              "      <td>64</td>\n",
              "      <td>1743</td>\n",
              "      <td>357151</td>\n",
              "      <td>13.1</td>\n",
              "      <td>84.0</td>\n",
              "      <td>8.0</td>\n",
              "      <td>Youri Tielemans</td>\n",
              "      <td>Midfielder</td>\n",
              "      <td>8.0</td>\n",
              "      <td>84.0</td>\n",
              "    </tr>\n",
              "    <tr>\n",
              "      <th>519</th>\n",
              "      <td>Spurs</td>\n",
              "      <td>4</td>\n",
              "      <td>35.4</td>\n",
              "      <td>112</td>\n",
              "      <td>1654</td>\n",
              "      <td>4476706</td>\n",
              "      <td>12.8</td>\n",
              "      <td>143.0</td>\n",
              "      <td>7.5</td>\n",
              "      <td>Harry Kane</td>\n",
              "      <td>Forward</td>\n",
              "      <td>7.5</td>\n",
              "      <td>143.0</td>\n",
              "    </tr>\n",
              "    <tr>\n",
              "      <th>597</th>\n",
              "      <td>West Ham</td>\n",
              "      <td>3</td>\n",
              "      <td>18.4</td>\n",
              "      <td>53</td>\n",
              "      <td>1800</td>\n",
              "      <td>1978115</td>\n",
              "      <td>18.1</td>\n",
              "      <td>96.0</td>\n",
              "      <td>7.5</td>\n",
              "      <td>Tomas Soucek</td>\n",
              "      <td>Midfielder</td>\n",
              "      <td>7.5</td>\n",
              "      <td>96.0</td>\n",
              "    </tr>\n",
              "    <tr>\n",
              "      <th>272</th>\n",
              "      <td>Leicester</td>\n",
              "      <td>3</td>\n",
              "      <td>13.1</td>\n",
              "      <td>72</td>\n",
              "      <td>1201</td>\n",
              "      <td>1595195</td>\n",
              "      <td>11.7</td>\n",
              "      <td>84.0</td>\n",
              "      <td>7.2</td>\n",
              "      <td>James Maddison</td>\n",
              "      <td>Midfielder</td>\n",
              "      <td>7.2</td>\n",
              "      <td>84.0</td>\n",
              "    </tr>\n",
              "    <tr>\n",
              "      <th>568</th>\n",
              "      <td>West Brom</td>\n",
              "      <td>3</td>\n",
              "      <td>1.1</td>\n",
              "      <td>56</td>\n",
              "      <td>1182</td>\n",
              "      <td>264214</td>\n",
              "      <td>10.7</td>\n",
              "      <td>60.0</td>\n",
              "      <td>7.0</td>\n",
              "      <td>Matheus Pereira</td>\n",
              "      <td>Midfielder</td>\n",
              "      <td>7.0</td>\n",
              "      <td>60.0</td>\n",
              "    </tr>\n",
              "    <tr>\n",
              "      <th>5</th>\n",
              "      <td>Arsenal</td>\n",
              "      <td>4</td>\n",
              "      <td>8.3</td>\n",
              "      <td>84</td>\n",
              "      <td>1121</td>\n",
              "      <td>1018177</td>\n",
              "      <td>8.7</td>\n",
              "      <td>73.0</td>\n",
              "      <td>6.8</td>\n",
              "      <td>Alexandre Lacazette</td>\n",
              "      <td>Forward</td>\n",
              "      <td>6.8</td>\n",
              "      <td>73.0</td>\n",
              "    </tr>\n",
              "    <tr>\n",
              "      <th>360</th>\n",
              "      <td>Man City</td>\n",
              "      <td>2</td>\n",
              "      <td>19.3</td>\n",
              "      <td>60</td>\n",
              "      <td>1279</td>\n",
              "      <td>1883395</td>\n",
              "      <td>14.3</td>\n",
              "      <td>86.0</td>\n",
              "      <td>6.6</td>\n",
              "      <td>João Pedro Cavaco Cancelo</td>\n",
              "      <td>Defender</td>\n",
              "      <td>6.6</td>\n",
              "      <td>86.0</td>\n",
              "    </tr>\n",
              "    <tr>\n",
              "      <th>376</th>\n",
              "      <td>Man City</td>\n",
              "      <td>2</td>\n",
              "      <td>16.2</td>\n",
              "      <td>59</td>\n",
              "      <td>1509</td>\n",
              "      <td>1538418</td>\n",
              "      <td>14.1</td>\n",
              "      <td>83.0</td>\n",
              "      <td>6.6</td>\n",
              "      <td>Rúben Santos Gato Alves Dias</td>\n",
              "      <td>Defender</td>\n",
              "      <td>6.6</td>\n",
              "      <td>83.0</td>\n",
              "    </tr>\n",
              "    <tr>\n",
              "      <th>584</th>\n",
              "      <td>West Ham</td>\n",
              "      <td>2</td>\n",
              "      <td>19.9</td>\n",
              "      <td>55</td>\n",
              "      <td>1800</td>\n",
              "      <td>2069505</td>\n",
              "      <td>16.7</td>\n",
              "      <td>92.0</td>\n",
              "      <td>6.5</td>\n",
              "      <td>Aaron Cresswell</td>\n",
              "      <td>Defender</td>\n",
              "      <td>6.5</td>\n",
              "      <td>92.0</td>\n",
              "    </tr>\n",
              "    <tr>\n",
              "      <th>389</th>\n",
              "      <td>Man Utd</td>\n",
              "      <td>3</td>\n",
              "      <td>3.1</td>\n",
              "      <td>77</td>\n",
              "      <td>1217</td>\n",
              "      <td>331379</td>\n",
              "      <td>8.1</td>\n",
              "      <td>62.0</td>\n",
              "      <td>6.0</td>\n",
              "      <td>Paul Pogba</td>\n",
              "      <td>Midfielder</td>\n",
              "      <td>6.0</td>\n",
              "      <td>62.0</td>\n",
              "    </tr>\n",
              "    <tr>\n",
              "      <th>586</th>\n",
              "      <td>West Ham</td>\n",
              "      <td>4</td>\n",
              "      <td>16.2</td>\n",
              "      <td>65</td>\n",
              "      <td>825</td>\n",
              "      <td>1412495</td>\n",
              "      <td>8.2</td>\n",
              "      <td>53.0</td>\n",
              "      <td>6.0</td>\n",
              "      <td>Michail Antonio</td>\n",
              "      <td>Forward</td>\n",
              "      <td>6.0</td>\n",
              "      <td>53.0</td>\n",
              "    </tr>\n",
              "    <tr>\n",
              "      <th>14</th>\n",
              "      <td>Arsenal</td>\n",
              "      <td>2</td>\n",
              "      <td>5.0</td>\n",
              "      <td>45</td>\n",
              "      <td>1485</td>\n",
              "      <td>646402</td>\n",
              "      <td>13.3</td>\n",
              "      <td>60.0</td>\n",
              "      <td>6.0</td>\n",
              "      <td>Rob Holding</td>\n",
              "      <td>Defender</td>\n",
              "      <td>6.0</td>\n",
              "      <td>60.0</td>\n",
              "    </tr>\n",
              "    <tr>\n",
              "      <th>15</th>\n",
              "      <td>Arsenal</td>\n",
              "      <td>2</td>\n",
              "      <td>7.2</td>\n",
              "      <td>54</td>\n",
              "      <td>1520</td>\n",
              "      <td>737921</td>\n",
              "      <td>12.0</td>\n",
              "      <td>65.0</td>\n",
              "      <td>6.0</td>\n",
              "      <td>Kieran Tierney</td>\n",
              "      <td>Defender</td>\n",
              "      <td>6.0</td>\n",
              "      <td>65.0</td>\n",
              "    </tr>\n",
              "    <tr>\n",
              "      <th>367</th>\n",
              "      <td>Man City</td>\n",
              "      <td>3</td>\n",
              "      <td>10.1</td>\n",
              "      <td>63</td>\n",
              "      <td>839</td>\n",
              "      <td>1829505</td>\n",
              "      <td>10.2</td>\n",
              "      <td>64.0</td>\n",
              "      <td>6.0</td>\n",
              "      <td>Phil Foden</td>\n",
              "      <td>Midfielder</td>\n",
              "      <td>6.0</td>\n",
              "      <td>64.0</td>\n",
              "    </tr>\n",
              "    <tr>\n",
              "      <th>336</th>\n",
              "      <td>Liverpool</td>\n",
              "      <td>2</td>\n",
              "      <td>14.2</td>\n",
              "      <td>73</td>\n",
              "      <td>1485</td>\n",
              "      <td>723517</td>\n",
              "      <td>9.2</td>\n",
              "      <td>67.0</td>\n",
              "      <td>6.0</td>\n",
              "      <td>Trent Alexander-Arnold</td>\n",
              "      <td>Defender</td>\n",
              "      <td>6.0</td>\n",
              "      <td>67.0</td>\n",
              "    </tr>\n",
              "    <tr>\n",
              "      <th>45</th>\n",
              "      <td>Aston Villa</td>\n",
              "      <td>3</td>\n",
              "      <td>37.7</td>\n",
              "      <td>77</td>\n",
              "      <td>1617</td>\n",
              "      <td>4788568</td>\n",
              "      <td>14.7</td>\n",
              "      <td>113.0</td>\n",
              "      <td>5.8</td>\n",
              "      <td>Jack Grealish</td>\n",
              "      <td>Midfielder</td>\n",
              "      <td>5.8</td>\n",
              "      <td>113.0</td>\n",
              "    </tr>\n",
              "    <tr>\n",
              "      <th>73</th>\n",
              "      <td>Brighton</td>\n",
              "      <td>2</td>\n",
              "      <td>2.6</td>\n",
              "      <td>48</td>\n",
              "      <td>1530</td>\n",
              "      <td>133066</td>\n",
              "      <td>10.6</td>\n",
              "      <td>51.0</td>\n",
              "      <td>5.8</td>\n",
              "      <td>Lewis Dunk</td>\n",
              "      <td>Defender</td>\n",
              "      <td>5.8</td>\n",
              "      <td>51.0</td>\n",
              "    </tr>\n",
              "  </tbody>\n",
              "</table>\n",
              "</div>"
            ],
            "text/plain": [
              "            team  element_type  ... value  realvalue\n",
              "354     Man City             3  ...   8.8       80.0\n",
              "22       Arsenal             3  ...   8.2       81.0\n",
              "356     Man City             2  ...   8.2       77.0\n",
              "269    Leicester             3  ...   8.0       84.0\n",
              "519        Spurs             4  ...   7.5      143.0\n",
              "597     West Ham             3  ...   7.5       96.0\n",
              "272    Leicester             3  ...   7.2       84.0\n",
              "568    West Brom             3  ...   7.0       60.0\n",
              "5        Arsenal             4  ...   6.8       73.0\n",
              "360     Man City             2  ...   6.6       86.0\n",
              "376     Man City             2  ...   6.6       83.0\n",
              "584     West Ham             2  ...   6.5       92.0\n",
              "389      Man Utd             3  ...   6.0       62.0\n",
              "586     West Ham             4  ...   6.0       53.0\n",
              "14       Arsenal             2  ...   6.0       60.0\n",
              "15       Arsenal             2  ...   6.0       65.0\n",
              "367     Man City             3  ...   6.0       64.0\n",
              "336    Liverpool             2  ...   6.0       67.0\n",
              "45   Aston Villa             3  ...   5.8      113.0\n",
              "73      Brighton             2  ...   5.8       51.0\n",
              "\n",
              "[20 rows x 13 columns]"
            ]
          },
          "metadata": {
            "tags": []
          },
          "execution_count": 54
        }
      ]
    },
    {
      "cell_type": "code",
      "metadata": {
        "id": "QLp3NC3Iy9e2"
      },
      "source": [
        "def_df.value.hist()"
      ],
      "execution_count": null,
      "outputs": []
    },
    {
      "cell_type": "code",
      "metadata": {
        "id": "6AL56sBTy9e3"
      },
      "source": [
        "def_df.sort_values('value',ascending = False).head(10)"
      ],
      "execution_count": null,
      "outputs": []
    },
    {
      "cell_type": "code",
      "metadata": {
        "id": "nDdxcBgcy9e3"
      },
      "source": [
        "mid_df.sort_values('value',ascending = False).head(10)"
      ],
      "execution_count": null,
      "outputs": []
    },
    {
      "cell_type": "code",
      "metadata": {
        "id": "rmw2lOuxgBX9"
      },
      "source": [
        "cheap_df = filter_elements_df.loc[filter_elements_df.position != ('Defender' or 'Goalkeeper')]"
      ],
      "execution_count": null,
      "outputs": []
    },
    {
      "cell_type": "code",
      "metadata": {
        "id": "vaCVQXWGiXu4"
      },
      "source": [
        "cheap_df = cheap_df[(cheap_df['position'] = 'Midfielder','Forward')"
      ],
      "execution_count": null,
      "outputs": []
    },
    {
      "cell_type": "code",
      "metadata": {
        "id": "Do9d8eiRgd0v"
      },
      "source": [
        "cheap_df.sort_values('now_cost',ascending = True).head(10)"
      ],
      "execution_count": null,
      "outputs": []
    },
    {
      "cell_type": "code",
      "metadata": {
        "id": "gmO4p-fwZtFj",
        "colab": {
          "base_uri": "https://localhost:8080/",
          "height": 167
        },
        "outputId": "96eb4e7c-5ae5-47fc-bbb8-09645aa5e5e7"
      },
      "source": [
        "filter_elements_df.sort_values('now_cost',ascending = True).head(10)"
      ],
      "execution_count": null,
      "outputs": [
        {
          "output_type": "error",
          "ename": "NameError",
          "evalue": "ignored",
          "traceback": [
            "\u001b[0;31m---------------------------------------------------------------------------\u001b[0m",
            "\u001b[0;31mNameError\u001b[0m                                 Traceback (most recent call last)",
            "\u001b[0;32m<ipython-input-5-fd08ab045bd7>\u001b[0m in \u001b[0;36m<module>\u001b[0;34m()\u001b[0m\n\u001b[0;32m----> 1\u001b[0;31m \u001b[0mfilter_elements_df\u001b[0m\u001b[0;34m.\u001b[0m\u001b[0msort_values\u001b[0m\u001b[0;34m(\u001b[0m\u001b[0;34m'now_cost'\u001b[0m\u001b[0;34m,\u001b[0m\u001b[0mascending\u001b[0m \u001b[0;34m=\u001b[0m \u001b[0;32mTrue\u001b[0m\u001b[0;34m)\u001b[0m\u001b[0;34m.\u001b[0m\u001b[0mhead\u001b[0m\u001b[0;34m(\u001b[0m\u001b[0;36m10\u001b[0m\u001b[0;34m)\u001b[0m\u001b[0;34m\u001b[0m\u001b[0;34m\u001b[0m\u001b[0m\n\u001b[0m",
            "\u001b[0;31mNameError\u001b[0m: name 'filter_elements_df' is not defined"
          ]
        }
      ]
    },
    {
      "cell_type": "markdown",
      "metadata": {
        "id": "ite4wPLUy9e4"
      },
      "source": [
        "### Export to Excel"
      ]
    },
    {
      "cell_type": "code",
      "metadata": {
        "id": "xtU8g8Ewy9e4",
        "colab": {
          "base_uri": "https://localhost:8080/",
          "height": 17
        },
        "outputId": "b8ca88c8-7f20-4758-bf15-9f7adabb82cd"
      },
      "source": [
        "from google.colab import files\n",
        "filter_gw29.to_csv('fpl_data_gw29.csv') \n",
        "files.download('fpl_data_gw29.csv')\n",
        "filter_gw29_1.to_csv('fpl_data_gw29_1.csv') \n",
        "files.download('fpl_data_gw29_1.csv')\n",
        "\n"
      ],
      "execution_count": 41,
      "outputs": [
        {
          "output_type": "display_data",
          "data": {
            "application/javascript": [
              "\n",
              "    async function download(id, filename, size) {\n",
              "      if (!google.colab.kernel.accessAllowed) {\n",
              "        return;\n",
              "      }\n",
              "      const div = document.createElement('div');\n",
              "      const label = document.createElement('label');\n",
              "      label.textContent = `Downloading \"${filename}\": `;\n",
              "      div.appendChild(label);\n",
              "      const progress = document.createElement('progress');\n",
              "      progress.max = size;\n",
              "      div.appendChild(progress);\n",
              "      document.body.appendChild(div);\n",
              "\n",
              "      const buffers = [];\n",
              "      let downloaded = 0;\n",
              "\n",
              "      const channel = await google.colab.kernel.comms.open(id);\n",
              "      // Send a message to notify the kernel that we're ready.\n",
              "      channel.send({})\n",
              "\n",
              "      for await (const message of channel.messages) {\n",
              "        // Send a message to notify the kernel that we're ready.\n",
              "        channel.send({})\n",
              "        if (message.buffers) {\n",
              "          for (const buffer of message.buffers) {\n",
              "            buffers.push(buffer);\n",
              "            downloaded += buffer.byteLength;\n",
              "            progress.value = downloaded;\n",
              "          }\n",
              "        }\n",
              "      }\n",
              "      const blob = new Blob(buffers, {type: 'application/binary'});\n",
              "      const a = document.createElement('a');\n",
              "      a.href = window.URL.createObjectURL(blob);\n",
              "      a.download = filename;\n",
              "      div.appendChild(a);\n",
              "      a.click();\n",
              "      div.remove();\n",
              "    }\n",
              "  "
            ],
            "text/plain": [
              "<IPython.core.display.Javascript object>"
            ]
          },
          "metadata": {
            "tags": []
          }
        },
        {
          "output_type": "display_data",
          "data": {
            "application/javascript": [
              "download(\"download_3bc180ab-ec27-4518-868d-8dc4656aec4a\", \"fpl_data_gw29.csv\", 5918)"
            ],
            "text/plain": [
              "<IPython.core.display.Javascript object>"
            ]
          },
          "metadata": {
            "tags": []
          }
        },
        {
          "output_type": "display_data",
          "data": {
            "application/javascript": [
              "\n",
              "    async function download(id, filename, size) {\n",
              "      if (!google.colab.kernel.accessAllowed) {\n",
              "        return;\n",
              "      }\n",
              "      const div = document.createElement('div');\n",
              "      const label = document.createElement('label');\n",
              "      label.textContent = `Downloading \"${filename}\": `;\n",
              "      div.appendChild(label);\n",
              "      const progress = document.createElement('progress');\n",
              "      progress.max = size;\n",
              "      div.appendChild(progress);\n",
              "      document.body.appendChild(div);\n",
              "\n",
              "      const buffers = [];\n",
              "      let downloaded = 0;\n",
              "\n",
              "      const channel = await google.colab.kernel.comms.open(id);\n",
              "      // Send a message to notify the kernel that we're ready.\n",
              "      channel.send({})\n",
              "\n",
              "      for await (const message of channel.messages) {\n",
              "        // Send a message to notify the kernel that we're ready.\n",
              "        channel.send({})\n",
              "        if (message.buffers) {\n",
              "          for (const buffer of message.buffers) {\n",
              "            buffers.push(buffer);\n",
              "            downloaded += buffer.byteLength;\n",
              "            progress.value = downloaded;\n",
              "          }\n",
              "        }\n",
              "      }\n",
              "      const blob = new Blob(buffers, {type: 'application/binary'});\n",
              "      const a = document.createElement('a');\n",
              "      a.href = window.URL.createObjectURL(blob);\n",
              "      a.download = filename;\n",
              "      div.appendChild(a);\n",
              "      a.click();\n",
              "      div.remove();\n",
              "    }\n",
              "  "
            ],
            "text/plain": [
              "<IPython.core.display.Javascript object>"
            ]
          },
          "metadata": {
            "tags": []
          }
        },
        {
          "output_type": "display_data",
          "data": {
            "application/javascript": [
              "download(\"download_044a034c-c52e-4492-b81f-df82982fd25f\", \"fpl_data_gw29_1.csv\", 11778)"
            ],
            "text/plain": [
              "<IPython.core.display.Javascript object>"
            ]
          },
          "metadata": {
            "tags": []
          }
        }
      ]
    },
    {
      "cell_type": "markdown",
      "metadata": {
        "id": "Cer1loIPy9e5"
      },
      "source": [
        "### Download Player History"
      ]
    },
    {
      "cell_type": "markdown",
      "metadata": {
        "id": "TgMbGr2hy9e5"
      },
      "source": [
        "#### View entire DataFrame"
      ]
    },
    {
      "cell_type": "code",
      "metadata": {
        "id": "lYNw--6wy9e6"
      },
      "source": [
        "pd.options.display.max_columns = None"
      ],
      "execution_count": null,
      "outputs": []
    },
    {
      "cell_type": "markdown",
      "metadata": {
        "id": "UlDzZ_45y9e6"
      },
      "source": [
        "r"
      ]
    },
    {
      "cell_type": "markdown",
      "metadata": {
        "id": "xBSWFcJ6y9e7"
      },
      "source": [
        "### JSON object holds all data together"
      ]
    },
    {
      "cell_type": "markdown",
      "metadata": {
        "id": "JgLYSoC7y9e8"
      },
      "source": [
        "### Build and Test for a loop"
      ]
    },
    {
      "cell_type": "code",
      "metadata": {
        "id": "gzi8gd7Hy9e8"
      },
      "source": [
        "url = f'https://fantasy.premierleague.com/api/element-summary/{element_id}/'"
      ],
      "execution_count": null,
      "outputs": []
    },
    {
      "cell_type": "code",
      "metadata": {
        "id": "fI8Fs384y9e9"
      },
      "source": [
        "for x in elements_df.index[:10] :\n",
        "    element_id = elements_df.id[x]  #loop thru first 5 elements\n",
        "    element_name = elements_df.first_name[x] \n",
        "    print(x)\n",
        "    print(element_id)\n",
        "    print(element_name)"
      ],
      "execution_count": null,
      "outputs": []
    },
    {
      "cell_type": "code",
      "metadata": {
        "id": "TYV9KTSgy9e9"
      },
      "source": [
        "elements_df.first_name[0]"
      ],
      "execution_count": null,
      "outputs": []
    },
    {
      "cell_type": "markdown",
      "metadata": {
        "id": "zDJ6un1Ky9e-"
      },
      "source": [
        "### F-String Formatting"
      ]
    },
    {
      "cell_type": "markdown",
      "metadata": {
        "id": "cRQoQ6Q9y9e-"
      },
      "source": [
        "#### Without"
      ]
    },
    {
      "cell_type": "code",
      "metadata": {
        "id": "FilytVNJy9e_"
      },
      "source": [
        "your_name = \"David\"\n",
        "print(\"Hi, my name is {your_name}\")"
      ],
      "execution_count": null,
      "outputs": []
    },
    {
      "cell_type": "markdown",
      "metadata": {
        "id": "UmOk2ZMdy9e_"
      },
      "source": [
        "### With "
      ]
    },
    {
      "cell_type": "code",
      "metadata": {
        "id": "IeszgIegy9e_"
      },
      "source": [
        "print(f\"Hi, my name is {your_name}\")"
      ],
      "execution_count": null,
      "outputs": []
    },
    {
      "cell_type": "code",
      "metadata": {
        "id": "bEUZ1l_zy9fA"
      },
      "source": [
        ""
      ],
      "execution_count": null,
      "outputs": []
    }
  ]
}