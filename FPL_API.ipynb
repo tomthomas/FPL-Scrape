{
  "nbformat": 4,
  "nbformat_minor": 0,
  "metadata": {
    "kernelspec": {
      "display_name": "Python 3",
      "language": "python",
      "name": "python3"
    },
    "language_info": {
      "codemirror_mode": {
        "name": "ipython",
        "version": 3
      },
      "file_extension": ".py",
      "mimetype": "text/x-python",
      "name": "python",
      "nbconvert_exporter": "python",
      "pygments_lexer": "ipython3",
      "version": "3.7.9"
    },
    "colab": {
      "name": "FPL API.ipynb",
      "provenance": [],
      "include_colab_link": true
    }
  },
  "cells": [
    {
      "cell_type": "markdown",
      "metadata": {
        "id": "view-in-github",
        "colab_type": "text"
      },
      "source": [
        "<a href=\"https://colab.research.google.com/github/tomthomas/FPL-Scrape/blob/main/FPL_API.ipynb\" target=\"_parent\"><img src=\"https://colab.research.google.com/assets/colab-badge.svg\" alt=\"Open In Colab\"/></a>"
      ]
    },
    {
      "cell_type": "code",
      "metadata": {
        "id": "j1wVO2mOy9d0"
      },
      "source": [
        "import requests\n",
        "import pandas as pd\n",
        "import numpy as np"
      ],
      "execution_count": 1,
      "outputs": []
    },
    {
      "cell_type": "markdown",
      "metadata": {
        "id": "UxsPrxrHy9d7"
      },
      "source": [
        "#### Get URL"
      ]
    },
    {
      "cell_type": "code",
      "metadata": {
        "id": "zDtj3sPEy9d-"
      },
      "source": [
        "url = 'https://fantasy.premierleague.com/api/bootstrap-static/'"
      ],
      "execution_count": 36,
      "outputs": []
    },
    {
      "cell_type": "markdown",
      "metadata": {
        "id": "EG8kl4cMy9d_"
      },
      "source": [
        "#### GET Request"
      ]
    },
    {
      "cell_type": "code",
      "metadata": {
        "id": "Ql4WuQcUy9eB"
      },
      "source": [
        "r = requests.get(url)"
      ],
      "execution_count": 3,
      "outputs": []
    },
    {
      "cell_type": "markdown",
      "metadata": {
        "id": "NI23IJtey9eC"
      },
      "source": [
        "#### Convert to JSON Object"
      ]
    },
    {
      "cell_type": "code",
      "metadata": {
        "id": "WEUpvA-jy9eE"
      },
      "source": [
        "json = r.json()"
      ],
      "execution_count": 4,
      "outputs": []
    },
    {
      "cell_type": "markdown",
      "metadata": {
        "id": "xpXPxbO0y9eF"
      },
      "source": [
        "#### Look at JSON Keys"
      ]
    },
    {
      "cell_type": "code",
      "metadata": {
        "colab": {
          "base_uri": "https://localhost:8080/"
        },
        "id": "7nbrBhjvy9eH",
        "outputId": "01978242-6f94-440a-d0ee-52c5ecb22ced"
      },
      "source": [
        "json.keys()"
      ],
      "execution_count": 5,
      "outputs": [
        {
          "output_type": "execute_result",
          "data": {
            "text/plain": [
              "dict_keys(['events', 'game_settings', 'phases', 'teams', 'total_players', 'elements', 'element_stats', 'element_types'])"
            ]
          },
          "metadata": {
            "tags": []
          },
          "execution_count": 5
        }
      ]
    },
    {
      "cell_type": "markdown",
      "metadata": {
        "id": "50s0DVady9eJ"
      },
      "source": [
        "#### Focus on 3 keys - elements, element_types, teams"
      ]
    },
    {
      "cell_type": "markdown",
      "metadata": {
        "id": "RqyRcsbGy9eK"
      },
      "source": [
        "### Create dataframes"
      ]
    },
    {
      "cell_type": "code",
      "metadata": {
        "id": "9ZfNbFK4y9eL"
      },
      "source": [
        "elements_df = pd.DataFrame(json['elements'])\n",
        "element_types_df = pd.DataFrame(json['element_types'])\n",
        "teams_df = pd.DataFrame(json['teams'])\n"
      ],
      "execution_count": 6,
      "outputs": []
    },
    {
      "cell_type": "markdown",
      "metadata": {
        "id": "bcMtFvo3y9eN"
      },
      "source": [
        "#### Preview Head"
      ]
    },
    {
      "cell_type": "code",
      "metadata": {
        "colab": {
          "base_uri": "https://localhost:8080/",
          "height": 467
        },
        "id": "KQx1P6Ryy9eO",
        "outputId": "57342a2c-12bb-4502-d6bf-a8353f581ca9"
      },
      "source": [
        "elements_df.head()"
      ],
      "execution_count": 7,
      "outputs": [
        {
          "output_type": "execute_result",
          "data": {
            "text/html": [
              "<div>\n",
              "<style scoped>\n",
              "    .dataframe tbody tr th:only-of-type {\n",
              "        vertical-align: middle;\n",
              "    }\n",
              "\n",
              "    .dataframe tbody tr th {\n",
              "        vertical-align: top;\n",
              "    }\n",
              "\n",
              "    .dataframe thead th {\n",
              "        text-align: right;\n",
              "    }\n",
              "</style>\n",
              "<table border=\"1\" class=\"dataframe\">\n",
              "  <thead>\n",
              "    <tr style=\"text-align: right;\">\n",
              "      <th></th>\n",
              "      <th>chance_of_playing_next_round</th>\n",
              "      <th>chance_of_playing_this_round</th>\n",
              "      <th>code</th>\n",
              "      <th>cost_change_event</th>\n",
              "      <th>cost_change_event_fall</th>\n",
              "      <th>cost_change_start</th>\n",
              "      <th>cost_change_start_fall</th>\n",
              "      <th>dreamteam_count</th>\n",
              "      <th>element_type</th>\n",
              "      <th>ep_next</th>\n",
              "      <th>ep_this</th>\n",
              "      <th>event_points</th>\n",
              "      <th>first_name</th>\n",
              "      <th>form</th>\n",
              "      <th>id</th>\n",
              "      <th>in_dreamteam</th>\n",
              "      <th>news</th>\n",
              "      <th>news_added</th>\n",
              "      <th>now_cost</th>\n",
              "      <th>photo</th>\n",
              "      <th>points_per_game</th>\n",
              "      <th>second_name</th>\n",
              "      <th>selected_by_percent</th>\n",
              "      <th>special</th>\n",
              "      <th>squad_number</th>\n",
              "      <th>status</th>\n",
              "      <th>team</th>\n",
              "      <th>team_code</th>\n",
              "      <th>total_points</th>\n",
              "      <th>transfers_in</th>\n",
              "      <th>transfers_in_event</th>\n",
              "      <th>transfers_out</th>\n",
              "      <th>transfers_out_event</th>\n",
              "      <th>value_form</th>\n",
              "      <th>value_season</th>\n",
              "      <th>web_name</th>\n",
              "      <th>minutes</th>\n",
              "      <th>goals_scored</th>\n",
              "      <th>assists</th>\n",
              "      <th>clean_sheets</th>\n",
              "      <th>goals_conceded</th>\n",
              "      <th>own_goals</th>\n",
              "      <th>penalties_saved</th>\n",
              "      <th>penalties_missed</th>\n",
              "      <th>yellow_cards</th>\n",
              "      <th>red_cards</th>\n",
              "      <th>saves</th>\n",
              "      <th>bonus</th>\n",
              "      <th>bps</th>\n",
              "      <th>influence</th>\n",
              "      <th>creativity</th>\n",
              "      <th>threat</th>\n",
              "      <th>ict_index</th>\n",
              "      <th>influence_rank</th>\n",
              "      <th>influence_rank_type</th>\n",
              "      <th>creativity_rank</th>\n",
              "      <th>creativity_rank_type</th>\n",
              "      <th>threat_rank</th>\n",
              "      <th>threat_rank_type</th>\n",
              "      <th>ict_index_rank</th>\n",
              "      <th>ict_index_rank_type</th>\n",
              "      <th>corners_and_indirect_freekicks_order</th>\n",
              "      <th>corners_and_indirect_freekicks_text</th>\n",
              "      <th>direct_freekicks_order</th>\n",
              "      <th>direct_freekicks_text</th>\n",
              "      <th>penalties_order</th>\n",
              "      <th>penalties_text</th>\n",
              "    </tr>\n",
              "  </thead>\n",
              "  <tbody>\n",
              "    <tr>\n",
              "      <th>0</th>\n",
              "      <td>0.0</td>\n",
              "      <td>0.0</td>\n",
              "      <td>37605</td>\n",
              "      <td>0</td>\n",
              "      <td>0</td>\n",
              "      <td>-2</td>\n",
              "      <td>2</td>\n",
              "      <td>0</td>\n",
              "      <td>3</td>\n",
              "      <td>0.0</td>\n",
              "      <td>0.0</td>\n",
              "      <td>0</td>\n",
              "      <td>Mesut</td>\n",
              "      <td>0.0</td>\n",
              "      <td>1</td>\n",
              "      <td>False</td>\n",
              "      <td>Not included in Arsenal's 25-man Premier Leagu...</td>\n",
              "      <td>2020-10-20T22:30:18.118477Z</td>\n",
              "      <td>68</td>\n",
              "      <td>37605.jpg</td>\n",
              "      <td>0.0</td>\n",
              "      <td>Özil</td>\n",
              "      <td>0.5</td>\n",
              "      <td>False</td>\n",
              "      <td>None</td>\n",
              "      <td>n</td>\n",
              "      <td>1</td>\n",
              "      <td>3</td>\n",
              "      <td>0</td>\n",
              "      <td>3427</td>\n",
              "      <td>12</td>\n",
              "      <td>53271</td>\n",
              "      <td>257</td>\n",
              "      <td>0.0</td>\n",
              "      <td>0.0</td>\n",
              "      <td>Özil</td>\n",
              "      <td>0</td>\n",
              "      <td>0</td>\n",
              "      <td>0</td>\n",
              "      <td>0</td>\n",
              "      <td>0</td>\n",
              "      <td>0</td>\n",
              "      <td>0</td>\n",
              "      <td>0</td>\n",
              "      <td>0</td>\n",
              "      <td>0</td>\n",
              "      <td>0</td>\n",
              "      <td>0</td>\n",
              "      <td>0</td>\n",
              "      <td>0.0</td>\n",
              "      <td>0.0</td>\n",
              "      <td>0.0</td>\n",
              "      <td>0.0</td>\n",
              "      <td>625</td>\n",
              "      <td>248</td>\n",
              "      <td>625</td>\n",
              "      <td>248</td>\n",
              "      <td>625</td>\n",
              "      <td>248</td>\n",
              "      <td>625</td>\n",
              "      <td>248</td>\n",
              "      <td>NaN</td>\n",
              "      <td></td>\n",
              "      <td>NaN</td>\n",
              "      <td></td>\n",
              "      <td>NaN</td>\n",
              "      <td></td>\n",
              "    </tr>\n",
              "    <tr>\n",
              "      <th>1</th>\n",
              "      <td>0.0</td>\n",
              "      <td>0.0</td>\n",
              "      <td>39476</td>\n",
              "      <td>0</td>\n",
              "      <td>0</td>\n",
              "      <td>-2</td>\n",
              "      <td>2</td>\n",
              "      <td>0</td>\n",
              "      <td>2</td>\n",
              "      <td>0.0</td>\n",
              "      <td>0.0</td>\n",
              "      <td>0</td>\n",
              "      <td>Sokratis</td>\n",
              "      <td>0.0</td>\n",
              "      <td>2</td>\n",
              "      <td>False</td>\n",
              "      <td>Not included in Arsenal's 25-man Premier Leagu...</td>\n",
              "      <td>2020-10-21T10:30:18.546407Z</td>\n",
              "      <td>48</td>\n",
              "      <td>39476.jpg</td>\n",
              "      <td>0.0</td>\n",
              "      <td>Papastathopoulos</td>\n",
              "      <td>0.1</td>\n",
              "      <td>False</td>\n",
              "      <td>None</td>\n",
              "      <td>n</td>\n",
              "      <td>1</td>\n",
              "      <td>3</td>\n",
              "      <td>0</td>\n",
              "      <td>10261</td>\n",
              "      <td>3</td>\n",
              "      <td>18897</td>\n",
              "      <td>45</td>\n",
              "      <td>0.0</td>\n",
              "      <td>0.0</td>\n",
              "      <td>Sokratis</td>\n",
              "      <td>0</td>\n",
              "      <td>0</td>\n",
              "      <td>0</td>\n",
              "      <td>0</td>\n",
              "      <td>0</td>\n",
              "      <td>0</td>\n",
              "      <td>0</td>\n",
              "      <td>0</td>\n",
              "      <td>0</td>\n",
              "      <td>0</td>\n",
              "      <td>0</td>\n",
              "      <td>0</td>\n",
              "      <td>0</td>\n",
              "      <td>0.0</td>\n",
              "      <td>0.0</td>\n",
              "      <td>0.0</td>\n",
              "      <td>0.0</td>\n",
              "      <td>584</td>\n",
              "      <td>215</td>\n",
              "      <td>574</td>\n",
              "      <td>215</td>\n",
              "      <td>566</td>\n",
              "      <td>212</td>\n",
              "      <td>586</td>\n",
              "      <td>215</td>\n",
              "      <td>NaN</td>\n",
              "      <td></td>\n",
              "      <td>NaN</td>\n",
              "      <td></td>\n",
              "      <td>NaN</td>\n",
              "      <td></td>\n",
              "    </tr>\n",
              "    <tr>\n",
              "      <th>2</th>\n",
              "      <td>100.0</td>\n",
              "      <td>75.0</td>\n",
              "      <td>41270</td>\n",
              "      <td>0</td>\n",
              "      <td>0</td>\n",
              "      <td>-1</td>\n",
              "      <td>1</td>\n",
              "      <td>0</td>\n",
              "      <td>2</td>\n",
              "      <td>0.8</td>\n",
              "      <td>1.0</td>\n",
              "      <td>0</td>\n",
              "      <td>David</td>\n",
              "      <td>0.3</td>\n",
              "      <td>3</td>\n",
              "      <td>False</td>\n",
              "      <td></td>\n",
              "      <td>2020-12-26T18:00:15.638627Z</td>\n",
              "      <td>54</td>\n",
              "      <td>41270.jpg</td>\n",
              "      <td>1.1</td>\n",
              "      <td>Luiz Moreira Marinho</td>\n",
              "      <td>0.7</td>\n",
              "      <td>False</td>\n",
              "      <td>None</td>\n",
              "      <td>a</td>\n",
              "      <td>1</td>\n",
              "      <td>3</td>\n",
              "      <td>9</td>\n",
              "      <td>40310</td>\n",
              "      <td>1196</td>\n",
              "      <td>91095</td>\n",
              "      <td>1224</td>\n",
              "      <td>0.1</td>\n",
              "      <td>1.7</td>\n",
              "      <td>David Luiz</td>\n",
              "      <td>479</td>\n",
              "      <td>0</td>\n",
              "      <td>0</td>\n",
              "      <td>0</td>\n",
              "      <td>9</td>\n",
              "      <td>0</td>\n",
              "      <td>0</td>\n",
              "      <td>0</td>\n",
              "      <td>0</td>\n",
              "      <td>0</td>\n",
              "      <td>0</td>\n",
              "      <td>0</td>\n",
              "      <td>70</td>\n",
              "      <td>99.4</td>\n",
              "      <td>25.8</td>\n",
              "      <td>40.0</td>\n",
              "      <td>16.5</td>\n",
              "      <td>263</td>\n",
              "      <td>100</td>\n",
              "      <td>299</td>\n",
              "      <td>94</td>\n",
              "      <td>268</td>\n",
              "      <td>83</td>\n",
              "      <td>302</td>\n",
              "      <td>99</td>\n",
              "      <td>NaN</td>\n",
              "      <td></td>\n",
              "      <td>4.0</td>\n",
              "      <td></td>\n",
              "      <td>NaN</td>\n",
              "      <td></td>\n",
              "    </tr>\n",
              "    <tr>\n",
              "      <th>3</th>\n",
              "      <td>100.0</td>\n",
              "      <td>100.0</td>\n",
              "      <td>54694</td>\n",
              "      <td>-1</td>\n",
              "      <td>1</td>\n",
              "      <td>-7</td>\n",
              "      <td>7</td>\n",
              "      <td>1</td>\n",
              "      <td>3</td>\n",
              "      <td>3.2</td>\n",
              "      <td>3.7</td>\n",
              "      <td>3</td>\n",
              "      <td>Pierre-Emerick</td>\n",
              "      <td>2.7</td>\n",
              "      <td>4</td>\n",
              "      <td>False</td>\n",
              "      <td></td>\n",
              "      <td>2020-12-19T20:30:20.434896Z</td>\n",
              "      <td>113</td>\n",
              "      <td>54694.jpg</td>\n",
              "      <td>3.5</td>\n",
              "      <td>Aubameyang</td>\n",
              "      <td>7.3</td>\n",
              "      <td>False</td>\n",
              "      <td>None</td>\n",
              "      <td>a</td>\n",
              "      <td>1</td>\n",
              "      <td>3</td>\n",
              "      <td>53</td>\n",
              "      <td>515913</td>\n",
              "      <td>7428</td>\n",
              "      <td>3169359</td>\n",
              "      <td>19736</td>\n",
              "      <td>0.2</td>\n",
              "      <td>4.7</td>\n",
              "      <td>Aubameyang</td>\n",
              "      <td>1346</td>\n",
              "      <td>3</td>\n",
              "      <td>1</td>\n",
              "      <td>5</td>\n",
              "      <td>16</td>\n",
              "      <td>1</td>\n",
              "      <td>0</td>\n",
              "      <td>0</td>\n",
              "      <td>2</td>\n",
              "      <td>0</td>\n",
              "      <td>0</td>\n",
              "      <td>4</td>\n",
              "      <td>154</td>\n",
              "      <td>198.8</td>\n",
              "      <td>214.3</td>\n",
              "      <td>433.0</td>\n",
              "      <td>84.6</td>\n",
              "      <td>148</td>\n",
              "      <td>56</td>\n",
              "      <td>62</td>\n",
              "      <td>42</td>\n",
              "      <td>25</td>\n",
              "      <td>14</td>\n",
              "      <td>39</td>\n",
              "      <td>25</td>\n",
              "      <td>NaN</td>\n",
              "      <td></td>\n",
              "      <td>NaN</td>\n",
              "      <td></td>\n",
              "      <td>1.0</td>\n",
              "      <td></td>\n",
              "    </tr>\n",
              "    <tr>\n",
              "      <th>4</th>\n",
              "      <td>100.0</td>\n",
              "      <td>100.0</td>\n",
              "      <td>58822</td>\n",
              "      <td>0</td>\n",
              "      <td>0</td>\n",
              "      <td>-4</td>\n",
              "      <td>4</td>\n",
              "      <td>0</td>\n",
              "      <td>2</td>\n",
              "      <td>0.7</td>\n",
              "      <td>1.2</td>\n",
              "      <td>0</td>\n",
              "      <td>Cédric</td>\n",
              "      <td>0.2</td>\n",
              "      <td>5</td>\n",
              "      <td>False</td>\n",
              "      <td></td>\n",
              "      <td>2020-09-23T09:00:14.881983Z</td>\n",
              "      <td>46</td>\n",
              "      <td>58822.jpg</td>\n",
              "      <td>1.0</td>\n",
              "      <td>Soares</td>\n",
              "      <td>0.2</td>\n",
              "      <td>False</td>\n",
              "      <td>None</td>\n",
              "      <td>a</td>\n",
              "      <td>1</td>\n",
              "      <td>3</td>\n",
              "      <td>1</td>\n",
              "      <td>4135</td>\n",
              "      <td>192</td>\n",
              "      <td>34976</td>\n",
              "      <td>318</td>\n",
              "      <td>0.0</td>\n",
              "      <td>0.2</td>\n",
              "      <td>Cédric</td>\n",
              "      <td>5</td>\n",
              "      <td>0</td>\n",
              "      <td>0</td>\n",
              "      <td>0</td>\n",
              "      <td>0</td>\n",
              "      <td>0</td>\n",
              "      <td>0</td>\n",
              "      <td>0</td>\n",
              "      <td>0</td>\n",
              "      <td>0</td>\n",
              "      <td>0</td>\n",
              "      <td>0</td>\n",
              "      <td>3</td>\n",
              "      <td>0.0</td>\n",
              "      <td>0.0</td>\n",
              "      <td>0.0</td>\n",
              "      <td>0.0</td>\n",
              "      <td>571</td>\n",
              "      <td>211</td>\n",
              "      <td>559</td>\n",
              "      <td>212</td>\n",
              "      <td>547</td>\n",
              "      <td>207</td>\n",
              "      <td>574</td>\n",
              "      <td>212</td>\n",
              "      <td>NaN</td>\n",
              "      <td></td>\n",
              "      <td>NaN</td>\n",
              "      <td></td>\n",
              "      <td>NaN</td>\n",
              "      <td></td>\n",
              "    </tr>\n",
              "  </tbody>\n",
              "</table>\n",
              "</div>"
            ],
            "text/plain": [
              "   chance_of_playing_next_round  ...  penalties_text\n",
              "0                           0.0  ...                \n",
              "1                           0.0  ...                \n",
              "2                         100.0  ...                \n",
              "3                         100.0  ...                \n",
              "4                         100.0  ...                \n",
              "\n",
              "[5 rows x 67 columns]"
            ]
          },
          "metadata": {
            "tags": []
          },
          "execution_count": 7
        }
      ]
    },
    {
      "cell_type": "code",
      "metadata": {
        "colab": {
          "base_uri": "https://localhost:8080/",
          "height": 166
        },
        "id": "yGKlYoBYy9eP",
        "outputId": "4a615b72-b91e-43ca-f1fb-2ecbd2e2d896"
      },
      "source": [
        "element_types_df.head()"
      ],
      "execution_count": 8,
      "outputs": [
        {
          "output_type": "execute_result",
          "data": {
            "text/html": [
              "<div>\n",
              "<style scoped>\n",
              "    .dataframe tbody tr th:only-of-type {\n",
              "        vertical-align: middle;\n",
              "    }\n",
              "\n",
              "    .dataframe tbody tr th {\n",
              "        vertical-align: top;\n",
              "    }\n",
              "\n",
              "    .dataframe thead th {\n",
              "        text-align: right;\n",
              "    }\n",
              "</style>\n",
              "<table border=\"1\" class=\"dataframe\">\n",
              "  <thead>\n",
              "    <tr style=\"text-align: right;\">\n",
              "      <th></th>\n",
              "      <th>id</th>\n",
              "      <th>plural_name</th>\n",
              "      <th>plural_name_short</th>\n",
              "      <th>singular_name</th>\n",
              "      <th>singular_name_short</th>\n",
              "      <th>squad_select</th>\n",
              "      <th>squad_min_play</th>\n",
              "      <th>squad_max_play</th>\n",
              "      <th>ui_shirt_specific</th>\n",
              "      <th>sub_positions_locked</th>\n",
              "      <th>element_count</th>\n",
              "    </tr>\n",
              "  </thead>\n",
              "  <tbody>\n",
              "    <tr>\n",
              "      <th>0</th>\n",
              "      <td>1</td>\n",
              "      <td>Goalkeepers</td>\n",
              "      <td>GKP</td>\n",
              "      <td>Goalkeeper</td>\n",
              "      <td>GKP</td>\n",
              "      <td>2</td>\n",
              "      <td>1</td>\n",
              "      <td>1</td>\n",
              "      <td>True</td>\n",
              "      <td>[12]</td>\n",
              "      <td>73</td>\n",
              "    </tr>\n",
              "    <tr>\n",
              "      <th>1</th>\n",
              "      <td>2</td>\n",
              "      <td>Defenders</td>\n",
              "      <td>DEF</td>\n",
              "      <td>Defender</td>\n",
              "      <td>DEF</td>\n",
              "      <td>5</td>\n",
              "      <td>3</td>\n",
              "      <td>5</td>\n",
              "      <td>False</td>\n",
              "      <td>[]</td>\n",
              "      <td>224</td>\n",
              "    </tr>\n",
              "    <tr>\n",
              "      <th>2</th>\n",
              "      <td>3</td>\n",
              "      <td>Midfielders</td>\n",
              "      <td>MID</td>\n",
              "      <td>Midfielder</td>\n",
              "      <td>MID</td>\n",
              "      <td>5</td>\n",
              "      <td>2</td>\n",
              "      <td>5</td>\n",
              "      <td>False</td>\n",
              "      <td>[]</td>\n",
              "      <td>248</td>\n",
              "    </tr>\n",
              "    <tr>\n",
              "      <th>3</th>\n",
              "      <td>4</td>\n",
              "      <td>Forwards</td>\n",
              "      <td>FWD</td>\n",
              "      <td>Forward</td>\n",
              "      <td>FWD</td>\n",
              "      <td>3</td>\n",
              "      <td>1</td>\n",
              "      <td>3</td>\n",
              "      <td>False</td>\n",
              "      <td>[]</td>\n",
              "      <td>80</td>\n",
              "    </tr>\n",
              "  </tbody>\n",
              "</table>\n",
              "</div>"
            ],
            "text/plain": [
              "   id  plural_name  ... sub_positions_locked element_count\n",
              "0   1  Goalkeepers  ...                 [12]            73\n",
              "1   2    Defenders  ...                   []           224\n",
              "2   3  Midfielders  ...                   []           248\n",
              "3   4     Forwards  ...                   []            80\n",
              "\n",
              "[4 rows x 11 columns]"
            ]
          },
          "metadata": {
            "tags": []
          },
          "execution_count": 8
        }
      ]
    },
    {
      "cell_type": "code",
      "metadata": {
        "colab": {
          "base_uri": "https://localhost:8080/",
          "height": 232
        },
        "id": "nFKNzAR1y9eR",
        "outputId": "611b2c42-c808-4c9f-e050-f2e2543dc16d"
      },
      "source": [
        "teams_df.head()"
      ],
      "execution_count": 9,
      "outputs": [
        {
          "output_type": "execute_result",
          "data": {
            "text/html": [
              "<div>\n",
              "<style scoped>\n",
              "    .dataframe tbody tr th:only-of-type {\n",
              "        vertical-align: middle;\n",
              "    }\n",
              "\n",
              "    .dataframe tbody tr th {\n",
              "        vertical-align: top;\n",
              "    }\n",
              "\n",
              "    .dataframe thead th {\n",
              "        text-align: right;\n",
              "    }\n",
              "</style>\n",
              "<table border=\"1\" class=\"dataframe\">\n",
              "  <thead>\n",
              "    <tr style=\"text-align: right;\">\n",
              "      <th></th>\n",
              "      <th>code</th>\n",
              "      <th>draw</th>\n",
              "      <th>form</th>\n",
              "      <th>id</th>\n",
              "      <th>loss</th>\n",
              "      <th>name</th>\n",
              "      <th>played</th>\n",
              "      <th>points</th>\n",
              "      <th>position</th>\n",
              "      <th>short_name</th>\n",
              "      <th>strength</th>\n",
              "      <th>team_division</th>\n",
              "      <th>unavailable</th>\n",
              "      <th>win</th>\n",
              "      <th>strength_overall_home</th>\n",
              "      <th>strength_overall_away</th>\n",
              "      <th>strength_attack_home</th>\n",
              "      <th>strength_attack_away</th>\n",
              "      <th>strength_defence_home</th>\n",
              "      <th>strength_defence_away</th>\n",
              "      <th>pulse_id</th>\n",
              "    </tr>\n",
              "  </thead>\n",
              "  <tbody>\n",
              "    <tr>\n",
              "      <th>0</th>\n",
              "      <td>3</td>\n",
              "      <td>0</td>\n",
              "      <td>None</td>\n",
              "      <td>1</td>\n",
              "      <td>0</td>\n",
              "      <td>Arsenal</td>\n",
              "      <td>0</td>\n",
              "      <td>0</td>\n",
              "      <td>0</td>\n",
              "      <td>ARS</td>\n",
              "      <td>4</td>\n",
              "      <td>None</td>\n",
              "      <td>False</td>\n",
              "      <td>0</td>\n",
              "      <td>1190</td>\n",
              "      <td>1210</td>\n",
              "      <td>1170</td>\n",
              "      <td>1210</td>\n",
              "      <td>1190</td>\n",
              "      <td>1200</td>\n",
              "      <td>1</td>\n",
              "    </tr>\n",
              "    <tr>\n",
              "      <th>1</th>\n",
              "      <td>7</td>\n",
              "      <td>0</td>\n",
              "      <td>None</td>\n",
              "      <td>2</td>\n",
              "      <td>0</td>\n",
              "      <td>Aston Villa</td>\n",
              "      <td>0</td>\n",
              "      <td>0</td>\n",
              "      <td>0</td>\n",
              "      <td>AVL</td>\n",
              "      <td>3</td>\n",
              "      <td>None</td>\n",
              "      <td>False</td>\n",
              "      <td>0</td>\n",
              "      <td>1150</td>\n",
              "      <td>1160</td>\n",
              "      <td>1150</td>\n",
              "      <td>1150</td>\n",
              "      <td>1180</td>\n",
              "      <td>1210</td>\n",
              "      <td>2</td>\n",
              "    </tr>\n",
              "    <tr>\n",
              "      <th>2</th>\n",
              "      <td>36</td>\n",
              "      <td>0</td>\n",
              "      <td>None</td>\n",
              "      <td>3</td>\n",
              "      <td>0</td>\n",
              "      <td>Brighton</td>\n",
              "      <td>0</td>\n",
              "      <td>0</td>\n",
              "      <td>0</td>\n",
              "      <td>BHA</td>\n",
              "      <td>3</td>\n",
              "      <td>None</td>\n",
              "      <td>False</td>\n",
              "      <td>0</td>\n",
              "      <td>1080</td>\n",
              "      <td>1100</td>\n",
              "      <td>1150</td>\n",
              "      <td>1180</td>\n",
              "      <td>1090</td>\n",
              "      <td>1100</td>\n",
              "      <td>131</td>\n",
              "    </tr>\n",
              "    <tr>\n",
              "      <th>3</th>\n",
              "      <td>90</td>\n",
              "      <td>0</td>\n",
              "      <td>None</td>\n",
              "      <td>4</td>\n",
              "      <td>0</td>\n",
              "      <td>Burnley</td>\n",
              "      <td>0</td>\n",
              "      <td>0</td>\n",
              "      <td>0</td>\n",
              "      <td>BUR</td>\n",
              "      <td>2</td>\n",
              "      <td>None</td>\n",
              "      <td>False</td>\n",
              "      <td>0</td>\n",
              "      <td>1050</td>\n",
              "      <td>1080</td>\n",
              "      <td>1120</td>\n",
              "      <td>1190</td>\n",
              "      <td>1010</td>\n",
              "      <td>1030</td>\n",
              "      <td>43</td>\n",
              "    </tr>\n",
              "    <tr>\n",
              "      <th>4</th>\n",
              "      <td>8</td>\n",
              "      <td>0</td>\n",
              "      <td>None</td>\n",
              "      <td>5</td>\n",
              "      <td>0</td>\n",
              "      <td>Chelsea</td>\n",
              "      <td>0</td>\n",
              "      <td>0</td>\n",
              "      <td>0</td>\n",
              "      <td>CHE</td>\n",
              "      <td>4</td>\n",
              "      <td>None</td>\n",
              "      <td>False</td>\n",
              "      <td>0</td>\n",
              "      <td>1260</td>\n",
              "      <td>1280</td>\n",
              "      <td>1240</td>\n",
              "      <td>1280</td>\n",
              "      <td>1270</td>\n",
              "      <td>1310</td>\n",
              "      <td>4</td>\n",
              "    </tr>\n",
              "  </tbody>\n",
              "</table>\n",
              "</div>"
            ],
            "text/plain": [
              "   code  draw  form  ...  strength_defence_home  strength_defence_away pulse_id\n",
              "0     3     0  None  ...                   1190                   1200        1\n",
              "1     7     0  None  ...                   1180                   1210        2\n",
              "2    36     0  None  ...                   1090                   1100      131\n",
              "3    90     0  None  ...                   1010                   1030       43\n",
              "4     8     0  None  ...                   1270                   1310        4\n",
              "\n",
              "[5 rows x 21 columns]"
            ]
          },
          "metadata": {
            "tags": []
          },
          "execution_count": 9
        }
      ]
    },
    {
      "cell_type": "markdown",
      "metadata": {
        "id": "yVLOSReoy9eS"
      },
      "source": [
        "#### Preview Columns"
      ]
    },
    {
      "cell_type": "code",
      "metadata": {
        "colab": {
          "base_uri": "https://localhost:8080/"
        },
        "id": "z8PjcWN1y9eT",
        "outputId": "913056b3-7b2a-43fe-81ec-29493eab2b52"
      },
      "source": [
        "elements_df.columns"
      ],
      "execution_count": 10,
      "outputs": [
        {
          "output_type": "execute_result",
          "data": {
            "text/plain": [
              "Index(['chance_of_playing_next_round', 'chance_of_playing_this_round', 'code',\n",
              "       'cost_change_event', 'cost_change_event_fall', 'cost_change_start',\n",
              "       'cost_change_start_fall', 'dreamteam_count', 'element_type', 'ep_next',\n",
              "       'ep_this', 'event_points', 'first_name', 'form', 'id', 'in_dreamteam',\n",
              "       'news', 'news_added', 'now_cost', 'photo', 'points_per_game',\n",
              "       'second_name', 'selected_by_percent', 'special', 'squad_number',\n",
              "       'status', 'team', 'team_code', 'total_points', 'transfers_in',\n",
              "       'transfers_in_event', 'transfers_out', 'transfers_out_event',\n",
              "       'value_form', 'value_season', 'web_name', 'minutes', 'goals_scored',\n",
              "       'assists', 'clean_sheets', 'goals_conceded', 'own_goals',\n",
              "       'penalties_saved', 'penalties_missed', 'yellow_cards', 'red_cards',\n",
              "       'saves', 'bonus', 'bps', 'influence', 'creativity', 'threat',\n",
              "       'ict_index', 'influence_rank', 'influence_rank_type', 'creativity_rank',\n",
              "       'creativity_rank_type', 'threat_rank', 'threat_rank_type',\n",
              "       'ict_index_rank', 'ict_index_rank_type',\n",
              "       'corners_and_indirect_freekicks_order',\n",
              "       'corners_and_indirect_freekicks_text', 'direct_freekicks_order',\n",
              "       'direct_freekicks_text', 'penalties_order', 'penalties_text'],\n",
              "      dtype='object')"
            ]
          },
          "metadata": {
            "tags": []
          },
          "execution_count": 10
        }
      ]
    },
    {
      "cell_type": "code",
      "metadata": {
        "colab": {
          "base_uri": "https://localhost:8080/"
        },
        "id": "di5ytix3y9eU",
        "outputId": "00eff31a-eac7-4d27-c5bb-55098119ad79"
      },
      "source": [
        "element_types_df.columns"
      ],
      "execution_count": 11,
      "outputs": [
        {
          "output_type": "execute_result",
          "data": {
            "text/plain": [
              "Index(['id', 'plural_name', 'plural_name_short', 'singular_name',\n",
              "       'singular_name_short', 'squad_select', 'squad_min_play',\n",
              "       'squad_max_play', 'ui_shirt_specific', 'sub_positions_locked',\n",
              "       'element_count'],\n",
              "      dtype='object')"
            ]
          },
          "metadata": {
            "tags": []
          },
          "execution_count": 11
        }
      ]
    },
    {
      "cell_type": "code",
      "metadata": {
        "colab": {
          "base_uri": "https://localhost:8080/"
        },
        "id": "oJCms7Fhy9eW",
        "outputId": "ec7a7c80-538b-4bb7-b899-03cbfabf444f"
      },
      "source": [
        "teams_df.columns"
      ],
      "execution_count": 12,
      "outputs": [
        {
          "output_type": "execute_result",
          "data": {
            "text/plain": [
              "Index(['code', 'draw', 'form', 'id', 'loss', 'name', 'played', 'points',\n",
              "       'position', 'short_name', 'strength', 'team_division', 'unavailable',\n",
              "       'win', 'strength_overall_home', 'strength_overall_away',\n",
              "       'strength_attack_home', 'strength_attack_away', 'strength_defence_home',\n",
              "       'strength_defence_away', 'pulse_id'],\n",
              "      dtype='object')"
            ]
          },
          "metadata": {
            "tags": []
          },
          "execution_count": 12
        }
      ]
    },
    {
      "cell_type": "markdown",
      "metadata": {
        "id": "7FOvo_K3y9eX"
      },
      "source": [
        "#### Filter smaller dataframe"
      ]
    },
    {
      "cell_type": "code",
      "metadata": {
        "id": "WnbcZ95jy9eY"
      },
      "source": [
        "filter_elements_df = elements_df [['second_name','team','element_type','selected_by_percent','now_cost','minutes','transfers_in','value_season','total_points', 'form']]"
      ],
      "execution_count": 13,
      "outputs": []
    },
    {
      "cell_type": "code",
      "metadata": {
        "colab": {
          "base_uri": "https://localhost:8080/",
          "height": 0
        },
        "id": "jVbSS1NKy9eY",
        "outputId": "00ba48ed-27a3-4ec6-b4d4-d00e1ee493b6"
      },
      "source": [
        "filter_elements_df.head()"
      ],
      "execution_count": 14,
      "outputs": [
        {
          "output_type": "execute_result",
          "data": {
            "text/html": [
              "<div>\n",
              "<style scoped>\n",
              "    .dataframe tbody tr th:only-of-type {\n",
              "        vertical-align: middle;\n",
              "    }\n",
              "\n",
              "    .dataframe tbody tr th {\n",
              "        vertical-align: top;\n",
              "    }\n",
              "\n",
              "    .dataframe thead th {\n",
              "        text-align: right;\n",
              "    }\n",
              "</style>\n",
              "<table border=\"1\" class=\"dataframe\">\n",
              "  <thead>\n",
              "    <tr style=\"text-align: right;\">\n",
              "      <th></th>\n",
              "      <th>second_name</th>\n",
              "      <th>team</th>\n",
              "      <th>element_type</th>\n",
              "      <th>selected_by_percent</th>\n",
              "      <th>now_cost</th>\n",
              "      <th>minutes</th>\n",
              "      <th>transfers_in</th>\n",
              "      <th>value_season</th>\n",
              "      <th>total_points</th>\n",
              "      <th>form</th>\n",
              "    </tr>\n",
              "  </thead>\n",
              "  <tbody>\n",
              "    <tr>\n",
              "      <th>0</th>\n",
              "      <td>Özil</td>\n",
              "      <td>1</td>\n",
              "      <td>3</td>\n",
              "      <td>0.5</td>\n",
              "      <td>68</td>\n",
              "      <td>0</td>\n",
              "      <td>3427</td>\n",
              "      <td>0.0</td>\n",
              "      <td>0</td>\n",
              "      <td>0.0</td>\n",
              "    </tr>\n",
              "    <tr>\n",
              "      <th>1</th>\n",
              "      <td>Papastathopoulos</td>\n",
              "      <td>1</td>\n",
              "      <td>2</td>\n",
              "      <td>0.1</td>\n",
              "      <td>48</td>\n",
              "      <td>0</td>\n",
              "      <td>10261</td>\n",
              "      <td>0.0</td>\n",
              "      <td>0</td>\n",
              "      <td>0.0</td>\n",
              "    </tr>\n",
              "    <tr>\n",
              "      <th>2</th>\n",
              "      <td>Luiz Moreira Marinho</td>\n",
              "      <td>1</td>\n",
              "      <td>2</td>\n",
              "      <td>0.7</td>\n",
              "      <td>54</td>\n",
              "      <td>479</td>\n",
              "      <td>40310</td>\n",
              "      <td>1.7</td>\n",
              "      <td>9</td>\n",
              "      <td>0.3</td>\n",
              "    </tr>\n",
              "    <tr>\n",
              "      <th>3</th>\n",
              "      <td>Aubameyang</td>\n",
              "      <td>1</td>\n",
              "      <td>3</td>\n",
              "      <td>7.3</td>\n",
              "      <td>113</td>\n",
              "      <td>1346</td>\n",
              "      <td>515913</td>\n",
              "      <td>4.7</td>\n",
              "      <td>53</td>\n",
              "      <td>2.7</td>\n",
              "    </tr>\n",
              "    <tr>\n",
              "      <th>4</th>\n",
              "      <td>Soares</td>\n",
              "      <td>1</td>\n",
              "      <td>2</td>\n",
              "      <td>0.2</td>\n",
              "      <td>46</td>\n",
              "      <td>5</td>\n",
              "      <td>4135</td>\n",
              "      <td>0.2</td>\n",
              "      <td>1</td>\n",
              "      <td>0.2</td>\n",
              "    </tr>\n",
              "  </tbody>\n",
              "</table>\n",
              "</div>"
            ],
            "text/plain": [
              "            second_name  team  element_type  ... value_season  total_points  form\n",
              "0                  Özil     1             3  ...          0.0             0   0.0\n",
              "1      Papastathopoulos     1             2  ...          0.0             0   0.0\n",
              "2  Luiz Moreira Marinho     1             2  ...          1.7             9   0.3\n",
              "3            Aubameyang     1             3  ...          4.7            53   2.7\n",
              "4                Soares     1             2  ...          0.2             1   0.2\n",
              "\n",
              "[5 rows x 10 columns]"
            ]
          },
          "metadata": {
            "tags": []
          },
          "execution_count": 14
        }
      ]
    },
    {
      "cell_type": "markdown",
      "metadata": {
        "id": "bFQMrTASy9eZ"
      },
      "source": [
        "## Dataframe Sorting"
      ]
    },
    {
      "cell_type": "markdown",
      "metadata": {
        "id": "FMDaTBQjy9ea"
      },
      "source": [
        "### Map()"
      ]
    },
    {
      "cell_type": "markdown",
      "metadata": {
        "id": "ZSiMqky4y9eb"
      },
      "source": [
        "#### Similar to V-lookup"
      ]
    },
    {
      "cell_type": "markdown",
      "metadata": {
        "id": "72LzAWfPy9eb"
      },
      "source": [
        "#### Map filter_elements_df to element_type_df (NOT element_type under elements_df)"
      ]
    },
    {
      "cell_type": "code",
      "metadata": {
        "colab": {
          "base_uri": "https://localhost:8080/"
        },
        "id": "XolEdPaey9ec",
        "outputId": "001273c6-2f4e-45b7-9c34-cd4cf1bba939"
      },
      "source": [
        "filter_elements_df['position'] = filter_elements_df.element_type.map(element_types_df.set_index('id').singular_name)"
      ],
      "execution_count": 15,
      "outputs": [
        {
          "output_type": "stream",
          "text": [
            "/usr/local/lib/python3.6/dist-packages/ipykernel_launcher.py:1: SettingWithCopyWarning: \n",
            "A value is trying to be set on a copy of a slice from a DataFrame.\n",
            "Try using .loc[row_indexer,col_indexer] = value instead\n",
            "\n",
            "See the caveats in the documentation: https://pandas.pydata.org/pandas-docs/stable/user_guide/indexing.html#returning-a-view-versus-a-copy\n",
            "  \"\"\"Entry point for launching an IPython kernel.\n"
          ],
          "name": "stderr"
        }
      ]
    },
    {
      "cell_type": "code",
      "metadata": {
        "scrolled": true,
        "colab": {
          "base_uri": "https://localhost:8080/",
          "height": 0
        },
        "id": "p5fBEo3_y9ed",
        "outputId": "34f29fe5-25b3-429e-a6c5-3a18888530f3"
      },
      "source": [
        "filter_elements_df.head()"
      ],
      "execution_count": 16,
      "outputs": [
        {
          "output_type": "execute_result",
          "data": {
            "text/html": [
              "<div>\n",
              "<style scoped>\n",
              "    .dataframe tbody tr th:only-of-type {\n",
              "        vertical-align: middle;\n",
              "    }\n",
              "\n",
              "    .dataframe tbody tr th {\n",
              "        vertical-align: top;\n",
              "    }\n",
              "\n",
              "    .dataframe thead th {\n",
              "        text-align: right;\n",
              "    }\n",
              "</style>\n",
              "<table border=\"1\" class=\"dataframe\">\n",
              "  <thead>\n",
              "    <tr style=\"text-align: right;\">\n",
              "      <th></th>\n",
              "      <th>second_name</th>\n",
              "      <th>team</th>\n",
              "      <th>element_type</th>\n",
              "      <th>selected_by_percent</th>\n",
              "      <th>now_cost</th>\n",
              "      <th>minutes</th>\n",
              "      <th>transfers_in</th>\n",
              "      <th>value_season</th>\n",
              "      <th>total_points</th>\n",
              "      <th>form</th>\n",
              "      <th>position</th>\n",
              "    </tr>\n",
              "  </thead>\n",
              "  <tbody>\n",
              "    <tr>\n",
              "      <th>0</th>\n",
              "      <td>Özil</td>\n",
              "      <td>1</td>\n",
              "      <td>3</td>\n",
              "      <td>0.5</td>\n",
              "      <td>68</td>\n",
              "      <td>0</td>\n",
              "      <td>3427</td>\n",
              "      <td>0.0</td>\n",
              "      <td>0</td>\n",
              "      <td>0.0</td>\n",
              "      <td>Midfielder</td>\n",
              "    </tr>\n",
              "    <tr>\n",
              "      <th>1</th>\n",
              "      <td>Papastathopoulos</td>\n",
              "      <td>1</td>\n",
              "      <td>2</td>\n",
              "      <td>0.1</td>\n",
              "      <td>48</td>\n",
              "      <td>0</td>\n",
              "      <td>10261</td>\n",
              "      <td>0.0</td>\n",
              "      <td>0</td>\n",
              "      <td>0.0</td>\n",
              "      <td>Defender</td>\n",
              "    </tr>\n",
              "    <tr>\n",
              "      <th>2</th>\n",
              "      <td>Luiz Moreira Marinho</td>\n",
              "      <td>1</td>\n",
              "      <td>2</td>\n",
              "      <td>0.7</td>\n",
              "      <td>54</td>\n",
              "      <td>479</td>\n",
              "      <td>40310</td>\n",
              "      <td>1.7</td>\n",
              "      <td>9</td>\n",
              "      <td>0.3</td>\n",
              "      <td>Defender</td>\n",
              "    </tr>\n",
              "    <tr>\n",
              "      <th>3</th>\n",
              "      <td>Aubameyang</td>\n",
              "      <td>1</td>\n",
              "      <td>3</td>\n",
              "      <td>7.3</td>\n",
              "      <td>113</td>\n",
              "      <td>1346</td>\n",
              "      <td>515913</td>\n",
              "      <td>4.7</td>\n",
              "      <td>53</td>\n",
              "      <td>2.7</td>\n",
              "      <td>Midfielder</td>\n",
              "    </tr>\n",
              "    <tr>\n",
              "      <th>4</th>\n",
              "      <td>Soares</td>\n",
              "      <td>1</td>\n",
              "      <td>2</td>\n",
              "      <td>0.2</td>\n",
              "      <td>46</td>\n",
              "      <td>5</td>\n",
              "      <td>4135</td>\n",
              "      <td>0.2</td>\n",
              "      <td>1</td>\n",
              "      <td>0.2</td>\n",
              "      <td>Defender</td>\n",
              "    </tr>\n",
              "  </tbody>\n",
              "</table>\n",
              "</div>"
            ],
            "text/plain": [
              "            second_name  team  element_type  ... total_points  form    position\n",
              "0                  Özil     1             3  ...            0   0.0  Midfielder\n",
              "1      Papastathopoulos     1             2  ...            0   0.0    Defender\n",
              "2  Luiz Moreira Marinho     1             2  ...            9   0.3    Defender\n",
              "3            Aubameyang     1             3  ...           53   2.7  Midfielder\n",
              "4                Soares     1             2  ...            1   0.2    Defender\n",
              "\n",
              "[5 rows x 11 columns]"
            ]
          },
          "metadata": {
            "tags": []
          },
          "execution_count": 16
        }
      ]
    },
    {
      "cell_type": "markdown",
      "metadata": {
        "id": "2pGYrTSpy9ee"
      },
      "source": [
        "#### We^ organized Name by position i think"
      ]
    },
    {
      "cell_type": "code",
      "metadata": {
        "colab": {
          "base_uri": "https://localhost:8080/"
        },
        "id": "ljngvyCMy9ee",
        "outputId": "63401577-69fc-448f-f8a6-ef3236ffbd2c"
      },
      "source": [
        "filter_elements_df['team'] = filter_elements_df.team.map(teams_df.set_index('id').name)"
      ],
      "execution_count": 17,
      "outputs": [
        {
          "output_type": "stream",
          "text": [
            "/usr/local/lib/python3.6/dist-packages/ipykernel_launcher.py:1: SettingWithCopyWarning: \n",
            "A value is trying to be set on a copy of a slice from a DataFrame.\n",
            "Try using .loc[row_indexer,col_indexer] = value instead\n",
            "\n",
            "See the caveats in the documentation: https://pandas.pydata.org/pandas-docs/stable/user_guide/indexing.html#returning-a-view-versus-a-copy\n",
            "  \"\"\"Entry point for launching an IPython kernel.\n"
          ],
          "name": "stderr"
        }
      ]
    },
    {
      "cell_type": "markdown",
      "metadata": {
        "id": "dlZfkAEvy9ef"
      },
      "source": [
        "#### Adding Team name"
      ]
    },
    {
      "cell_type": "code",
      "metadata": {
        "colab": {
          "base_uri": "https://localhost:8080/",
          "height": 0
        },
        "id": "lECM-3Oey9eg",
        "outputId": "4030ce01-86b7-4680-a59e-c876bdad3e58"
      },
      "source": [
        "filter_elements_df.head()"
      ],
      "execution_count": 18,
      "outputs": [
        {
          "output_type": "execute_result",
          "data": {
            "text/html": [
              "<div>\n",
              "<style scoped>\n",
              "    .dataframe tbody tr th:only-of-type {\n",
              "        vertical-align: middle;\n",
              "    }\n",
              "\n",
              "    .dataframe tbody tr th {\n",
              "        vertical-align: top;\n",
              "    }\n",
              "\n",
              "    .dataframe thead th {\n",
              "        text-align: right;\n",
              "    }\n",
              "</style>\n",
              "<table border=\"1\" class=\"dataframe\">\n",
              "  <thead>\n",
              "    <tr style=\"text-align: right;\">\n",
              "      <th></th>\n",
              "      <th>second_name</th>\n",
              "      <th>team</th>\n",
              "      <th>element_type</th>\n",
              "      <th>selected_by_percent</th>\n",
              "      <th>now_cost</th>\n",
              "      <th>minutes</th>\n",
              "      <th>transfers_in</th>\n",
              "      <th>value_season</th>\n",
              "      <th>total_points</th>\n",
              "      <th>form</th>\n",
              "      <th>position</th>\n",
              "    </tr>\n",
              "  </thead>\n",
              "  <tbody>\n",
              "    <tr>\n",
              "      <th>0</th>\n",
              "      <td>Özil</td>\n",
              "      <td>Arsenal</td>\n",
              "      <td>3</td>\n",
              "      <td>0.5</td>\n",
              "      <td>68</td>\n",
              "      <td>0</td>\n",
              "      <td>3427</td>\n",
              "      <td>0.0</td>\n",
              "      <td>0</td>\n",
              "      <td>0.0</td>\n",
              "      <td>Midfielder</td>\n",
              "    </tr>\n",
              "    <tr>\n",
              "      <th>1</th>\n",
              "      <td>Papastathopoulos</td>\n",
              "      <td>Arsenal</td>\n",
              "      <td>2</td>\n",
              "      <td>0.1</td>\n",
              "      <td>48</td>\n",
              "      <td>0</td>\n",
              "      <td>10261</td>\n",
              "      <td>0.0</td>\n",
              "      <td>0</td>\n",
              "      <td>0.0</td>\n",
              "      <td>Defender</td>\n",
              "    </tr>\n",
              "    <tr>\n",
              "      <th>2</th>\n",
              "      <td>Luiz Moreira Marinho</td>\n",
              "      <td>Arsenal</td>\n",
              "      <td>2</td>\n",
              "      <td>0.7</td>\n",
              "      <td>54</td>\n",
              "      <td>479</td>\n",
              "      <td>40310</td>\n",
              "      <td>1.7</td>\n",
              "      <td>9</td>\n",
              "      <td>0.3</td>\n",
              "      <td>Defender</td>\n",
              "    </tr>\n",
              "    <tr>\n",
              "      <th>3</th>\n",
              "      <td>Aubameyang</td>\n",
              "      <td>Arsenal</td>\n",
              "      <td>3</td>\n",
              "      <td>7.3</td>\n",
              "      <td>113</td>\n",
              "      <td>1346</td>\n",
              "      <td>515913</td>\n",
              "      <td>4.7</td>\n",
              "      <td>53</td>\n",
              "      <td>2.7</td>\n",
              "      <td>Midfielder</td>\n",
              "    </tr>\n",
              "    <tr>\n",
              "      <th>4</th>\n",
              "      <td>Soares</td>\n",
              "      <td>Arsenal</td>\n",
              "      <td>2</td>\n",
              "      <td>0.2</td>\n",
              "      <td>46</td>\n",
              "      <td>5</td>\n",
              "      <td>4135</td>\n",
              "      <td>0.2</td>\n",
              "      <td>1</td>\n",
              "      <td>0.2</td>\n",
              "      <td>Defender</td>\n",
              "    </tr>\n",
              "  </tbody>\n",
              "</table>\n",
              "</div>"
            ],
            "text/plain": [
              "            second_name     team  element_type  ... total_points  form    position\n",
              "0                  Özil  Arsenal             3  ...            0   0.0  Midfielder\n",
              "1      Papastathopoulos  Arsenal             2  ...            0   0.0    Defender\n",
              "2  Luiz Moreira Marinho  Arsenal             2  ...            9   0.3    Defender\n",
              "3            Aubameyang  Arsenal             3  ...           53   2.7  Midfielder\n",
              "4                Soares  Arsenal             2  ...            1   0.2    Defender\n",
              "\n",
              "[5 rows x 11 columns]"
            ]
          },
          "metadata": {
            "tags": []
          },
          "execution_count": 18
        }
      ]
    },
    {
      "cell_type": "markdown",
      "metadata": {
        "id": "eLZcjyjDy9eh"
      },
      "source": [
        "#### Sort by value_season"
      ]
    },
    {
      "cell_type": "markdown",
      "metadata": {
        "id": "T6JrrfAuy9ei"
      },
      "source": [
        "#### Helps us see the top value picks of the year"
      ]
    },
    {
      "cell_type": "markdown",
      "metadata": {
        "id": "vi6t89cTy9ei"
      },
      "source": [
        "#### value_season has string values"
      ]
    },
    {
      "cell_type": "markdown",
      "metadata": {
        "id": "zYT3-gumy9ej"
      },
      "source": [
        "#### To avoid data conflict, we need to create a new column called value. \n",
        "#### astype() helps convert values to float"
      ]
    },
    {
      "cell_type": "code",
      "metadata": {
        "colab": {
          "base_uri": "https://localhost:8080/"
        },
        "id": "SbvrSmUCy9ek",
        "outputId": "6f08a89b-167d-4c5f-aedb-90a6e8315f4c"
      },
      "source": [
        "filter_elements_df['value'] = filter_elements_df.value_season.astype(float)"
      ],
      "execution_count": 19,
      "outputs": [
        {
          "output_type": "stream",
          "text": [
            "/usr/local/lib/python3.6/dist-packages/ipykernel_launcher.py:1: SettingWithCopyWarning: \n",
            "A value is trying to be set on a copy of a slice from a DataFrame.\n",
            "Try using .loc[row_indexer,col_indexer] = value instead\n",
            "\n",
            "See the caveats in the documentation: https://pandas.pydata.org/pandas-docs/stable/user_guide/indexing.html#returning-a-view-versus-a-copy\n",
            "  \"\"\"Entry point for launching an IPython kernel.\n"
          ],
          "name": "stderr"
        }
      ]
    },
    {
      "cell_type": "markdown",
      "metadata": {
        "id": "ohwbLPV_y9el"
      },
      "source": [
        "sort_values() helps you sort data"
      ]
    },
    {
      "cell_type": "markdown",
      "metadata": {
        "id": "nNoTKlQ8y9el"
      },
      "source": [
        "#### Default is ascending direction from low to high. For descending, set to False."
      ]
    },
    {
      "cell_type": "code",
      "metadata": {
        "colab": {
          "base_uri": "https://localhost:8080/",
          "height": 0
        },
        "id": "q_pnGc9Wy9em",
        "outputId": "8540e430-1d14-4d03-ae62-b65fa92eca41"
      },
      "source": [
        "filter_elements_df.sort_values('value',ascending=False).head(10)"
      ],
      "execution_count": 20,
      "outputs": [
        {
          "output_type": "execute_result",
          "data": {
            "text/html": [
              "<div>\n",
              "<style scoped>\n",
              "    .dataframe tbody tr th:only-of-type {\n",
              "        vertical-align: middle;\n",
              "    }\n",
              "\n",
              "    .dataframe tbody tr th {\n",
              "        vertical-align: top;\n",
              "    }\n",
              "\n",
              "    .dataframe thead th {\n",
              "        text-align: right;\n",
              "    }\n",
              "</style>\n",
              "<table border=\"1\" class=\"dataframe\">\n",
              "  <thead>\n",
              "    <tr style=\"text-align: right;\">\n",
              "      <th></th>\n",
              "      <th>second_name</th>\n",
              "      <th>team</th>\n",
              "      <th>element_type</th>\n",
              "      <th>selected_by_percent</th>\n",
              "      <th>now_cost</th>\n",
              "      <th>minutes</th>\n",
              "      <th>transfers_in</th>\n",
              "      <th>value_season</th>\n",
              "      <th>total_points</th>\n",
              "      <th>form</th>\n",
              "      <th>position</th>\n",
              "      <th>value</th>\n",
              "    </tr>\n",
              "  </thead>\n",
              "  <tbody>\n",
              "    <tr>\n",
              "      <th>33</th>\n",
              "      <td>Martínez</td>\n",
              "      <td>Aston Villa</td>\n",
              "      <td>1</td>\n",
              "      <td>29.3</td>\n",
              "      <td>51</td>\n",
              "      <td>1350</td>\n",
              "      <td>2579045</td>\n",
              "      <td>16.3</td>\n",
              "      <td>83</td>\n",
              "      <td>6.0</td>\n",
              "      <td>Goalkeeper</td>\n",
              "      <td>16.3</td>\n",
              "    </tr>\n",
              "    <tr>\n",
              "      <th>485</th>\n",
              "      <td>Bednarek</td>\n",
              "      <td>Southampton</td>\n",
              "      <td>2</td>\n",
              "      <td>11.4</td>\n",
              "      <td>49</td>\n",
              "      <td>1440</td>\n",
              "      <td>1067785</td>\n",
              "      <td>16.1</td>\n",
              "      <td>79</td>\n",
              "      <td>6.3</td>\n",
              "      <td>Defender</td>\n",
              "      <td>16.1</td>\n",
              "    </tr>\n",
              "    <tr>\n",
              "      <th>286</th>\n",
              "      <td>Bamford</td>\n",
              "      <td>Leeds</td>\n",
              "      <td>4</td>\n",
              "      <td>42.1</td>\n",
              "      <td>66</td>\n",
              "      <td>1456</td>\n",
              "      <td>4710129</td>\n",
              "      <td>15.3</td>\n",
              "      <td>101</td>\n",
              "      <td>5.2</td>\n",
              "      <td>Forward</td>\n",
              "      <td>15.3</td>\n",
              "    </tr>\n",
              "    <tr>\n",
              "      <th>297</th>\n",
              "      <td>Meslier</td>\n",
              "      <td>Leeds</td>\n",
              "      <td>1</td>\n",
              "      <td>5.8</td>\n",
              "      <td>46</td>\n",
              "      <td>1530</td>\n",
              "      <td>625763</td>\n",
              "      <td>15.2</td>\n",
              "      <td>70</td>\n",
              "      <td>4.2</td>\n",
              "      <td>Goalkeeper</td>\n",
              "      <td>15.2</td>\n",
              "    </tr>\n",
              "    <tr>\n",
              "      <th>473</th>\n",
              "      <td>McCarthy</td>\n",
              "      <td>Southampton</td>\n",
              "      <td>1</td>\n",
              "      <td>18.6</td>\n",
              "      <td>47</td>\n",
              "      <td>1440</td>\n",
              "      <td>1108754</td>\n",
              "      <td>15.1</td>\n",
              "      <td>71</td>\n",
              "      <td>4.5</td>\n",
              "      <td>Goalkeeper</td>\n",
              "      <td>15.1</td>\n",
              "    </tr>\n",
              "    <tr>\n",
              "      <th>284</th>\n",
              "      <td>Dallas</td>\n",
              "      <td>Leeds</td>\n",
              "      <td>2</td>\n",
              "      <td>12.9</td>\n",
              "      <td>48</td>\n",
              "      <td>1520</td>\n",
              "      <td>1319975</td>\n",
              "      <td>14.8</td>\n",
              "      <td>71</td>\n",
              "      <td>6.2</td>\n",
              "      <td>Defender</td>\n",
              "      <td>14.8</td>\n",
              "    </tr>\n",
              "    <tr>\n",
              "      <th>582</th>\n",
              "      <td>Soucek</td>\n",
              "      <td>West Ham</td>\n",
              "      <td>3</td>\n",
              "      <td>11.2</td>\n",
              "      <td>52</td>\n",
              "      <td>1530</td>\n",
              "      <td>1193514</td>\n",
              "      <td>14.8</td>\n",
              "      <td>77</td>\n",
              "      <td>5.6</td>\n",
              "      <td>Midfielder</td>\n",
              "      <td>14.8</td>\n",
              "    </tr>\n",
              "    <tr>\n",
              "      <th>484</th>\n",
              "      <td>Walker-Peters</td>\n",
              "      <td>Southampton</td>\n",
              "      <td>2</td>\n",
              "      <td>12.7</td>\n",
              "      <td>48</td>\n",
              "      <td>1530</td>\n",
              "      <td>1029277</td>\n",
              "      <td>14.4</td>\n",
              "      <td>69</td>\n",
              "      <td>4.8</td>\n",
              "      <td>Defender</td>\n",
              "      <td>14.4</td>\n",
              "    </tr>\n",
              "    <tr>\n",
              "      <th>569</th>\n",
              "      <td>Cresswell</td>\n",
              "      <td>West Ham</td>\n",
              "      <td>2</td>\n",
              "      <td>12.3</td>\n",
              "      <td>54</td>\n",
              "      <td>1530</td>\n",
              "      <td>1428666</td>\n",
              "      <td>14.3</td>\n",
              "      <td>77</td>\n",
              "      <td>4.8</td>\n",
              "      <td>Defender</td>\n",
              "      <td>14.3</td>\n",
              "    </tr>\n",
              "    <tr>\n",
              "      <th>565</th>\n",
              "      <td>Fabianski</td>\n",
              "      <td>West Ham</td>\n",
              "      <td>1</td>\n",
              "      <td>3.6</td>\n",
              "      <td>51</td>\n",
              "      <td>1440</td>\n",
              "      <td>402705</td>\n",
              "      <td>13.9</td>\n",
              "      <td>71</td>\n",
              "      <td>2.6</td>\n",
              "      <td>Goalkeeper</td>\n",
              "      <td>13.9</td>\n",
              "    </tr>\n",
              "  </tbody>\n",
              "</table>\n",
              "</div>"
            ],
            "text/plain": [
              "       second_name         team  element_type  ... form    position  value\n",
              "33        Martínez  Aston Villa             1  ...  6.0  Goalkeeper   16.3\n",
              "485       Bednarek  Southampton             2  ...  6.3    Defender   16.1\n",
              "286        Bamford        Leeds             4  ...  5.2     Forward   15.3\n",
              "297        Meslier        Leeds             1  ...  4.2  Goalkeeper   15.2\n",
              "473       McCarthy  Southampton             1  ...  4.5  Goalkeeper   15.1\n",
              "284         Dallas        Leeds             2  ...  6.2    Defender   14.8\n",
              "582         Soucek     West Ham             3  ...  5.6  Midfielder   14.8\n",
              "484  Walker-Peters  Southampton             2  ...  4.8    Defender   14.4\n",
              "569      Cresswell     West Ham             2  ...  4.8    Defender   14.3\n",
              "565      Fabianski     West Ham             1  ...  2.6  Goalkeeper   13.9\n",
              "\n",
              "[10 rows x 12 columns]"
            ]
          },
          "metadata": {
            "tags": []
          },
          "execution_count": 20
        }
      ]
    },
    {
      "cell_type": "markdown",
      "metadata": {
        "id": "ebB_jGmly9en"
      },
      "source": [
        "#### Value season = total points / now cost"
      ]
    },
    {
      "cell_type": "markdown",
      "metadata": {
        "id": "-DK0q7Xzy9eo"
      },
      "source": [
        "### Using Pivot_table()"
      ]
    },
    {
      "cell_type": "markdown",
      "metadata": {
        "id": "CswDfoNky9ep"
      },
      "source": [
        "#### Using pivot on column position -> value by position"
      ]
    },
    {
      "cell_type": "code",
      "metadata": {
        "id": "oro-cJ32y9ep"
      },
      "source": [
        "pivot = filter_elements_df.pivot_table(index='position',values='value',aggfunc=np.mean).reset_index()"
      ],
      "execution_count": 21,
      "outputs": []
    },
    {
      "cell_type": "code",
      "metadata": {
        "colab": {
          "base_uri": "https://localhost:8080/",
          "height": 0
        },
        "id": "pslN4KB2y9eq",
        "outputId": "4bb039f8-c10a-4f6f-ec3d-b469d3667332"
      },
      "source": [
        "pivot.sort_values('value',ascending = False)"
      ],
      "execution_count": 22,
      "outputs": [
        {
          "output_type": "execute_result",
          "data": {
            "text/html": [
              "<div>\n",
              "<style scoped>\n",
              "    .dataframe tbody tr th:only-of-type {\n",
              "        vertical-align: middle;\n",
              "    }\n",
              "\n",
              "    .dataframe tbody tr th {\n",
              "        vertical-align: top;\n",
              "    }\n",
              "\n",
              "    .dataframe thead th {\n",
              "        text-align: right;\n",
              "    }\n",
              "</style>\n",
              "<table border=\"1\" class=\"dataframe\">\n",
              "  <thead>\n",
              "    <tr style=\"text-align: right;\">\n",
              "      <th></th>\n",
              "      <th>position</th>\n",
              "      <th>value</th>\n",
              "    </tr>\n",
              "  </thead>\n",
              "  <tbody>\n",
              "    <tr>\n",
              "      <th>0</th>\n",
              "      <td>Defender</td>\n",
              "      <td>3.984375</td>\n",
              "    </tr>\n",
              "    <tr>\n",
              "      <th>3</th>\n",
              "      <td>Midfielder</td>\n",
              "      <td>3.942339</td>\n",
              "    </tr>\n",
              "    <tr>\n",
              "      <th>1</th>\n",
              "      <td>Forward</td>\n",
              "      <td>3.821250</td>\n",
              "    </tr>\n",
              "    <tr>\n",
              "      <th>2</th>\n",
              "      <td>Goalkeeper</td>\n",
              "      <td>3.309589</td>\n",
              "    </tr>\n",
              "  </tbody>\n",
              "</table>\n",
              "</div>"
            ],
            "text/plain": [
              "     position     value\n",
              "0    Defender  3.984375\n",
              "3  Midfielder  3.942339\n",
              "1     Forward  3.821250\n",
              "2  Goalkeeper  3.309589"
            ]
          },
          "metadata": {
            "tags": []
          },
          "execution_count": 22
        }
      ]
    },
    {
      "cell_type": "markdown",
      "metadata": {
        "id": "Y8LK-CXPy9er"
      },
      "source": [
        "#### This result maybe skewed by players who play less minutes"
      ]
    },
    {
      "cell_type": "markdown",
      "metadata": {
        "id": "H2YDOS1Ry9er"
      },
      "source": [
        "#### Let's remove 0 minute players"
      ]
    },
    {
      "cell_type": "markdown",
      "metadata": {
        "id": "bI7teQdUy9es"
      },
      "source": [
        "### Using .loc[ ]"
      ]
    },
    {
      "cell_type": "markdown",
      "metadata": {
        "id": "MoBnatIsy9et"
      },
      "source": [
        "#### .loc helps you locate specifc rows/columns"
      ]
    },
    {
      "cell_type": "code",
      "metadata": {
        "id": "id7pkZjAy9et"
      },
      "source": [
        "filter_elements_df = filter_elements_df.loc[filter_elements_df.value > 0 ]"
      ],
      "execution_count": 23,
      "outputs": []
    },
    {
      "cell_type": "code",
      "metadata": {
        "id": "cIXMHE7oy9eu"
      },
      "source": [
        "pivot = filter_elements_df.pivot_table(index='position',values='value',aggfunc=np.mean).reset_index()"
      ],
      "execution_count": 24,
      "outputs": []
    },
    {
      "cell_type": "code",
      "metadata": {
        "colab": {
          "base_uri": "https://localhost:8080/",
          "height": 0
        },
        "id": "ntKyfZHBy9eu",
        "outputId": "1ada26fc-2e2c-4ac7-9732-3bc5441d3833"
      },
      "source": [
        "pivot.sort_values('value',ascending = False)"
      ],
      "execution_count": 25,
      "outputs": [
        {
          "output_type": "execute_result",
          "data": {
            "text/html": [
              "<div>\n",
              "<style scoped>\n",
              "    .dataframe tbody tr th:only-of-type {\n",
              "        vertical-align: middle;\n",
              "    }\n",
              "\n",
              "    .dataframe tbody tr th {\n",
              "        vertical-align: top;\n",
              "    }\n",
              "\n",
              "    .dataframe thead th {\n",
              "        text-align: right;\n",
              "    }\n",
              "</style>\n",
              "<table border=\"1\" class=\"dataframe\">\n",
              "  <thead>\n",
              "    <tr style=\"text-align: right;\">\n",
              "      <th></th>\n",
              "      <th>position</th>\n",
              "      <th>value</th>\n",
              "    </tr>\n",
              "  </thead>\n",
              "  <tbody>\n",
              "    <tr>\n",
              "      <th>2</th>\n",
              "      <td>Goalkeeper</td>\n",
              "      <td>7.793548</td>\n",
              "    </tr>\n",
              "    <tr>\n",
              "      <th>0</th>\n",
              "      <td>Defender</td>\n",
              "      <td>5.344311</td>\n",
              "    </tr>\n",
              "    <tr>\n",
              "      <th>3</th>\n",
              "      <td>Midfielder</td>\n",
              "      <td>5.065803</td>\n",
              "    </tr>\n",
              "    <tr>\n",
              "      <th>1</th>\n",
              "      <td>Forward</td>\n",
              "      <td>4.930645</td>\n",
              "    </tr>\n",
              "  </tbody>\n",
              "</table>\n",
              "</div>"
            ],
            "text/plain": [
              "     position     value\n",
              "2  Goalkeeper  7.793548\n",
              "0    Defender  5.344311\n",
              "3  Midfielder  5.065803\n",
              "1     Forward  4.930645"
            ]
          },
          "metadata": {
            "tags": []
          },
          "execution_count": 25
        }
      ]
    },
    {
      "cell_type": "markdown",
      "metadata": {
        "id": "jnHRieJjy9ev"
      },
      "source": [
        "#### Which Teams are providing the most value this year?"
      ]
    },
    {
      "cell_type": "code",
      "metadata": {
        "id": "uy-dqyqHy9ew"
      },
      "source": [
        "team_pivot = filter_elements_df.pivot_table(index = 'team', values = \n",
        "                                        'value', aggfunc = np.mean).reset_index()"
      ],
      "execution_count": 26,
      "outputs": []
    },
    {
      "cell_type": "code",
      "metadata": {
        "colab": {
          "base_uri": "https://localhost:8080/",
          "height": 0
        },
        "id": "Jlh4jbKKy9ex",
        "outputId": "900c6778-7eb2-4b33-d9ab-db2943373234"
      },
      "source": [
        "team_pivot.sort_values('value', ascending = False)"
      ],
      "execution_count": 27,
      "outputs": [
        {
          "output_type": "execute_result",
          "data": {
            "text/html": [
              "<div>\n",
              "<style scoped>\n",
              "    .dataframe tbody tr th:only-of-type {\n",
              "        vertical-align: middle;\n",
              "    }\n",
              "\n",
              "    .dataframe tbody tr th {\n",
              "        vertical-align: top;\n",
              "    }\n",
              "\n",
              "    .dataframe thead th {\n",
              "        text-align: right;\n",
              "    }\n",
              "</style>\n",
              "<table border=\"1\" class=\"dataframe\">\n",
              "  <thead>\n",
              "    <tr style=\"text-align: right;\">\n",
              "      <th></th>\n",
              "      <th>team</th>\n",
              "      <th>value</th>\n",
              "    </tr>\n",
              "  </thead>\n",
              "  <tbody>\n",
              "    <tr>\n",
              "      <th>8</th>\n",
              "      <td>Leeds</td>\n",
              "      <td>7.794737</td>\n",
              "    </tr>\n",
              "    <tr>\n",
              "      <th>1</th>\n",
              "      <td>Aston Villa</td>\n",
              "      <td>7.636842</td>\n",
              "    </tr>\n",
              "    <tr>\n",
              "      <th>15</th>\n",
              "      <td>Southampton</td>\n",
              "      <td>7.036364</td>\n",
              "    </tr>\n",
              "    <tr>\n",
              "      <th>18</th>\n",
              "      <td>West Ham</td>\n",
              "      <td>6.631818</td>\n",
              "    </tr>\n",
              "    <tr>\n",
              "      <th>19</th>\n",
              "      <td>Wolves</td>\n",
              "      <td>5.814286</td>\n",
              "    </tr>\n",
              "    <tr>\n",
              "      <th>5</th>\n",
              "      <td>Crystal Palace</td>\n",
              "      <td>5.619048</td>\n",
              "    </tr>\n",
              "    <tr>\n",
              "      <th>16</th>\n",
              "      <td>Spurs</td>\n",
              "      <td>5.595455</td>\n",
              "    </tr>\n",
              "    <tr>\n",
              "      <th>3</th>\n",
              "      <td>Burnley</td>\n",
              "      <td>5.540000</td>\n",
              "    </tr>\n",
              "    <tr>\n",
              "      <th>4</th>\n",
              "      <td>Chelsea</td>\n",
              "      <td>5.512500</td>\n",
              "    </tr>\n",
              "    <tr>\n",
              "      <th>2</th>\n",
              "      <td>Brighton</td>\n",
              "      <td>5.173913</td>\n",
              "    </tr>\n",
              "    <tr>\n",
              "      <th>9</th>\n",
              "      <td>Leicester</td>\n",
              "      <td>5.162500</td>\n",
              "    </tr>\n",
              "    <tr>\n",
              "      <th>0</th>\n",
              "      <td>Arsenal</td>\n",
              "      <td>5.008000</td>\n",
              "    </tr>\n",
              "    <tr>\n",
              "      <th>11</th>\n",
              "      <td>Man City</td>\n",
              "      <td>4.860870</td>\n",
              "    </tr>\n",
              "    <tr>\n",
              "      <th>6</th>\n",
              "      <td>Everton</td>\n",
              "      <td>4.850000</td>\n",
              "    </tr>\n",
              "    <tr>\n",
              "      <th>13</th>\n",
              "      <td>Newcastle</td>\n",
              "      <td>4.695833</td>\n",
              "    </tr>\n",
              "    <tr>\n",
              "      <th>12</th>\n",
              "      <td>Man Utd</td>\n",
              "      <td>4.686957</td>\n",
              "    </tr>\n",
              "    <tr>\n",
              "      <th>7</th>\n",
              "      <td>Fulham</td>\n",
              "      <td>4.543478</td>\n",
              "    </tr>\n",
              "    <tr>\n",
              "      <th>10</th>\n",
              "      <td>Liverpool</td>\n",
              "      <td>4.503846</td>\n",
              "    </tr>\n",
              "    <tr>\n",
              "      <th>17</th>\n",
              "      <td>West Brom</td>\n",
              "      <td>3.880000</td>\n",
              "    </tr>\n",
              "    <tr>\n",
              "      <th>14</th>\n",
              "      <td>Sheffield Utd</td>\n",
              "      <td>3.560870</td>\n",
              "    </tr>\n",
              "  </tbody>\n",
              "</table>\n",
              "</div>"
            ],
            "text/plain": [
              "              team     value\n",
              "8            Leeds  7.794737\n",
              "1      Aston Villa  7.636842\n",
              "15     Southampton  7.036364\n",
              "18        West Ham  6.631818\n",
              "19          Wolves  5.814286\n",
              "5   Crystal Palace  5.619048\n",
              "16           Spurs  5.595455\n",
              "3          Burnley  5.540000\n",
              "4          Chelsea  5.512500\n",
              "2         Brighton  5.173913\n",
              "9        Leicester  5.162500\n",
              "0          Arsenal  5.008000\n",
              "11        Man City  4.860870\n",
              "6          Everton  4.850000\n",
              "13       Newcastle  4.695833\n",
              "12         Man Utd  4.686957\n",
              "7           Fulham  4.543478\n",
              "10       Liverpool  4.503846\n",
              "17       West Brom  3.880000\n",
              "14   Sheffield Utd  3.560870"
            ]
          },
          "metadata": {
            "tags": []
          },
          "execution_count": 27
        }
      ]
    },
    {
      "cell_type": "markdown",
      "metadata": {
        "id": "zKx1YONNy9ex"
      },
      "source": [
        "####"
      ]
    },
    {
      "cell_type": "markdown",
      "metadata": {
        "id": "qluttWxpy9ey"
      },
      "source": [
        "### Using .hist()"
      ]
    },
    {
      "cell_type": "markdown",
      "metadata": {
        "id": "u-dARHkhy9ey"
      },
      "source": [
        "#### Histogram distribution of each value by position"
      ]
    },
    {
      "cell_type": "markdown",
      "metadata": {
        "id": "DIlN50WWy9ez"
      },
      "source": [
        "#### Filter more dataframes"
      ]
    },
    {
      "cell_type": "code",
      "metadata": {
        "id": "L4aoBNN6y9e0"
      },
      "source": [
        "fwd_df = filter_elements_df.loc[filter_elements_df.position == 'Forward']\n",
        "mid_df = filter_elements_df.loc[filter_elements_df.position == 'Midfielder']\n",
        "def_df = filter_elements_df.loc[filter_elements_df.position == 'Defender']\n",
        "gk_df = filter_elements_df.loc[filter_elements_df.position == 'Goalkeeper']"
      ],
      "execution_count": 28,
      "outputs": []
    },
    {
      "cell_type": "code",
      "metadata": {
        "scrolled": true,
        "colab": {
          "base_uri": "https://localhost:8080/",
          "height": 0
        },
        "id": "Gl7WcbtEy9e1",
        "outputId": "e25f8f14-6148-4f67-dbba-31ae8bcefc09"
      },
      "source": [
        "gk_df.value.hist()"
      ],
      "execution_count": 29,
      "outputs": [
        {
          "output_type": "execute_result",
          "data": {
            "text/plain": [
              "<matplotlib.axes._subplots.AxesSubplot at 0x7efc95626588>"
            ]
          },
          "metadata": {
            "tags": []
          },
          "execution_count": 29
        },
        {
          "output_type": "display_data",
          "data": {
            "image/png": "[encoded data removed]",
            "text/plain": [
              "<Figure size 432x288 with 1 Axes>"
            ]
          },
          "metadata": {
            "tags": [],
            "needs_background": "light"
          }
        }
      ]
    },
    {
      "cell_type": "code",
      "metadata": {
        "colab": {
          "base_uri": "https://localhost:8080/",
          "height": 0
        },
        "id": "NQvBSN9cy9e2",
        "outputId": "3cadac79-ab09-4f86-d5c2-f47b25eb9a32"
      },
      "source": [
        "gk_df.sort_values('value', ascending = False).head(10)"
      ],
      "execution_count": 30,
      "outputs": [
        {
          "output_type": "execute_result",
          "data": {
            "text/html": [
              "<div>\n",
              "<style scoped>\n",
              "    .dataframe tbody tr th:only-of-type {\n",
              "        vertical-align: middle;\n",
              "    }\n",
              "\n",
              "    .dataframe tbody tr th {\n",
              "        vertical-align: top;\n",
              "    }\n",
              "\n",
              "    .dataframe thead th {\n",
              "        text-align: right;\n",
              "    }\n",
              "</style>\n",
              "<table border=\"1\" class=\"dataframe\">\n",
              "  <thead>\n",
              "    <tr style=\"text-align: right;\">\n",
              "      <th></th>\n",
              "      <th>second_name</th>\n",
              "      <th>team</th>\n",
              "      <th>element_type</th>\n",
              "      <th>selected_by_percent</th>\n",
              "      <th>now_cost</th>\n",
              "      <th>minutes</th>\n",
              "      <th>transfers_in</th>\n",
              "      <th>value_season</th>\n",
              "      <th>total_points</th>\n",
              "      <th>form</th>\n",
              "      <th>position</th>\n",
              "      <th>value</th>\n",
              "    </tr>\n",
              "  </thead>\n",
              "  <tbody>\n",
              "    <tr>\n",
              "      <th>33</th>\n",
              "      <td>Martínez</td>\n",
              "      <td>Aston Villa</td>\n",
              "      <td>1</td>\n",
              "      <td>29.3</td>\n",
              "      <td>51</td>\n",
              "      <td>1350</td>\n",
              "      <td>2579045</td>\n",
              "      <td>16.3</td>\n",
              "      <td>83</td>\n",
              "      <td>6.0</td>\n",
              "      <td>Goalkeeper</td>\n",
              "      <td>16.3</td>\n",
              "    </tr>\n",
              "    <tr>\n",
              "      <th>297</th>\n",
              "      <td>Meslier</td>\n",
              "      <td>Leeds</td>\n",
              "      <td>1</td>\n",
              "      <td>5.8</td>\n",
              "      <td>46</td>\n",
              "      <td>1530</td>\n",
              "      <td>625763</td>\n",
              "      <td>15.2</td>\n",
              "      <td>70</td>\n",
              "      <td>4.2</td>\n",
              "      <td>Goalkeeper</td>\n",
              "      <td>15.2</td>\n",
              "    </tr>\n",
              "    <tr>\n",
              "      <th>473</th>\n",
              "      <td>McCarthy</td>\n",
              "      <td>Southampton</td>\n",
              "      <td>1</td>\n",
              "      <td>18.6</td>\n",
              "      <td>47</td>\n",
              "      <td>1440</td>\n",
              "      <td>1108754</td>\n",
              "      <td>15.1</td>\n",
              "      <td>71</td>\n",
              "      <td>4.5</td>\n",
              "      <td>Goalkeeper</td>\n",
              "      <td>15.1</td>\n",
              "    </tr>\n",
              "    <tr>\n",
              "      <th>565</th>\n",
              "      <td>Fabianski</td>\n",
              "      <td>West Ham</td>\n",
              "      <td>1</td>\n",
              "      <td>3.6</td>\n",
              "      <td>51</td>\n",
              "      <td>1440</td>\n",
              "      <td>402705</td>\n",
              "      <td>13.9</td>\n",
              "      <td>71</td>\n",
              "      <td>2.6</td>\n",
              "      <td>Goalkeeper</td>\n",
              "      <td>13.9</td>\n",
              "    </tr>\n",
              "    <tr>\n",
              "      <th>112</th>\n",
              "      <td>Pope</td>\n",
              "      <td>Burnley</td>\n",
              "      <td>1</td>\n",
              "      <td>10.3</td>\n",
              "      <td>54</td>\n",
              "      <td>1260</td>\n",
              "      <td>365461</td>\n",
              "      <td>13.9</td>\n",
              "      <td>75</td>\n",
              "      <td>6.6</td>\n",
              "      <td>Goalkeeper</td>\n",
              "      <td>13.9</td>\n",
              "    </tr>\n",
              "    <tr>\n",
              "      <th>7</th>\n",
              "      <td>Leno</td>\n",
              "      <td>Arsenal</td>\n",
              "      <td>1</td>\n",
              "      <td>10.0</td>\n",
              "      <td>49</td>\n",
              "      <td>1530</td>\n",
              "      <td>608209</td>\n",
              "      <td>13.7</td>\n",
              "      <td>67</td>\n",
              "      <td>4.3</td>\n",
              "      <td>Goalkeeper</td>\n",
              "      <td>13.7</td>\n",
              "    </tr>\n",
              "    <tr>\n",
              "      <th>500</th>\n",
              "      <td>Lloris</td>\n",
              "      <td>Spurs</td>\n",
              "      <td>1</td>\n",
              "      <td>7.8</td>\n",
              "      <td>56</td>\n",
              "      <td>1440</td>\n",
              "      <td>503380</td>\n",
              "      <td>13.0</td>\n",
              "      <td>73</td>\n",
              "      <td>4.0</td>\n",
              "      <td>Goalkeeper</td>\n",
              "      <td>13.0</td>\n",
              "    </tr>\n",
              "    <tr>\n",
              "      <th>414</th>\n",
              "      <td>Darlow</td>\n",
              "      <td>Newcastle</td>\n",
              "      <td>1</td>\n",
              "      <td>4.8</td>\n",
              "      <td>50</td>\n",
              "      <td>1440</td>\n",
              "      <td>265662</td>\n",
              "      <td>12.2</td>\n",
              "      <td>61</td>\n",
              "      <td>2.8</td>\n",
              "      <td>Goalkeeper</td>\n",
              "      <td>12.2</td>\n",
              "    </tr>\n",
              "    <tr>\n",
              "      <th>543</th>\n",
              "      <td>Johnstone</td>\n",
              "      <td>West Brom</td>\n",
              "      <td>1</td>\n",
              "      <td>2.1</td>\n",
              "      <td>45</td>\n",
              "      <td>1530</td>\n",
              "      <td>257394</td>\n",
              "      <td>12.0</td>\n",
              "      <td>54</td>\n",
              "      <td>2.2</td>\n",
              "      <td>Goalkeeper</td>\n",
              "      <td>12.0</td>\n",
              "    </tr>\n",
              "    <tr>\n",
              "      <th>249</th>\n",
              "      <td>Schmeichel</td>\n",
              "      <td>Leicester</td>\n",
              "      <td>1</td>\n",
              "      <td>9.5</td>\n",
              "      <td>55</td>\n",
              "      <td>1530</td>\n",
              "      <td>374706</td>\n",
              "      <td>11.5</td>\n",
              "      <td>63</td>\n",
              "      <td>3.5</td>\n",
              "      <td>Goalkeeper</td>\n",
              "      <td>11.5</td>\n",
              "    </tr>\n",
              "  </tbody>\n",
              "</table>\n",
              "</div>"
            ],
            "text/plain": [
              "    second_name         team  element_type  ... form    position  value\n",
              "33     Martínez  Aston Villa             1  ...  6.0  Goalkeeper   16.3\n",
              "297     Meslier        Leeds             1  ...  4.2  Goalkeeper   15.2\n",
              "473    McCarthy  Southampton             1  ...  4.5  Goalkeeper   15.1\n",
              "565   Fabianski     West Ham             1  ...  2.6  Goalkeeper   13.9\n",
              "112        Pope      Burnley             1  ...  6.6  Goalkeeper   13.9\n",
              "7          Leno      Arsenal             1  ...  4.3  Goalkeeper   13.7\n",
              "500      Lloris        Spurs             1  ...  4.0  Goalkeeper   13.0\n",
              "414      Darlow    Newcastle             1  ...  2.8  Goalkeeper   12.2\n",
              "543   Johnstone    West Brom             1  ...  2.2  Goalkeeper   12.0\n",
              "249  Schmeichel    Leicester             1  ...  3.5  Goalkeeper   11.5\n",
              "\n",
              "[10 rows x 12 columns]"
            ]
          },
          "metadata": {
            "tags": []
          },
          "execution_count": 30
        }
      ]
    },
    {
      "cell_type": "code",
      "metadata": {
        "colab": {
          "base_uri": "https://localhost:8080/",
          "height": 0
        },
        "id": "QLp3NC3Iy9e2",
        "outputId": "f35f7b3b-277a-4637-de90-a7af2829d174"
      },
      "source": [
        "def_df.value.hist()"
      ],
      "execution_count": 31,
      "outputs": [
        {
          "output_type": "execute_result",
          "data": {
            "text/plain": [
              "<matplotlib.axes._subplots.AxesSubplot at 0x7efc9551b6a0>"
            ]
          },
          "metadata": {
            "tags": []
          },
          "execution_count": 31
        },
        {
          "output_type": "display_data",
          "data": {
            "image/png": "[encoded data removed]",
            "text/plain": [
              "<Figure size 432x288 with 1 Axes>"
            ]
          },
          "metadata": {
            "tags": [],
            "needs_background": "light"
          }
        }
      ]
    },
    {
      "cell_type": "code",
      "metadata": {
        "colab": {
          "base_uri": "https://localhost:8080/",
          "height": 0
        },
        "id": "6AL56sBTy9e3",
        "outputId": "9fce4477-1b9f-42e5-ecdc-abae34b34cee"
      },
      "source": [
        "def_df.sort_values('value',ascending = False).head(10)"
      ],
      "execution_count": 32,
      "outputs": [
        {
          "output_type": "execute_result",
          "data": {
            "text/html": [
              "<div>\n",
              "<style scoped>\n",
              "    .dataframe tbody tr th:only-of-type {\n",
              "        vertical-align: middle;\n",
              "    }\n",
              "\n",
              "    .dataframe tbody tr th {\n",
              "        vertical-align: top;\n",
              "    }\n",
              "\n",
              "    .dataframe thead th {\n",
              "        text-align: right;\n",
              "    }\n",
              "</style>\n",
              "<table border=\"1\" class=\"dataframe\">\n",
              "  <thead>\n",
              "    <tr style=\"text-align: right;\">\n",
              "      <th></th>\n",
              "      <th>second_name</th>\n",
              "      <th>team</th>\n",
              "      <th>element_type</th>\n",
              "      <th>selected_by_percent</th>\n",
              "      <th>now_cost</th>\n",
              "      <th>minutes</th>\n",
              "      <th>transfers_in</th>\n",
              "      <th>value_season</th>\n",
              "      <th>total_points</th>\n",
              "      <th>form</th>\n",
              "      <th>position</th>\n",
              "      <th>value</th>\n",
              "    </tr>\n",
              "  </thead>\n",
              "  <tbody>\n",
              "    <tr>\n",
              "      <th>485</th>\n",
              "      <td>Bednarek</td>\n",
              "      <td>Southampton</td>\n",
              "      <td>2</td>\n",
              "      <td>11.4</td>\n",
              "      <td>49</td>\n",
              "      <td>1440</td>\n",
              "      <td>1067785</td>\n",
              "      <td>16.1</td>\n",
              "      <td>79</td>\n",
              "      <td>6.3</td>\n",
              "      <td>Defender</td>\n",
              "      <td>16.1</td>\n",
              "    </tr>\n",
              "    <tr>\n",
              "      <th>284</th>\n",
              "      <td>Dallas</td>\n",
              "      <td>Leeds</td>\n",
              "      <td>2</td>\n",
              "      <td>12.9</td>\n",
              "      <td>48</td>\n",
              "      <td>1520</td>\n",
              "      <td>1319975</td>\n",
              "      <td>14.8</td>\n",
              "      <td>71</td>\n",
              "      <td>6.2</td>\n",
              "      <td>Defender</td>\n",
              "      <td>14.8</td>\n",
              "    </tr>\n",
              "    <tr>\n",
              "      <th>484</th>\n",
              "      <td>Walker-Peters</td>\n",
              "      <td>Southampton</td>\n",
              "      <td>2</td>\n",
              "      <td>12.7</td>\n",
              "      <td>48</td>\n",
              "      <td>1530</td>\n",
              "      <td>1029277</td>\n",
              "      <td>14.4</td>\n",
              "      <td>69</td>\n",
              "      <td>4.8</td>\n",
              "      <td>Defender</td>\n",
              "      <td>14.4</td>\n",
              "    </tr>\n",
              "    <tr>\n",
              "      <th>569</th>\n",
              "      <td>Cresswell</td>\n",
              "      <td>West Ham</td>\n",
              "      <td>2</td>\n",
              "      <td>12.3</td>\n",
              "      <td>54</td>\n",
              "      <td>1530</td>\n",
              "      <td>1428666</td>\n",
              "      <td>14.3</td>\n",
              "      <td>77</td>\n",
              "      <td>4.8</td>\n",
              "      <td>Defender</td>\n",
              "      <td>14.3</td>\n",
              "    </tr>\n",
              "    <tr>\n",
              "      <th>134</th>\n",
              "      <td>Zouma</td>\n",
              "      <td>Chelsea</td>\n",
              "      <td>2</td>\n",
              "      <td>20.4</td>\n",
              "      <td>58</td>\n",
              "      <td>1350</td>\n",
              "      <td>2356501</td>\n",
              "      <td>13.4</td>\n",
              "      <td>78</td>\n",
              "      <td>1.8</td>\n",
              "      <td>Defender</td>\n",
              "      <td>13.4</td>\n",
              "    </tr>\n",
              "    <tr>\n",
              "      <th>566</th>\n",
              "      <td>Ogbonna</td>\n",
              "      <td>West Ham</td>\n",
              "      <td>2</td>\n",
              "      <td>2.3</td>\n",
              "      <td>50</td>\n",
              "      <td>1502</td>\n",
              "      <td>248667</td>\n",
              "      <td>13.2</td>\n",
              "      <td>66</td>\n",
              "      <td>3.4</td>\n",
              "      <td>Defender</td>\n",
              "      <td>13.2</td>\n",
              "    </tr>\n",
              "    <tr>\n",
              "      <th>479</th>\n",
              "      <td>Vestergaard</td>\n",
              "      <td>Southampton</td>\n",
              "      <td>2</td>\n",
              "      <td>4.7</td>\n",
              "      <td>48</td>\n",
              "      <td>1125</td>\n",
              "      <td>1395649</td>\n",
              "      <td>13.1</td>\n",
              "      <td>63</td>\n",
              "      <td>1.8</td>\n",
              "      <td>Defender</td>\n",
              "      <td>13.1</td>\n",
              "    </tr>\n",
              "    <tr>\n",
              "      <th>48</th>\n",
              "      <td>Targett</td>\n",
              "      <td>Aston Villa</td>\n",
              "      <td>2</td>\n",
              "      <td>4.8</td>\n",
              "      <td>46</td>\n",
              "      <td>1350</td>\n",
              "      <td>533502</td>\n",
              "      <td>12.2</td>\n",
              "      <td>56</td>\n",
              "      <td>4.2</td>\n",
              "      <td>Defender</td>\n",
              "      <td>12.2</td>\n",
              "    </tr>\n",
              "    <tr>\n",
              "      <th>270</th>\n",
              "      <td>Justin</td>\n",
              "      <td>Leicester</td>\n",
              "      <td>2</td>\n",
              "      <td>21.5</td>\n",
              "      <td>50</td>\n",
              "      <td>1530</td>\n",
              "      <td>2132810</td>\n",
              "      <td>12.2</td>\n",
              "      <td>61</td>\n",
              "      <td>4.0</td>\n",
              "      <td>Defender</td>\n",
              "      <td>12.2</td>\n",
              "    </tr>\n",
              "    <tr>\n",
              "      <th>596</th>\n",
              "      <td>Saïss</td>\n",
              "      <td>Wolves</td>\n",
              "      <td>2</td>\n",
              "      <td>11.8</td>\n",
              "      <td>51</td>\n",
              "      <td>1057</td>\n",
              "      <td>2049646</td>\n",
              "      <td>12.2</td>\n",
              "      <td>62</td>\n",
              "      <td>4.4</td>\n",
              "      <td>Defender</td>\n",
              "      <td>12.2</td>\n",
              "    </tr>\n",
              "  </tbody>\n",
              "</table>\n",
              "</div>"
            ],
            "text/plain": [
              "       second_name         team  element_type  ... form  position  value\n",
              "485       Bednarek  Southampton             2  ...  6.3  Defender   16.1\n",
              "284         Dallas        Leeds             2  ...  6.2  Defender   14.8\n",
              "484  Walker-Peters  Southampton             2  ...  4.8  Defender   14.4\n",
              "569      Cresswell     West Ham             2  ...  4.8  Defender   14.3\n",
              "134          Zouma      Chelsea             2  ...  1.8  Defender   13.4\n",
              "566        Ogbonna     West Ham             2  ...  3.4  Defender   13.2\n",
              "479    Vestergaard  Southampton             2  ...  1.8  Defender   13.1\n",
              "48         Targett  Aston Villa             2  ...  4.2  Defender   12.2\n",
              "270         Justin    Leicester             2  ...  4.0  Defender   12.2\n",
              "596          Saïss       Wolves             2  ...  4.4  Defender   12.2\n",
              "\n",
              "[10 rows x 12 columns]"
            ]
          },
          "metadata": {
            "tags": []
          },
          "execution_count": 32
        }
      ]
    },
    {
      "cell_type": "code",
      "metadata": {
        "colab": {
          "base_uri": "https://localhost:8080/",
          "height": 0
        },
        "id": "nDdxcBgcy9e3",
        "outputId": "19ddcf7d-48e1-4541-990a-9d6a3011546b"
      },
      "source": [
        "mid_df.sort_values('value',ascending = False).head(10)"
      ],
      "execution_count": 33,
      "outputs": [
        {
          "output_type": "execute_result",
          "data": {
            "text/html": [
              "<div>\n",
              "<style scoped>\n",
              "    .dataframe tbody tr th:only-of-type {\n",
              "        vertical-align: middle;\n",
              "    }\n",
              "\n",
              "    .dataframe tbody tr th {\n",
              "        vertical-align: top;\n",
              "    }\n",
              "\n",
              "    .dataframe thead th {\n",
              "        text-align: right;\n",
              "    }\n",
              "</style>\n",
              "<table border=\"1\" class=\"dataframe\">\n",
              "  <thead>\n",
              "    <tr style=\"text-align: right;\">\n",
              "      <th></th>\n",
              "      <th>second_name</th>\n",
              "      <th>team</th>\n",
              "      <th>element_type</th>\n",
              "      <th>selected_by_percent</th>\n",
              "      <th>now_cost</th>\n",
              "      <th>minutes</th>\n",
              "      <th>transfers_in</th>\n",
              "      <th>value_season</th>\n",
              "      <th>total_points</th>\n",
              "      <th>form</th>\n",
              "      <th>position</th>\n",
              "      <th>value</th>\n",
              "    </tr>\n",
              "  </thead>\n",
              "  <tbody>\n",
              "    <tr>\n",
              "      <th>582</th>\n",
              "      <td>Soucek</td>\n",
              "      <td>West Ham</td>\n",
              "      <td>3</td>\n",
              "      <td>11.2</td>\n",
              "      <td>52</td>\n",
              "      <td>1530</td>\n",
              "      <td>1193514</td>\n",
              "      <td>14.8</td>\n",
              "      <td>77</td>\n",
              "      <td>5.6</td>\n",
              "      <td>Midfielder</td>\n",
              "      <td>14.8</td>\n",
              "    </tr>\n",
              "    <tr>\n",
              "      <th>507</th>\n",
              "      <td>Son</td>\n",
              "      <td>Spurs</td>\n",
              "      <td>3</td>\n",
              "      <td>63.6</td>\n",
              "      <td>98</td>\n",
              "      <td>1346</td>\n",
              "      <td>5759215</td>\n",
              "      <td>13.5</td>\n",
              "      <td>132</td>\n",
              "      <td>6.4</td>\n",
              "      <td>Midfielder</td>\n",
              "      <td>13.5</td>\n",
              "    </tr>\n",
              "    <tr>\n",
              "      <th>608</th>\n",
              "      <td>Lomba Neto</td>\n",
              "      <td>Wolves</td>\n",
              "      <td>3</td>\n",
              "      <td>16.5</td>\n",
              "      <td>60</td>\n",
              "      <td>1351</td>\n",
              "      <td>1649715</td>\n",
              "      <td>13.3</td>\n",
              "      <td>80</td>\n",
              "      <td>5.0</td>\n",
              "      <td>Midfielder</td>\n",
              "      <td>13.3</td>\n",
              "    </tr>\n",
              "    <tr>\n",
              "      <th>480</th>\n",
              "      <td>Ward-Prowse</td>\n",
              "      <td>Southampton</td>\n",
              "      <td>3</td>\n",
              "      <td>12.2</td>\n",
              "      <td>62</td>\n",
              "      <td>1530</td>\n",
              "      <td>1908397</td>\n",
              "      <td>12.7</td>\n",
              "      <td>79</td>\n",
              "      <td>3.0</td>\n",
              "      <td>Midfielder</td>\n",
              "      <td>12.7</td>\n",
              "    </tr>\n",
              "    <tr>\n",
              "      <th>43</th>\n",
              "      <td>Grealish</td>\n",
              "      <td>Aston Villa</td>\n",
              "      <td>3</td>\n",
              "      <td>37.1</td>\n",
              "      <td>77</td>\n",
              "      <td>1350</td>\n",
              "      <td>4265668</td>\n",
              "      <td>12.6</td>\n",
              "      <td>97</td>\n",
              "      <td>4.8</td>\n",
              "      <td>Midfielder</td>\n",
              "      <td>12.6</td>\n",
              "    </tr>\n",
              "    <tr>\n",
              "      <th>287</th>\n",
              "      <td>Harrison</td>\n",
              "      <td>Leeds</td>\n",
              "      <td>3</td>\n",
              "      <td>2.4</td>\n",
              "      <td>54</td>\n",
              "      <td>1309</td>\n",
              "      <td>465559</td>\n",
              "      <td>12.4</td>\n",
              "      <td>67</td>\n",
              "      <td>5.4</td>\n",
              "      <td>Midfielder</td>\n",
              "      <td>12.4</td>\n",
              "    </tr>\n",
              "    <tr>\n",
              "      <th>171</th>\n",
              "      <td>Zaha</td>\n",
              "      <td>Crystal Palace</td>\n",
              "      <td>3</td>\n",
              "      <td>20.7</td>\n",
              "      <td>74</td>\n",
              "      <td>1340</td>\n",
              "      <td>3671996</td>\n",
              "      <td>12.0</td>\n",
              "      <td>89</td>\n",
              "      <td>2.8</td>\n",
              "      <td>Midfielder</td>\n",
              "      <td>12.0</td>\n",
              "    </tr>\n",
              "    <tr>\n",
              "      <th>282</th>\n",
              "      <td>Klich</td>\n",
              "      <td>Leeds</td>\n",
              "      <td>3</td>\n",
              "      <td>4.8</td>\n",
              "      <td>55</td>\n",
              "      <td>1401</td>\n",
              "      <td>1045146</td>\n",
              "      <td>12.0</td>\n",
              "      <td>66</td>\n",
              "      <td>2.8</td>\n",
              "      <td>Midfielder</td>\n",
              "      <td>12.0</td>\n",
              "    </tr>\n",
              "    <tr>\n",
              "      <th>386</th>\n",
              "      <td>Borges Fernandes</td>\n",
              "      <td>Man Utd</td>\n",
              "      <td>3</td>\n",
              "      <td>53.7</td>\n",
              "      <td>113</td>\n",
              "      <td>1299</td>\n",
              "      <td>4235511</td>\n",
              "      <td>11.5</td>\n",
              "      <td>130</td>\n",
              "      <td>8.3</td>\n",
              "      <td>Midfielder</td>\n",
              "      <td>11.5</td>\n",
              "    </tr>\n",
              "    <tr>\n",
              "      <th>74</th>\n",
              "      <td>March</td>\n",
              "      <td>Brighton</td>\n",
              "      <td>3</td>\n",
              "      <td>1.4</td>\n",
              "      <td>50</td>\n",
              "      <td>1312</td>\n",
              "      <td>267571</td>\n",
              "      <td>11.2</td>\n",
              "      <td>56</td>\n",
              "      <td>2.8</td>\n",
              "      <td>Midfielder</td>\n",
              "      <td>11.2</td>\n",
              "    </tr>\n",
              "  </tbody>\n",
              "</table>\n",
              "</div>"
            ],
            "text/plain": [
              "          second_name            team  element_type  ... form    position  value\n",
              "582            Soucek        West Ham             3  ...  5.6  Midfielder   14.8\n",
              "507               Son           Spurs             3  ...  6.4  Midfielder   13.5\n",
              "608        Lomba Neto          Wolves             3  ...  5.0  Midfielder   13.3\n",
              "480       Ward-Prowse     Southampton             3  ...  3.0  Midfielder   12.7\n",
              "43           Grealish     Aston Villa             3  ...  4.8  Midfielder   12.6\n",
              "287          Harrison           Leeds             3  ...  5.4  Midfielder   12.4\n",
              "171              Zaha  Crystal Palace             3  ...  2.8  Midfielder   12.0\n",
              "282             Klich           Leeds             3  ...  2.8  Midfielder   12.0\n",
              "386  Borges Fernandes         Man Utd             3  ...  8.3  Midfielder   11.5\n",
              "74              March        Brighton             3  ...  2.8  Midfielder   11.2\n",
              "\n",
              "[10 rows x 12 columns]"
            ]
          },
          "metadata": {
            "tags": []
          },
          "execution_count": 33
        }
      ]
    },
    {
      "cell_type": "markdown",
      "metadata": {
        "id": "ite4wPLUy9e4"
      },
      "source": [
        "### Export to Excel"
      ]
    },
    {
      "cell_type": "code",
      "metadata": {
        "colab": {
          "base_uri": "https://localhost:8080/",
          "height": 314
        },
        "id": "xtU8g8Ewy9e4",
        "outputId": "395e5ee9-ff45-4d15-af84-343d0d52bd79"
      },
      "source": [
        "filter_elements_df.to_csv('~/Desktop/fpl_data.csv')"
      ],
      "execution_count": 34,
      "outputs": [
        {
          "output_type": "error",
          "ename": "FileNotFoundError",
          "evalue": "ignored",
          "traceback": [
            "\u001b[0;31m---------------------------------------------------------------------------\u001b[0m",
            "\u001b[0;31mFileNotFoundError\u001b[0m                         Traceback (most recent call last)",
            "\u001b[0;32m<ipython-input-34-b239eda2c69b>\u001b[0m in \u001b[0;36m<module>\u001b[0;34m()\u001b[0m\n\u001b[0;32m----> 1\u001b[0;31m \u001b[0mfilter_elements_df\u001b[0m\u001b[0;34m.\u001b[0m\u001b[0mto_csv\u001b[0m\u001b[0;34m(\u001b[0m\u001b[0;34m'~/Desktop/fpl_data.csv'\u001b[0m\u001b[0;34m)\u001b[0m\u001b[0;34m\u001b[0m\u001b[0;34m\u001b[0m\u001b[0m\n\u001b[0m",
            "\u001b[0;32m/usr/local/lib/python3.6/dist-packages/pandas/core/generic.py\u001b[0m in \u001b[0;36mto_csv\u001b[0;34m(self, path_or_buf, sep, na_rep, float_format, columns, header, index, index_label, mode, encoding, compression, quoting, quotechar, line_terminator, chunksize, date_format, doublequote, escapechar, decimal, errors)\u001b[0m\n\u001b[1;32m   3168\u001b[0m             \u001b[0mdecimal\u001b[0m\u001b[0;34m=\u001b[0m\u001b[0mdecimal\u001b[0m\u001b[0;34m,\u001b[0m\u001b[0;34m\u001b[0m\u001b[0;34m\u001b[0m\u001b[0m\n\u001b[1;32m   3169\u001b[0m         )\n\u001b[0;32m-> 3170\u001b[0;31m         \u001b[0mformatter\u001b[0m\u001b[0;34m.\u001b[0m\u001b[0msave\u001b[0m\u001b[0;34m(\u001b[0m\u001b[0;34m)\u001b[0m\u001b[0;34m\u001b[0m\u001b[0;34m\u001b[0m\u001b[0m\n\u001b[0m\u001b[1;32m   3171\u001b[0m \u001b[0;34m\u001b[0m\u001b[0m\n\u001b[1;32m   3172\u001b[0m         \u001b[0;32mif\u001b[0m \u001b[0mpath_or_buf\u001b[0m \u001b[0;32mis\u001b[0m \u001b[0;32mNone\u001b[0m\u001b[0;34m:\u001b[0m\u001b[0;34m\u001b[0m\u001b[0;34m\u001b[0m\u001b[0m\n",
            "\u001b[0;32m/usr/local/lib/python3.6/dist-packages/pandas/io/formats/csvs.py\u001b[0m in \u001b[0;36msave\u001b[0;34m(self)\u001b[0m\n\u001b[1;32m    188\u001b[0m                 \u001b[0mencoding\u001b[0m\u001b[0;34m=\u001b[0m\u001b[0mself\u001b[0m\u001b[0;34m.\u001b[0m\u001b[0mencoding\u001b[0m\u001b[0;34m,\u001b[0m\u001b[0;34m\u001b[0m\u001b[0;34m\u001b[0m\u001b[0m\n\u001b[1;32m    189\u001b[0m                 \u001b[0merrors\u001b[0m\u001b[0;34m=\u001b[0m\u001b[0mself\u001b[0m\u001b[0;34m.\u001b[0m\u001b[0merrors\u001b[0m\u001b[0;34m,\u001b[0m\u001b[0;34m\u001b[0m\u001b[0;34m\u001b[0m\u001b[0m\n\u001b[0;32m--> 190\u001b[0;31m                 \u001b[0mcompression\u001b[0m\u001b[0;34m=\u001b[0m\u001b[0mdict\u001b[0m\u001b[0;34m(\u001b[0m\u001b[0mself\u001b[0m\u001b[0;34m.\u001b[0m\u001b[0mcompression_args\u001b[0m\u001b[0;34m,\u001b[0m \u001b[0mmethod\u001b[0m\u001b[0;34m=\u001b[0m\u001b[0mself\u001b[0m\u001b[0;34m.\u001b[0m\u001b[0mcompression\u001b[0m\u001b[0;34m)\u001b[0m\u001b[0;34m,\u001b[0m\u001b[0;34m\u001b[0m\u001b[0;34m\u001b[0m\u001b[0m\n\u001b[0m\u001b[1;32m    191\u001b[0m             )\n\u001b[1;32m    192\u001b[0m             \u001b[0mclose\u001b[0m \u001b[0;34m=\u001b[0m \u001b[0;32mTrue\u001b[0m\u001b[0;34m\u001b[0m\u001b[0;34m\u001b[0m\u001b[0m\n",
            "\u001b[0;32m/usr/local/lib/python3.6/dist-packages/pandas/io/common.py\u001b[0m in \u001b[0;36mget_handle\u001b[0;34m(path_or_buf, mode, encoding, compression, memory_map, is_text, errors)\u001b[0m\n\u001b[1;32m    491\u001b[0m         \u001b[0;32mif\u001b[0m \u001b[0mencoding\u001b[0m\u001b[0;34m:\u001b[0m\u001b[0;34m\u001b[0m\u001b[0;34m\u001b[0m\u001b[0m\n\u001b[1;32m    492\u001b[0m             \u001b[0;31m# Encoding\u001b[0m\u001b[0;34m\u001b[0m\u001b[0;34m\u001b[0m\u001b[0;34m\u001b[0m\u001b[0m\n\u001b[0;32m--> 493\u001b[0;31m             \u001b[0mf\u001b[0m \u001b[0;34m=\u001b[0m \u001b[0mopen\u001b[0m\u001b[0;34m(\u001b[0m\u001b[0mpath_or_buf\u001b[0m\u001b[0;34m,\u001b[0m \u001b[0mmode\u001b[0m\u001b[0;34m,\u001b[0m \u001b[0mencoding\u001b[0m\u001b[0;34m=\u001b[0m\u001b[0mencoding\u001b[0m\u001b[0;34m,\u001b[0m \u001b[0merrors\u001b[0m\u001b[0;34m=\u001b[0m\u001b[0merrors\u001b[0m\u001b[0;34m,\u001b[0m \u001b[0mnewline\u001b[0m\u001b[0;34m=\u001b[0m\u001b[0;34m\"\"\u001b[0m\u001b[0;34m)\u001b[0m\u001b[0;34m\u001b[0m\u001b[0;34m\u001b[0m\u001b[0m\n\u001b[0m\u001b[1;32m    494\u001b[0m         \u001b[0;32melif\u001b[0m \u001b[0mis_text\u001b[0m\u001b[0;34m:\u001b[0m\u001b[0;34m\u001b[0m\u001b[0;34m\u001b[0m\u001b[0m\n\u001b[1;32m    495\u001b[0m             \u001b[0;31m# No explicit encoding\u001b[0m\u001b[0;34m\u001b[0m\u001b[0;34m\u001b[0m\u001b[0;34m\u001b[0m\u001b[0m\n",
            "\u001b[0;31mFileNotFoundError\u001b[0m: [Errno 2] No such file or directory: '/root/Desktop/fpl_data.csv'"
          ]
        }
      ]
    },
    {
      "cell_type": "markdown",
      "metadata": {
        "id": "Cer1loIPy9e5"
      },
      "source": [
        "### Download Player History"
      ]
    },
    {
      "cell_type": "markdown",
      "metadata": {
        "id": "TgMbGr2hy9e5"
      },
      "source": [
        "#### View entire DataFrame"
      ]
    },
    {
      "cell_type": "code",
      "metadata": {
        "id": "lYNw--6wy9e6"
      },
      "source": [
        "pd.options.display.max_columns = None"
      ],
      "execution_count": null,
      "outputs": []
    },
    {
      "cell_type": "markdown",
      "metadata": {
        "id": "UlDzZ_45y9e6"
      },
      "source": [
        "r"
      ]
    },
    {
      "cell_type": "markdown",
      "metadata": {
        "id": "xBSWFcJ6y9e7"
      },
      "source": [
        "### JSON object holds all data together"
      ]
    },
    {
      "cell_type": "code",
      "metadata": {
        "id": "XUpgQRmky9e7"
      },
      "source": [
        "json"
      ],
      "execution_count": null,
      "outputs": []
    },
    {
      "cell_type": "markdown",
      "metadata": {
        "id": "JgLYSoC7y9e8"
      },
      "source": [
        "### Build and Test for a loop"
      ]
    },
    {
      "cell_type": "code",
      "metadata": {
        "id": "gzi8gd7Hy9e8"
      },
      "source": [
        "url = f'https://fantasy.premierleague.com/api/element-summary/{element_id}/'"
      ],
      "execution_count": null,
      "outputs": []
    },
    {
      "cell_type": "code",
      "metadata": {
        "id": "fI8Fs384y9e9"
      },
      "source": [
        "for x in elements_df.index[:10] :\n",
        "    element_id = elements_df.id[x]  #loop thru first 5 elements\n",
        "    element_name = elements_df.first_name[x] \n",
        "    print(x)\n",
        "    print(element_id)\n",
        "    print(element_name)"
      ],
      "execution_count": null,
      "outputs": []
    },
    {
      "cell_type": "code",
      "metadata": {
        "id": "TYV9KTSgy9e9"
      },
      "source": [
        "elements_df.first_name[0]"
      ],
      "execution_count": null,
      "outputs": []
    },
    {
      "cell_type": "markdown",
      "metadata": {
        "id": "zDJ6un1Ky9e-"
      },
      "source": [
        "### F-String Formatting"
      ]
    },
    {
      "cell_type": "markdown",
      "metadata": {
        "id": "cRQoQ6Q9y9e-"
      },
      "source": [
        "#### Without"
      ]
    },
    {
      "cell_type": "code",
      "metadata": {
        "id": "FilytVNJy9e_"
      },
      "source": [
        "your_name = \"David\"\n",
        "print(\"Hi, my name is {your_name}\")"
      ],
      "execution_count": null,
      "outputs": []
    },
    {
      "cell_type": "markdown",
      "metadata": {
        "id": "UmOk2ZMdy9e_"
      },
      "source": [
        "### With "
      ]
    },
    {
      "cell_type": "code",
      "metadata": {
        "id": "IeszgIegy9e_"
      },
      "source": [
        "print(f\"Hi, my name is {your_name}\")"
      ],
      "execution_count": null,
      "outputs": []
    },
    {
      "cell_type": "code",
      "metadata": {
        "id": "bEUZ1l_zy9fA"
      },
      "source": [
        ""
      ],
      "execution_count": null,
      "outputs": []
    }
  ]
}